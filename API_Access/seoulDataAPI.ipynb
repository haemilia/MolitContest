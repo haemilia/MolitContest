{
 "cells": [
  {
   "cell_type": "code",
   "execution_count": 1,
   "metadata": {},
   "outputs": [],
   "source": [
    "f = open(\"C:/Users/lhi30/Haein/2023/YBIGTA/DA/Project/HaeinAPIKey.txt\", \"r\")\n",
    "API_Key = f.readline()\n",
    "API_Key = API_Key.strip(\"\\n\")\n",
    "decoded_API_Key =f.readline()\n",
    "f.close()"
   ]
  },
  {
   "cell_type": "code",
   "execution_count": 2,
   "metadata": {},
   "outputs": [],
   "source": [
    "API_Key = decoded_API_Key"
   ]
  },
  {
   "cell_type": "code",
   "execution_count": 3,
   "metadata": {},
   "outputs": [],
   "source": [
    "import pandas as pd\n",
    "import numpy as np\n",
    "import requests\n",
    "from bs4 import BeautifulSoup"
   ]
  },
  {
   "cell_type": "code",
   "execution_count": 4,
   "metadata": {},
   "outputs": [],
   "source": [
    "def sigunguDF(data):\n",
    "    item_list = data.find_all('item')\n",
    "    data_list = []\n",
    "    for item in item_list:\n",
    "        if(item.find(\"kaptName\")!=None):\n",
    "            Complex_Name = item.find(\"kaptName\").get_text()\n",
    "        else:\n",
    "            Complex_Name = item.find(\"kaptname\").get_text()\n",
    "        \n",
    "        if(item.find(\"kaptCode\")!=None):\n",
    "            kaptCode = item.find(\"kaptCode\").get_text()\n",
    "        else:\n",
    "            kaptCode = item.find(\"kaptcode\").get_text()\n",
    "\n",
    "        if(item.find(\"bjdCode\")!=None):\n",
    "            bjdCode = item.find(\"bjdCode\").get_text()\n",
    "        else:\n",
    "            bjdCode = item.find(\"bjdcode\").get_text()\n",
    "\n",
    "        data_dict = {\n",
    "                \"Complex_Name\": Complex_Name,\n",
    "                \"kaptCode\": kaptCode,\n",
    "                \"bjdCode\": bjdCode,\n",
    "            }\n",
    "        data_list.append(data_dict)\n",
    "\n",
    "    df = pd.DataFrame(data_list)\n",
    "    return df"
   ]
  },
  {
   "cell_type": "code",
   "execution_count": 5,
   "metadata": {},
   "outputs": [],
   "source": [
    "def getSigunguAptList(API_Key, code):\n",
    "    \"\"\"\n",
    "    Input sigunguCode to get list of Apartment complexes and their codes\n",
    "    code -- sigunguCode input; Code of the region given by the government\n",
    "    \"\"\"\n",
    "    url = \"http://apis.data.go.kr/1613000/AptListService2/getSigunguAptList\"\n",
    "    params ={'serviceKey' : API_Key , \n",
    "             'sigunguCode' : code, \n",
    "             'pageNo': 1,\n",
    "             }\n",
    "\n",
    "    response = requests.get(url, params=params)\n",
    "    first_data = BeautifulSoup(response.text, \"xml\")\n",
    "\n",
    "    df_init = sigunguDF(first_data)\n",
    "    if(first_data.find('totalCount')!=None):\n",
    "        total = int(first_data.find('totalCount').get_text())\n",
    "    else:\n",
    "        total = int(first_data.find('totalcount').get_text())\n",
    "\n",
    "    totPage = (total // 10) + 2\n",
    "    \n",
    "    for page in range(2,totPage):    \n",
    "        url = \"http://apis.data.go.kr/1613000/AptListService2/getSigunguAptList\"\n",
    "        params ={'serviceKey' : API_Key , \n",
    "                'sigunguCode' : code, \n",
    "                'pageNo': page}\n",
    "\n",
    "        response = requests.get(url, params=params)\n",
    "        data = BeautifulSoup(response.text, \"xml\")\n",
    "        df = sigunguDF(data)\n",
    "        df_init = pd.concat([df_init, df], ignore_index=True)\n",
    "        \n",
    "    return df_init"
   ]
  },
  {
   "cell_type": "code",
   "execution_count": 6,
   "metadata": {},
   "outputs": [],
   "source": [
    "def AddInfo(df):\n",
    "    AptList = []\n",
    "    for Apt in df['kaptCode']:\n",
    "        url = \"http://apis.data.go.kr/1613000/AptBasisInfoService1/getAphusBassInfo\"\n",
    "        params ={'serviceKey' : API_Key , \n",
    "            'kaptCode' : Apt, \n",
    "            }\n",
    "        response = requests.get(url, params=params)\n",
    "        data = BeautifulSoup(response.text, \"xml\")\n",
    "        if(data.find('kaptdaCnt') != None):\n",
    "            Household_Num = data.find('kaptdaCnt').get_text()\n",
    "        elif(data.find('kaptdacnt')!=None): \n",
    "            Household_Num = data.find('kaptdacnt').get_text()\n",
    "        else: Household_Num = np.nan\n",
    "\n",
    "        if(data.find('kaptUsedate')!=None):\n",
    "            Begin_Date = data.find('kaptUsedate').get_text()\n",
    "        elif(data.find('kaptusedate')!=None):\n",
    "            Begin_Date = data.find('kaptusedate').get_text()\n",
    "        else: Begin_Date = np.nan\n",
    "\n",
    "        if(data.find('codeHeatNm')!=None):\n",
    "            Heating_Method = data.find('codeHeatNm').get_text()\n",
    "        elif(data.find('codeheatnm')!=None): \n",
    "            Heating_Method = data.find('codeheatnm').get_text()\n",
    "        else:\n",
    "            Heating_Method = np.nan\n",
    "\n",
    "        if(data.find('codeAptNm')!=None):\n",
    "            House_Type = data.find('codeAptNm').get_text()\n",
    "        elif(data.find('codeaptnm')!=None): \n",
    "            House_Type = data.find('codeaptnm').get_text()\n",
    "        else:\n",
    "            House_Type = np.nan\n",
    "\n",
    "        data_dict = {\n",
    "        \"kaptCode\": Apt,\n",
    "        \"Household_Num\":Household_Num,\n",
    "        \"Begin_Date\":Begin_Date,\n",
    "        \"Heating_Method\":Heating_Method,\n",
    "        \"House_Type\":House_Type,\n",
    "        }\n",
    "        AptList.append(data_dict)\n",
    "\n",
    "    df_2 = pd.DataFrame(AptList)\n",
    "    df = df.merge(df_2, on= \"kaptCode\")\n",
    "    return df\n"
   ]
  },
  {
   "cell_type": "code",
   "execution_count": 8,
   "metadata": {},
   "outputs": [],
   "source": [
    "def cityIn(sigunguCode, API_Key, GuName):\n",
    "    data =  getSigunguAptList(API_Key, sigunguCode)\n",
    "    data = AddInfo(data)\n",
    "    display(data)\n",
    "    data.to_csv(f\"C:/Users/lhi30/Haein/2023/YBIGTA/DA/Project/Share/AptList/{GuName}.csv\")"
   ]
  },
  {
   "cell_type": "code",
   "execution_count": 9,
   "metadata": {},
   "outputs": [],
   "source": [
    "cityIn(11305, API_Key, \"Gangbuk_Gu\")"
   ]
  }
 ],
 "metadata": {
  "kernelspec": {
   "display_name": "thumbenv",
   "language": "python",
   "name": "thumbenv"
  },
  "language_info": {
   "codemirror_mode": {
    "name": "ipython",
    "version": 3
   },
   "file_extension": ".py",
   "mimetype": "text/x-python",
   "name": "python",
   "nbconvert_exporter": "python",
   "pygments_lexer": "ipython3",
   "version": "3.9.16"
  },
  "orig_nbformat": 4
 },
 "nbformat": 4,
 "nbformat_minor": 2
}
