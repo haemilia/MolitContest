{
 "cells": [
  {
   "cell_type": "code",
   "execution_count": 2,
   "metadata": {},
   "outputs": [],
   "source": [
    "f = open(\"C:/Users/lhi30/Haein/2023/YBIGTA/DA/Project/HaeinAPIKey.txt\", \"r\")\n",
    "API_Key = f.readline()\n",
    "API_Key = API_Key.strip(\"\\n\")\n",
    "decoded_API_Key =f.readline()\n",
    "f.close()\n",
    "API_Key = decoded_API_Key"
   ]
  },
  {
   "cell_type": "code",
   "execution_count": 3,
   "metadata": {},
   "outputs": [],
   "source": [
    "import pandas as pd\n",
    "import numpy as np\n",
    "import requests\n",
    "from bs4 import BeautifulSoup"
   ]
  },
  {
   "cell_type": "code",
   "execution_count": 4,
   "metadata": {},
   "outputs": [
    {
     "data": {
      "text/plain": [
       "['Dobong_Gu_Only.csv',\n",
       " 'Dongdaemun_Gu_Only.csv',\n",
       " 'Dongjak_Gu_Only.csv',\n",
       " 'Eunpyeong_Gu_Only.csv',\n",
       " 'Gangbuk_Gu_Only.csv',\n",
       " 'Gangdong_Gu_Only.csv',\n",
       " 'Gangnam_Gu_Only.csv',\n",
       " 'Gangseo_Gu_Only.csv',\n",
       " 'Geumcheon_Gu_Only.csv',\n",
       " 'Guro_Gu_Only.csv',\n",
       " 'Gwanak_Gu_Only.csv',\n",
       " 'Gwangjin_Gu_Only.csv',\n",
       " 'Jongno_Gu_Only.csv',\n",
       " 'Jungnang_Gu_Only.csv',\n",
       " 'Jung_Gu_Only.csv',\n",
       " 'Mapo_Gu_Only.csv',\n",
       " 'Nowon_Gu_Only.csv',\n",
       " 'Seocho_Gu_Only.csv',\n",
       " 'Seodaemun_Gu_Only.csv',\n",
       " 'Seongbuk_Gu_Only.csv',\n",
       " 'Seongdong_Gu_Only.csv',\n",
       " 'Seoul_Only.csv',\n",
       " 'Songpa_Gu_Only.csv',\n",
       " 'Yangcheon_Gu_Only.csv',\n",
       " 'Yeongdeungpo_Gu_Only.csv',\n",
       " 'Yongsan_Gu_Only.csv']"
      ]
     },
     "execution_count": 4,
     "metadata": {},
     "output_type": "execute_result"
    }
   ],
   "source": [
    "import os\n",
    "csv_list = os.listdir('C:/Users/lhi30/Haein/2023/YBIGTA/DA/Project/Share/AptOnly')\n",
    "csv_list"
   ]
  },
  {
   "cell_type": "code",
   "execution_count": 5,
   "metadata": {},
   "outputs": [
    {
     "data": {
      "text/plain": [
       "'Seoul_Only.csv'"
      ]
     },
     "execution_count": 5,
     "metadata": {},
     "output_type": "execute_result"
    }
   ],
   "source": [
    "csv_list.pop(21)"
   ]
  },
  {
   "cell_type": "code",
   "execution_count": 6,
   "metadata": {},
   "outputs": [
    {
     "data": {
      "text/plain": [
       "25"
      ]
     },
     "execution_count": 6,
     "metadata": {},
     "output_type": "execute_result"
    }
   ],
   "source": [
    "len(csv_list)"
   ]
  },
  {
   "cell_type": "code",
   "execution_count": 7,
   "metadata": {},
   "outputs": [],
   "source": [
    "def getheatC(API_Key, kaptCode, searchDate):\n",
    "        url = 'http://apis.data.go.kr/1611000/AptIndvdlzManageCostService/getHsmpHeatCostInfo'\n",
    "        params ={'serviceKey' : API_Key, 'kaptCode' : kaptCode, 'searchDate' : searchDate }\n",
    "\n",
    "        response = requests.get(url, params=params)\n",
    "\n",
    "        data = BeautifulSoup(response.text, \"xml\")\n",
    "\n",
    "        if(data.find('heatC')!=None):\n",
    "            heatC = data.find('heatC').get_text()\n",
    "        elif(data.find('heatc')!=None):\n",
    "             heatC = data.find('heatc').get_text()\n",
    "        else:\n",
    "            heatC = np.nan\n",
    "        if(data.find('heatP')!=None):\n",
    "            heatP = data.find('heatP').get_text()\n",
    "        elif(data.find('heatp')!=None):\n",
    "             heatP = data.find('heatp').get_text()\n",
    "        else:\n",
    "            heatP = np.nan\n",
    "            \n",
    "        return np.array([heatC, heatP])"
   ]
  },
  {
   "cell_type": "code",
   "execution_count": 8,
   "metadata": {},
   "outputs": [],
   "source": [
    "def getgasC(API_Key, kaptCode, searchDate):\n",
    "    url = 'http://apis.data.go.kr/1611000/AptIndvdlzManageCostService/getHsmpGasRentalFeeInfo'\n",
    "    params ={'serviceKey' : API_Key, 'kaptCode' : kaptCode, 'searchDate' : searchDate }\n",
    "\n",
    "    response = requests.get(url, params=params)\n",
    "\n",
    "    data = BeautifulSoup(response.text, \"xml\")\n",
    "\n",
    "    if(data.find('gasC')!=None):\n",
    "        gasC = data.find('gasC').get_text()\n",
    "    elif(data.find('gasc')!=None):\n",
    "        gasC = data.find('gasc').get_text()\n",
    "    else:\n",
    "        gasC = np.nan\n",
    "    if(data.find('gasP')!=None):\n",
    "        gasP = data.find('gasP').get_text()\n",
    "    elif(data.find('gasp')!=None):\n",
    "        gasP = data.find('gasp').get_text()\n",
    "    else:\n",
    "        gasP = np.nan\n",
    "    return np.array([gasC, gasP])"
   ]
  },
  {
   "cell_type": "code",
   "execution_count": 9,
   "metadata": {},
   "outputs": [],
   "source": [
    "def getwaterHotC(API_Key, kaptCode, searchDate):\n",
    "    url = 'http://apis.data.go.kr/1611000/AptIndvdlzManageCostService/getHsmpHotWaterCostInfo'\n",
    "    params ={'serviceKey' : API_Key, 'kaptCode' : kaptCode, 'searchDate' : searchDate }\n",
    "\n",
    "    response = requests.get(url, params=params)\n",
    "\n",
    "    data = BeautifulSoup(response.text, \"xml\")\n",
    "    if(data.find('waterHotC')!=None):\n",
    "        waterHotC = data.find('waterHotC').get_text()\n",
    "    elif(data.find('waterhotc')!=None):\n",
    "        waterHotC = data.find('waterhotc').get_text()\n",
    "    else:\n",
    "        waterHotC = np.nan\n",
    "    if(data.find('waterHotP')!=None):\n",
    "        waterHotP = data.find('waterHotP').get_text()\n",
    "    elif(data.find('waterhotc')!=None):\n",
    "        waterHotP = data.find('waterhotp').get_text()\n",
    "    else:\n",
    "        waterHotP = np.nan\n",
    "    \n",
    "    return np.array([waterHotC, waterHotP])"
   ]
  },
  {
   "cell_type": "code",
   "execution_count": 10,
   "metadata": {},
   "outputs": [],
   "source": [
    "def getelectC(API_Key, kaptCode, searchDate):\n",
    "    url = 'http://apis.data.go.kr/1611000/AptIndvdlzManageCostService/getHsmpElectricityCostInfo'\n",
    "    params ={'serviceKey' : API_Key, 'kaptCode' : kaptCode, 'searchDate' : searchDate }\n",
    "\n",
    "    response = requests.get(url, params=params)\n",
    "\n",
    "    data = BeautifulSoup(response.text, \"xml\")\n",
    "\n",
    "\n",
    "    if(data.find('electC')!=None):\n",
    "        electC = data.find('electC').get_text()\n",
    "    elif(data.find('electc')!=None):\n",
    "        electC = data.find('electc').get_text()\n",
    "    else:\n",
    "        electC = np.nan\n",
    "    if(data.find('electP')!=None):\n",
    "        electP = data.find('electP').get_text()\n",
    "    elif(data.find('electp')!=None):\n",
    "        electP = data.find('electp').get_text()\n",
    "    else:\n",
    "        electP = np.nan\n",
    "    return np.array([electC, electP])"
   ]
  },
  {
   "cell_type": "code",
   "execution_count": 11,
   "metadata": {},
   "outputs": [],
   "source": [
    "def getwaterCoolC(API_Key, kaptCode, searchDate):\n",
    "    url = 'http://apis.data.go.kr/1611000/AptIndvdlzManageCostService/getHsmpWaterCostInfo'\n",
    "    params ={'serviceKey' : API_Key, 'kaptCode' : kaptCode, 'searchDate' : searchDate }\n",
    "\n",
    "    response = requests.get(url, params=params)\n",
    "\n",
    "\n",
    "    data = BeautifulSoup(response.text, \"xml\")\n",
    "    if(data.find('waterCoolC')!=None):\n",
    "        waterCoolC = data.find('waterCoolC').get_text()\n",
    "    elif(data.find('watercoolc')!=None):\n",
    "        waterCoolC = data.find('watercoolc').get_text()\n",
    "    else:\n",
    "        waterCoolC = np.nan\n",
    "    if(data.find('waterCoolP')!=None):\n",
    "        waterCoolP = data.find('waterCoolP').get_text()\n",
    "    elif(data.find('watercoolp')!=None):\n",
    "        waterCoolP = data.find('watercoolp').get_text()\n",
    "    else:\n",
    "        waterCoolP = np.nan\n",
    "    return np.array([waterCoolC, waterCoolP])"
   ]
  },
  {
   "cell_type": "code",
   "execution_count": 13,
   "metadata": {},
   "outputs": [],
   "source": [
    "def getEnergyCost(Apt, API_Key, searchDate):\n",
    "    Apt_data = pd.read_csv(f'C:/Users/lhi30/Haein/2023/YBIGTA/DA/Project/Share/AptOnly/{Apt}')\n",
    "    Apt_Code = Apt_data['kaptCode']\n",
    "    rows = []\n",
    "    for AptCode in Apt_Code:\n",
    "        kaptCode = AptCode\n",
    "        heat= getheatC(API_Key, kaptCode, searchDate)\n",
    "        heatC, heatP = heat[0], heat[1]\n",
    "        gas = getgasC(API_Key, kaptCode, searchDate)\n",
    "        gasC, gasP = gas[0], gas[1]\n",
    "        waterHot = getwaterHotC(API_Key, kaptCode, searchDate)\n",
    "        waterHotC, waterHotP = waterHot[0], waterHot[1]\n",
    "        elect = getelectC(API_Key, kaptCode, searchDate)\n",
    "        electC, electP = elect[0], elect[1]\n",
    "        waterCool =getwaterCoolC(API_Key, kaptCode, searchDate)\n",
    "        waterCoolC, waterCoolP = waterCool[0], waterCool[1]\n",
    "\n",
    "        data_dict = {\n",
    "            \"kaptCode\": kaptCode,\n",
    "            \"heatC\": heatC,\n",
    "            \"heatP\": heatP,\n",
    "            \"gasC\": gasC,\n",
    "            \"gasP\" : gasP,\n",
    "            \"waterHotC\": waterHotC,\n",
    "            \"waterHotP\" : waterHotP,\n",
    "            \"electC\": electC,\n",
    "            \"electP\": electP,\n",
    "            \"waterCoolC\": waterCoolC,\n",
    "            \"waterCoolP\": waterCoolP\n",
    "            }\n",
    "        rows.append(data_dict)\n",
    "    Apt_df =pd.DataFrame(rows) \n",
    "    return Apt_df\n",
    "        "
   ]
  },
  {
   "cell_type": "code",
   "execution_count": 33,
   "metadata": {},
   "outputs": [],
   "source": [
    "searchDate = ['202201', '202202', '202203', '202204', '202205', '202206', '202207', '202208', '202209',\n",
    "         '202210', '202211', '202212']\n",
    "AptList = ['Dobong_Gu_Only.csv',\n",
    " 'Dongjak_Gu_Only.csv',\n",
    " 'Eunpyeong_Gu_Only.csv',\n",
    " 'Gangbuk_Gu_Only.csv',\n",
    " 'Gangdong_Gu_Only.csv',\n",
    " 'Gangnam_Gu_Only.csv',\n",
    " 'Gangseo_Gu_Only.csv',]"
   ]
  },
  {
   "attachments": {},
   "cell_type": "markdown",
   "metadata": {},
   "source": []
  },
  {
   "cell_type": "code",
   "execution_count": null,
   "metadata": {},
   "outputs": [],
   "source": [
    "for Apt in AptList:\n",
    "    for Date in searchDate:\n",
    "        dff = getEnergyCost(Apt, API_Key, Date)\n",
    "        date = np.zeros(len(dff))\n",
    "        date.fill(int(dList[i]))\n",
    "        date = pd.DataFrame(Date, columns = [\"Date\"])\n",
    "        dff = pd.concat([dff, Date], axis = 1)\n",
    "        display(dff)\n",
    "        Apt = Apt[:-9]\n",
    "        directory = f'C:/Users/lhi30/Haein/2023/YBIGTA/DA/Project/Share/AptEnergy/{Apt}'\n",
    "\n",
    "        if not os.path.exists(directory):\n",
    "            os.makedirs(directory)\n",
    "            dff.to_csv(f'C:/Users/lhi30/Haein/2023/YBIGTA/DA/Project/Share/AptEnergy/{Apt}/{Date}')\n",
    "            print(\"Directory created.\")\n",
    "        else:\n",
    "            dff.to_csv(f'C:/Users/lhi30/Haein/2023/YBIGTA/DA/Project/Share/AptEnergy/{Apt}/{Date}')"
   ]
  },
  {
   "cell_type": "code",
   "execution_count": 7,
   "metadata": {},
   "outputs": [],
   "source": [
    "dList = ['202201', '202202', '202203', '202204', '202205', '202206', '202207', '202208', '202209',\n",
    "         '202210', '202211', '202212']\n",
    "\n"
   ]
  }
 ],
 "metadata": {
  "kernelspec": {
   "display_name": "thumbenv",
   "language": "python",
   "name": "thumbenv"
  },
  "language_info": {
   "codemirror_mode": {
    "name": "ipython",
    "version": 3
   },
   "file_extension": ".py",
   "mimetype": "text/x-python",
   "name": "python",
   "nbconvert_exporter": "python",
   "pygments_lexer": "ipython3",
   "version": "3.9.16"
  },
  "orig_nbformat": 4
 },
 "nbformat": 4,
 "nbformat_minor": 2
}
