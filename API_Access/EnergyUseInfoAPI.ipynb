{
 "cells": [
  {
   "cell_type": "markdown",
   "metadata": {
    "id": "KXuD3KFGMxf7"
   },
   "source": [
    "## 지번별 건물 에너지 사용량\n",
    "+ 데이터명: 국토교통부 '건물에너지정보 서비스'\n",
    "+ 데이터 유형: xml\n",
    "+ 요청인자: 시군구코드, 법정동코드, 번, 지, 사용년월(YYYYMM)\n",
    "+ 출력값: 사용량(useQty)\n",
    "\n",
    "[공공데이터 링크](https://www.data.go.kr/data/15054212/openapi.do)"
   ]
  },
  {
   "cell_type": "code",
   "execution_count": null,
   "metadata": {
    "id": "xtXtD3zULU0k"
   },
   "outputs": [],
   "source": [
    "import requests\n",
    "import json\n",
    "from bs4 import BeautifulSoup\n",
    "\n",
    "url = 'http://apis.data.go.kr/1611000/BldEngyService/getBeElctyUsgInfo'\n",
    "params ={'serviceKey' : 'cTP7canYYa8SBQuAJzDFlO4fCg/krijsJXe3oW448oTBx8pj3b0rMaBzLpDN/AdIZim2GBbEuN1C6fIrSQ4K2w==', 'numOfRows' : '10', 'pageNo' : '1', 'sigunguCd' : '41290', 'bjdongCd' : '10700', 'bun' : '0101', 'ji' : '0000', 'useYm' : '202204' }\n",
    "\n",
    "response = requests.get(url, params=params)\n",
    "data = BeautifulSoup(response.text, 'lxml')\n",
    "item = data.find_all(\"item\")"
   ]
  },
  {
   "cell_type": "code",
   "execution_count": null,
   "metadata": {
    "id": "hdw2Zti6Nm9v"
   },
   "outputs": [],
   "source": [
    "row_list = [] # 행값\n",
    "name_list = [] # 열이름값\n",
    "value_list = [] # 데이터값\n",
    "\n",
    "for i in range(0, len(item)):\n",
    "    columns = item[i].find_all()\n",
    "    for j in range(0,len(columns)):\n",
    "        if i == 0:\n",
    "            name_list.append(columns[j].name)\n",
    "        value_list.append(columns[j].text)\n",
    "    row_list.append(value_list)\n",
    "    value_list=[]"
   ]
  },
  {
   "cell_type": "markdown",
   "metadata": {
    "id": "iZmPA1y8S2Ph"
   },
   "source": [
    "name_list = ['법정동코드', '번', '지', '새주소본번', '새주소도로코드', '새주소부번', '도로명대지위치', '대지구분코드', '대지위치', '순번', '시군구코드', '사용량', '사용년월']"
   ]
  },
  {
   "cell_type": "code",
   "execution_count": null,
   "metadata": {
    "colab": {
     "base_uri": "https://localhost:8080/"
    },
    "id": "brsorzwrSjOG",
    "outputId": "0fe96acb-2325-4b8d-fb97-4b921b9654ad"
   },
   "outputs": [
    {
     "name": "stdout",
     "output_type": "stream",
     "text": [
      "[]\n"
     ]
    }
   ],
   "source": [
    "print(name_list)"
   ]
  },
  {
   "cell_type": "markdown",
   "metadata": {
    "id": "Kz5xvFUEPNUK"
   },
   "source": [
    "## 단지별 에너지 사용량\n",
    "+ 데이터명: 국토교통부 '공동주택 에너지 사용 정보'\n",
    "+ 데이터 유형: xml\n",
    "+ 요청인자: 서비스키, 단지코드, 발생년월(YYYYMM)\n",
    "+ 출력값: 난방사용량(금액), 급탕사용량(금액), 가스사용량(금액), 전기사용량(금액), 수도사용량(금액)\n",
    "\n",
    "[공공데이터 링크](https://www.data.go.kr/data/15012964/openapi.do)"
   ]
  },
  {
   "cell_type": "markdown",
   "metadata": {
    "id": "WbEYJYnXQWHI"
   },
   "source": [
    "### 단지코드 불러오기"
   ]
  },
  {
   "cell_type": "code",
   "execution_count": 1,
   "metadata": {
    "id": "nCoLp9bYX33W"
   },
   "outputs": [],
   "source": [
    "import pandas as pd\n",
    "import numpy as np\n",
    "import requests\n",
    "from bs4 import BeautifulSoup\n",
    "import os\n",
    "import time"
   ]
  },
  {
   "cell_type": "code",
   "execution_count": null,
   "metadata": {
    "id": "NaNip9l5Z77A"
   },
   "outputs": [],
   "source": [
    "# 구글 드라이브 연결\n",
    "from google.colab import drive\n",
    "drive.mount('/content/drive')"
   ]
  },
  {
   "cell_type": "code",
   "execution_count": null,
   "metadata": {
    "colab": {
     "base_uri": "https://localhost:8080/"
    },
    "id": "2wOIXxW5t02D",
    "outputId": "e98ddbe5-27bc-49f0-dce2-b800281fd180"
   },
   "outputs": [
    {
     "name": "stdout",
     "output_type": "stream",
     "text": [
      "/content/drive/MyDrive/국토교통데이터활용공모전\n",
      "Cloning into 'MolitContest'...\n",
      "remote: Enumerating objects: 59, done.\u001b[K\n",
      "remote: Counting objects: 100% (59/59), done.\u001b[K\n",
      "remote: Compressing objects: 100% (52/52), done.\u001b[K\n",
      "remote: Total 59 (delta 7), reused 21 (delta 2), pack-reused 0\u001b[K\n",
      "Unpacking objects: 100% (59/59), 83.56 KiB | 161.00 KiB/s, done.\n"
     ]
    }
   ],
   "source": [
    "# github 연결하기\n",
    "%cd '/content/drive/MyDrive/국토교통데이터활용공모전'\n",
    "!git clone https://github.com/haemilia/MolitContest.git"
   ]
  },
  {
   "cell_type": "code",
   "execution_count": 2,
   "metadata": {
    "id": "snzkQRB2uUWJ"
   },
   "outputs": [],
   "source": [
    "# AptList 폴더 내 자치구별 파일 리스트 불러오기\n",
    "data_path = '../AptList'\n",
    "file_list = os.listdir(data_path)"
   ]
  },
  {
   "cell_type": "code",
   "execution_count": 3,
   "metadata": {
    "colab": {
     "base_uri": "https://localhost:8080/"
    },
    "id": "2keG2C5MlShB",
    "outputId": "dc28c2ce-e777-459e-fd18-6ba2272aaa4c"
   },
   "outputs": [
    {
     "data": {
      "text/plain": [
       "['Dobong_Gu.csv',\n",
       " 'Dobong_more.csv',\n",
       " 'Dongdaemun_Gu.csv',\n",
       " 'Dongdaemun_more.csv',\n",
       " 'Dongjak_Gu.csv',\n",
       " 'Dongjak_more.csv',\n",
       " 'Eunpyeong_Gu.csv',\n",
       " 'Eunpyeong_more.csv',\n",
       " 'Gangbuk_Gu.csv',\n",
       " 'Gangbuk_more.csv',\n",
       " 'Gangdong_Gu.csv',\n",
       " 'Gangdong_more.csv',\n",
       " 'Gangnam_Gu.csv',\n",
       " 'Gangnam_more.csv',\n",
       " 'Gangseo_Gu.csv',\n",
       " 'Gangseo_more.csv',\n",
       " 'Geumcheon_Gu.csv',\n",
       " 'Geumcheon_more.csv',\n",
       " 'Guro_Gu.csv',\n",
       " 'Guro_more.csv',\n",
       " 'Gwanak_Gu.csv',\n",
       " 'Gwanak_more.csv',\n",
       " 'GwangJin_Gu.csv',\n",
       " 'Gwangjin_more.csv',\n",
       " 'Jongno_Gu.csv',\n",
       " 'Jongno_more.csv',\n",
       " 'Jungnang_Gu.csv',\n",
       " 'Jungnang_more.csv',\n",
       " 'Jung_Gu.csv',\n",
       " 'Jung_more.csv',\n",
       " 'Mapo_Gu.csv',\n",
       " 'Mapo_more.csv',\n",
       " 'Nowon_Gu.csv',\n",
       " 'Nowon_more.csv',\n",
       " 'Seocho_Gu.csv',\n",
       " 'Seocho_more.csv',\n",
       " 'Seodaemun_Gu.csv',\n",
       " 'Seodaemun_more.csv',\n",
       " 'SeongBuk_Gu.csv',\n",
       " 'Seongbuk_more.csv',\n",
       " 'Seongdong_Gu.csv',\n",
       " 'Seongdong_more.csv',\n",
       " 'Songpa_Gu.csv',\n",
       " 'Songpa_more.csv',\n",
       " 'Yangcheon_Gu.csv',\n",
       " 'Yangcheon_more.csv',\n",
       " 'Yeongdeungpo_Gu.csv',\n",
       " 'Yeongdeungpo_more.csv',\n",
       " 'YongSan_Gu.csv',\n",
       " 'Yongsan_more.csv']"
      ]
     },
     "execution_count": 3,
     "metadata": {},
     "output_type": "execute_result"
    }
   ],
   "source": [
    "file_list"
   ]
  },
  {
   "cell_type": "code",
   "execution_count": 4,
   "metadata": {
    "id": "7HS2XbzcQn5R"
   },
   "outputs": [],
   "source": [
    "# 구별 단지 코드 불러오는 함수 생성\n",
    "def getDanjiCode(Gu):\n",
    "  data_path = '../AptList/'\n",
    "  gu_df = pd.read_csv(data_path + Gu, encoding = 'utf-8')\n",
    "  danji_codes = gu_df['kaptCode']\n",
    "  return danji_codes"
   ]
  },
  {
   "cell_type": "code",
   "execution_count": null,
   "metadata": {
    "id": "pHC3tbQXlX-P"
   },
   "outputs": [],
   "source": [
    "danji_codes = getDanjiCode(file_list[1])\n",
    "energy_df = getEnergyUse([\"A13789002\"], \"202209\")"
   ]
  },
  {
   "cell_type": "code",
   "execution_count": null,
   "metadata": {
    "colab": {
     "base_uri": "https://localhost:8080/",
     "height": 81
    },
    "id": "E7D5CbqXmExc",
    "outputId": "e4ae50e5-935d-4900-960b-92a0bc7cec56"
   },
   "outputs": [
    {
     "data": {
      "text/html": [
       "\n",
       "  <div id=\"df-8d38954a-9691-40a0-b404-c5029e0eb2a1\">\n",
       "    <div class=\"colab-df-container\">\n",
       "      <div>\n",
       "<style scoped>\n",
       "    .dataframe tbody tr th:only-of-type {\n",
       "        vertical-align: middle;\n",
       "    }\n",
       "\n",
       "    .dataframe tbody tr th {\n",
       "        vertical-align: top;\n",
       "    }\n",
       "\n",
       "    .dataframe thead th {\n",
       "        text-align: right;\n",
       "    }\n",
       "</style>\n",
       "<table border=\"1\" class=\"dataframe\">\n",
       "  <thead>\n",
       "    <tr style=\"text-align: right;\">\n",
       "      <th></th>\n",
       "      <th>code</th>\n",
       "      <th>date</th>\n",
       "      <th>elect</th>\n",
       "      <th>gas</th>\n",
       "      <th>heat</th>\n",
       "      <th>watercool</th>\n",
       "      <th>waterhot</th>\n",
       "    </tr>\n",
       "  </thead>\n",
       "  <tbody>\n",
       "    <tr>\n",
       "      <th>0</th>\n",
       "      <td>A13789002</td>\n",
       "      <td>202209</td>\n",
       "      <td>37543</td>\n",
       "      <td>0</td>\n",
       "      <td>0</td>\n",
       "      <td>1819</td>\n",
       "      <td>0</td>\n",
       "    </tr>\n",
       "  </tbody>\n",
       "</table>\n",
       "</div>\n",
       "      <button class=\"colab-df-convert\" onclick=\"convertToInteractive('df-8d38954a-9691-40a0-b404-c5029e0eb2a1')\"\n",
       "              title=\"Convert this dataframe to an interactive table.\"\n",
       "              style=\"display:none;\">\n",
       "        \n",
       "  <svg xmlns=\"http://www.w3.org/2000/svg\" height=\"24px\"viewBox=\"0 0 24 24\"\n",
       "       width=\"24px\">\n",
       "    <path d=\"M0 0h24v24H0V0z\" fill=\"none\"/>\n",
       "    <path d=\"M18.56 5.44l.94 2.06.94-2.06 2.06-.94-2.06-.94-.94-2.06-.94 2.06-2.06.94zm-11 1L8.5 8.5l.94-2.06 2.06-.94-2.06-.94L8.5 2.5l-.94 2.06-2.06.94zm10 10l.94 2.06.94-2.06 2.06-.94-2.06-.94-.94-2.06-.94 2.06-2.06.94z\"/><path d=\"M17.41 7.96l-1.37-1.37c-.4-.4-.92-.59-1.43-.59-.52 0-1.04.2-1.43.59L10.3 9.45l-7.72 7.72c-.78.78-.78 2.05 0 2.83L4 21.41c.39.39.9.59 1.41.59.51 0 1.02-.2 1.41-.59l7.78-7.78 2.81-2.81c.8-.78.8-2.07 0-2.86zM5.41 20L4 18.59l7.72-7.72 1.47 1.35L5.41 20z\"/>\n",
       "  </svg>\n",
       "      </button>\n",
       "      \n",
       "  <style>\n",
       "    .colab-df-container {\n",
       "      display:flex;\n",
       "      flex-wrap:wrap;\n",
       "      gap: 12px;\n",
       "    }\n",
       "\n",
       "    .colab-df-convert {\n",
       "      background-color: #E8F0FE;\n",
       "      border: none;\n",
       "      border-radius: 50%;\n",
       "      cursor: pointer;\n",
       "      display: none;\n",
       "      fill: #1967D2;\n",
       "      height: 32px;\n",
       "      padding: 0 0 0 0;\n",
       "      width: 32px;\n",
       "    }\n",
       "\n",
       "    .colab-df-convert:hover {\n",
       "      background-color: #E2EBFA;\n",
       "      box-shadow: 0px 1px 2px rgba(60, 64, 67, 0.3), 0px 1px 3px 1px rgba(60, 64, 67, 0.15);\n",
       "      fill: #174EA6;\n",
       "    }\n",
       "\n",
       "    [theme=dark] .colab-df-convert {\n",
       "      background-color: #3B4455;\n",
       "      fill: #D2E3FC;\n",
       "    }\n",
       "\n",
       "    [theme=dark] .colab-df-convert:hover {\n",
       "      background-color: #434B5C;\n",
       "      box-shadow: 0px 1px 3px 1px rgba(0, 0, 0, 0.15);\n",
       "      filter: drop-shadow(0px 1px 2px rgba(0, 0, 0, 0.3));\n",
       "      fill: #FFFFFF;\n",
       "    }\n",
       "  </style>\n",
       "\n",
       "      <script>\n",
       "        const buttonEl =\n",
       "          document.querySelector('#df-8d38954a-9691-40a0-b404-c5029e0eb2a1 button.colab-df-convert');\n",
       "        buttonEl.style.display =\n",
       "          google.colab.kernel.accessAllowed ? 'block' : 'none';\n",
       "\n",
       "        async function convertToInteractive(key) {\n",
       "          const element = document.querySelector('#df-8d38954a-9691-40a0-b404-c5029e0eb2a1');\n",
       "          const dataTable =\n",
       "            await google.colab.kernel.invokeFunction('convertToInteractive',\n",
       "                                                     [key], {});\n",
       "          if (!dataTable) return;\n",
       "\n",
       "          const docLinkHtml = 'Like what you see? Visit the ' +\n",
       "            '<a target=\"_blank\" href=https://colab.research.google.com/notebooks/data_table.ipynb>data table notebook</a>'\n",
       "            + ' to learn more about interactive tables.';\n",
       "          element.innerHTML = '';\n",
       "          dataTable['output_type'] = 'display_data';\n",
       "          await google.colab.output.renderOutput(dataTable, element);\n",
       "          const docLink = document.createElement('div');\n",
       "          docLink.innerHTML = docLinkHtml;\n",
       "          element.appendChild(docLink);\n",
       "        }\n",
       "      </script>\n",
       "    </div>\n",
       "  </div>\n",
       "  "
      ],
      "text/plain": [
       "        code    date  elect gas heat watercool waterhot\n",
       "0  A13789002  202209  37543   0    0      1819        0"
      ]
     },
     "execution_count": 59,
     "metadata": {},
     "output_type": "execute_result"
    }
   ],
   "source": [
    "energy_df"
   ]
  },
  {
   "cell_type": "markdown",
   "metadata": {
    "id": "oSciS3kdUdCm"
   },
   "source": [
    "### 단지별 난방, 급탕, 가스, 전기, 수도 사용량 불러오기\n",
    "\n",
    "+ 우리가 비교하고 싶은 기간이 언제부터 언제까지인지 결정"
   ]
  },
  {
   "cell_type": "code",
   "execution_count": null,
   "metadata": {
    "colab": {
     "base_uri": "https://localhost:8080/"
    },
    "id": "K0uEU-uHA01P",
    "outputId": "1ac0e6c2-531f-4b43-c1a6-02b34c8bc6ff"
   },
   "outputs": [
    {
     "data": {
      "text/plain": [
       "<?xml version=\"1.0\" encoding=\"utf-8\"?>\n",
       "<response><header><resultCode>00</resultCode><resultMsg>NORMAL SERVICE.</resultMsg></header><body><item><elect>21531800</elect><gas>0</gas><heat>0</heat><helect>132451</helect><hgas>0</hgas><hheat>0</hheat><hwaterCool>7344</hwaterCool><hwaterHot>0</hwaterHot><kaptCode>A13203302</kaptCode><waterCool>6564380</waterCool><waterHot>0</waterHot></item></body></response>"
      ]
     },
     "execution_count": 15,
     "metadata": {},
     "output_type": "execute_result"
    }
   ],
   "source": [
    "API_key = 'cTP7canYYa8SBQuAJzDFlO4fCg/krijsJXe3oW448oTBx8pj3b0rMaBzLpDN/AdIZim2GBbEuN1C6fIrSQ4K2w=='\n",
    "url = 'http://apis.data.go.kr/1611000/ApHusEnergyUseInfoOfferService/getHsmpApHusUsgQtyInfoSearch'\n",
    "\n",
    "params ={'serviceKey' : API_key,\n",
    "              'kaptCode' : \"A13203302\",\n",
    "              'reqDate' : \"202201\"}\n",
    "\n",
    "response = requests.get(url, params)\n",
    "data = BeautifulSoup(response.text, \"xml\")\n",
    "data"
   ]
  },
  {
   "cell_type": "code",
   "execution_count": 35,
   "metadata": {
    "id": "ePgVnyfLUGBI"
   },
   "outputs": [],
   "source": [
    "def getEnergyUse(danji_codes, date):\n",
    "\n",
    "  error = 0\n",
    "  API_key = 'cTP7canYYa8SBQuAJzDFlO4fCg/krijsJXe3oW448oTBx8pj3b0rMaBzLpDN/AdIZim2GBbEuN1C6fIrSQ4K2w=='\n",
    "  url = 'http://apis.data.go.kr/1611000/ApHusEnergyUseInfoOfferService/getHsmpApHusUsgQtyInfoSearch'\n",
    "\n",
    "  energyUse_list = []\n",
    "\n",
    "  for code in danji_codes:\n",
    "    \n",
    "    params ={'serviceKey' : API_key,\n",
    "              'kaptCode' : code,\n",
    "              'reqDate' : date}\n",
    "    \n",
    "    try: \n",
    "        response = requests.get(url, params)\n",
    "        data = BeautifulSoup(response.text, \"xml\")\n",
    "    \n",
    "    except:\n",
    "        time.sleep(2)\n",
    "\n",
    "        response = requests.get(url, params)\n",
    "        data = BeautifulSoup(response.text, \"xml\")\n",
    "\n",
    "        \n",
    "    if(data.find('helect') == None):\n",
    "      error += 1\n",
    "      continue\n",
    "    elif(data.find('helect').get_text() == \"0\"):\n",
    "      continue\n",
    "    else:\n",
    "      elect = data.find('helect').get_text()\n",
    "\n",
    "    gas = data.find('hgas').get_text()\n",
    "\n",
    "    heat = data.find('hheat').get_text()\n",
    "\n",
    "    watercool = data.find('hwaterCool').get_text()\n",
    "\n",
    "    waterhot = data.find('hwaterHot').get_text()\n",
    "\n",
    "    data = {\n",
    "        'code': code,\n",
    "        'date': date,\n",
    "        'elect': elect,\n",
    "        'gas': gas,\n",
    "        'heat': heat,\n",
    "        'watercool': watercool,\n",
    "        'waterhot': waterhot\n",
    "    }\n",
    "\n",
    "    energyUse_list.append(data)\n",
    "\n",
    "  energy_df = pd.DataFrame(energyUse_list)\n",
    "  print(error)\n",
    "\n",
    "  return energy_df"
   ]
  },
  {
   "cell_type": "markdown",
   "metadata": {
    "id": "AUiq-G5gwIql"
   },
   "source": [
    "### 3. 특정 기간 내 단지별 개별 에너지 사용량 csv로 저장\n"
   ]
  },
  {
   "cell_type": "code",
   "execution_count": 37,
   "metadata": {
    "colab": {
     "base_uri": "https://localhost:8080/"
    },
    "id": "I9_eyi4K6Lq5",
    "outputId": "253ec89d-2acd-4af1-99fe-4f616702b08b"
   },
   "outputs": [
    {
     "name": "stdout",
     "output_type": "stream",
     "text": [
      "['202101', '202102', '202103', '202104', '202105', '202106', '202107', '202108', '202109', '202110', '202111', '202112', '202201', '202202', '202203', '202204', '202205', '202206', '202207', '202208', '202209', '202210', '202211', '202212', '202301', '202302', '202303', '202304']\n"
     ]
    }
   ],
   "source": [
    "# 특정 기간 내 date list(YYYYMM) 생성\n",
    "import datetime\n",
    "\n",
    "start_date = datetime.date(2021, 1, 1)\n",
    "end_date = datetime.date(2023, 4, 30)\n",
    "\n",
    "date_list = []\n",
    "current_date = start_date\n",
    "\n",
    "while current_date <= end_date:\n",
    "    date_string = current_date.strftime(\"%Y%m\")\n",
    "    date_list.append(date_string)\n",
    "    current_date = current_date.replace(day=1) + datetime.timedelta(days=32)\n",
    "    current_date = current_date.replace(day=1)\n",
    "\n",
    "print(date_list)"
   ]
  },
  {
   "cell_type": "code",
   "execution_count": 16,
   "metadata": {
    "id": "FFFJoNcn-qKG"
   },
   "outputs": [],
   "source": [
    "# getDanjiCode로 특정 자치구의 단지 코드 불러오기\n",
    "# for문과 getEnergyUse로 기간별 단지별 에너지 사용량 불러오기\n",
    "def getGuEnergyDF(Gu_file):\n",
    "  danji_codes = getDanjiCode(Gu_file)\n",
    "\n",
    "  energy_df = pd.DataFrame()\n",
    "  for date in date_list:\n",
    "    df = getEnergyUse(danji_codes, date)\n",
    "    energy_df = pd.concat([energy_df, df], ignore_index=True)\n",
    "\n",
    "  save_path = f'../EnergyUseInfo/energy_{Gu_file}'\n",
    "\n",
    "  if os.path.isfile(save_path):\n",
    "    existing_df = pd.read_csv(save_path)\n",
    "    energy_df = pd.concat([existing_df, energy_df], ignore_index=True)\n",
    "\n",
    "    energy_df.to_csv(save_path, index=False)\n",
    "  else:\n",
    "    print(\"not existing\")\n",
    "    \n",
    "  print(Gu_file)"
   ]
  },
  {
   "cell_type": "code",
   "execution_count": 39,
   "metadata": {},
   "outputs": [],
   "source": [
    "def getGuEnergyDF(Gu_file):\n",
    "  danji_codes = getDanjiCode(Gu_file)\n",
    "\n",
    "  energy_df = pd.DataFrame()\n",
    "  for date in date_list:\n",
    "    df = getEnergyUse(danji_codes, date)\n",
    "    energy_df = pd.concat([energy_df, df], ignore_index=True)\n",
    "\n",
    "  save_path = f'../EnergyUseInfo/energy_{Gu_file}'\n",
    "\n",
    "  energy_df.to_csv(save_path, index=False)\n",
    "\n",
    "  print(Gu_file)"
   ]
  },
  {
   "cell_type": "code",
   "execution_count": 36,
   "metadata": {
    "id": "rwC-xGbTbsvD"
   },
   "outputs": [
    {
     "name": "stdout",
     "output_type": "stream",
     "text": [
      "142\n",
      "132\n",
      "134\n",
      "135\n",
      "135\n",
      "150\n",
      "133\n",
      "135\n",
      "138\n",
      "147\n",
      "135\n",
      "128\n",
      "Guro_Gu.csv\n",
      "35\n",
      "30\n",
      "20\n",
      "43\n",
      "27\n",
      "37\n",
      "20\n",
      "39\n",
      "42\n",
      "63\n",
      "77\n",
      "62\n",
      "Gwanak_Gu.csv\n",
      "81\n",
      "66\n",
      "81\n",
      "72\n",
      "72\n",
      "81\n",
      "68\n",
      "81\n",
      "79\n",
      "69\n",
      "81\n",
      "69\n",
      "GwangJin_Gu.csv\n",
      "29\n",
      "31\n",
      "31\n",
      "31\n",
      "31\n",
      "31\n",
      "31\n",
      "13\n",
      "30\n",
      "31\n",
      "31\n",
      "30\n",
      "Jongno_Gu.csv\n",
      "100\n",
      "106\n",
      "105\n",
      "101\n",
      "110\n",
      "94\n",
      "113\n",
      "107\n",
      "103\n",
      "102\n",
      "108\n",
      "98\n",
      "Jungnang_Gu.csv\n",
      "46\n",
      "46\n",
      "46\n",
      "43\n",
      "31\n",
      "46\n",
      "46\n",
      "46\n",
      "46\n",
      "42\n",
      "34\n",
      "46\n",
      "Jung_Gu.csv\n",
      "113\n",
      "128\n",
      "111\n",
      "128\n",
      "112\n",
      "128\n",
      "113\n",
      "128\n",
      "113\n",
      "113\n",
      "128\n",
      "110\n",
      "Mapo_Gu.csv\n",
      "200\n",
      "200\n",
      "198\n",
      "200\n",
      "199\n",
      "198\n",
      "201\n",
      "200\n",
      "199\n",
      "196\n",
      "201\n",
      "199\n",
      "Nowon_Gu.csv\n",
      "156\n",
      "175\n",
      "160\n",
      "160\n",
      "161\n",
      "158\n",
      "167\n",
      "164\n",
      "166\n",
      "160\n",
      "157\n",
      "161\n",
      "Seocho_Gu.csv\n",
      "88\n",
      "86\n",
      "77\n",
      "88\n",
      "74\n",
      "88\n",
      "84\n",
      "74\n",
      "88\n",
      "87\n",
      "75\n",
      "88\n",
      "Seodaemun_Gu.csv\n",
      "120\n",
      "134\n",
      "120\n",
      "122\n",
      "132\n",
      "119\n",
      "121\n",
      "133\n",
      "117\n",
      "114\n",
      "132\n",
      "123\n",
      "not existing\n",
      "SeongBuk_Gu.csv\n",
      "103\n",
      "98\n",
      "99\n",
      "113\n",
      "99\n",
      "101\n",
      "104\n",
      "110\n",
      "95\n",
      "99\n",
      "113\n",
      "100\n",
      "Seongdong_Gu.csv\n",
      "138\n",
      "133\n",
      "138\n",
      "139\n",
      "139\n",
      "134\n",
      "138\n",
      "140\n",
      "138\n",
      "137\n",
      "138\n",
      "138\n",
      "Songpa_Gu.csv\n",
      "116\n",
      "132\n",
      "118\n",
      "118\n",
      "117\n",
      "126\n",
      "123\n",
      "116\n",
      "116\n",
      "115\n",
      "117\n",
      "115\n",
      "Yangcheon_Gu.csv\n",
      "150\n",
      "150\n",
      "145\n",
      "142\n",
      "144\n",
      "148\n",
      "148\n",
      "150\n",
      "150\n",
      "150\n",
      "133\n",
      "95\n",
      "Yeongdeungpo_Gu.csv\n",
      "25\n",
      "37\n",
      "42\n",
      "41\n",
      "43\n",
      "44\n",
      "33\n",
      "31\n",
      "41\n",
      "34\n",
      "38\n",
      "45\n",
      "YongSan_Gu.csv\n"
     ]
    }
   ],
   "source": [
    "for gu in file_list[18::2]:\n",
    "  getGuEnergyDF(gu)"
   ]
  },
  {
   "cell_type": "code",
   "execution_count": 40,
   "metadata": {},
   "outputs": [
    {
     "name": "stdout",
     "output_type": "stream",
     "text": [
      "66\n",
      "70\n",
      "66\n",
      "73\n",
      "59\n",
      "68\n",
      "67\n",
      "70\n",
      "66\n",
      "66\n",
      "62\n",
      "64\n",
      "66\n",
      "67\n",
      "76\n",
      "71\n",
      "56\n",
      "69\n",
      "76\n",
      "65\n",
      "73\n",
      "74\n",
      "66\n",
      "56\n",
      "65\n",
      "61\n",
      "70\n",
      "76\n",
      "SeongBuk_Gu.csv\n"
     ]
    }
   ],
   "source": [
    "getGuEnergyDF(file_list[38])"
   ]
  },
  {
   "cell_type": "code",
   "execution_count": null,
   "metadata": {},
   "outputs": [],
   "source": []
  }
 ],
 "metadata": {
  "accelerator": "GPU",
  "colab": {
   "gpuType": "T4",
   "provenance": []
  },
  "kernelspec": {
   "display_name": "Python 3",
   "language": "python",
   "name": "python3"
  },
  "language_info": {
   "codemirror_mode": {
    "name": "ipython",
    "version": 3
   },
   "file_extension": ".py",
   "mimetype": "text/x-python",
   "name": "python",
   "nbconvert_exporter": "python",
   "pygments_lexer": "ipython3",
   "version": "3.8.5"
  }
 },
 "nbformat": 4,
 "nbformat_minor": 1
}
