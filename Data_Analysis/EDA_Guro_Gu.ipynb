{
 "cells": [
  {
   "cell_type": "code",
   "execution_count": 1,
   "metadata": {},
   "outputs": [],
   "source": [
    "import pandas as pd\n",
    "import numpy as np\n",
    "import matplotlib.pyplot as plt\n",
    "import missingno as msno"
   ]
  },
  {
   "cell_type": "code",
   "execution_count": 2,
   "metadata": {},
   "outputs": [],
   "source": [
    "df = pd.read_csv(\"C:/Users/lhi30/Haein/2023/YBIGTA/DA/Project/Share/AptOnly/Guro_Gu_Only.csv\")"
   ]
  },
  {
   "cell_type": "code",
   "execution_count": 3,
   "metadata": {},
   "outputs": [],
   "source": [
    "dfInfo = pd.read_csv(\"C:/Users/lhi30/Haein/2023/YBIGTA/DA/Project/Share/Data_Analysis/Reference.csv\", \n",
    "                     index_col=0)"
   ]
  },
  {
   "cell_type": "code",
   "execution_count": 4,
   "metadata": {},
   "outputs": [
    {
     "data": {
      "text/html": [
       "<div>\n",
       "<style scoped>\n",
       "    .dataframe tbody tr th:only-of-type {\n",
       "        vertical-align: middle;\n",
       "    }\n",
       "\n",
       "    .dataframe tbody tr th {\n",
       "        vertical-align: top;\n",
       "    }\n",
       "\n",
       "    .dataframe thead th {\n",
       "        text-align: right;\n",
       "    }\n",
       "</style>\n",
       "<table border=\"1\" class=\"dataframe\">\n",
       "  <thead>\n",
       "    <tr style=\"text-align: right;\">\n",
       "      <th></th>\n",
       "      <th>kaptCode</th>\n",
       "      <th>bjdCode</th>\n",
       "      <th>Household_Num</th>\n",
       "      <th>Begin_Date</th>\n",
       "      <th>Heating_Method</th>\n",
       "      <th>House_Type</th>\n",
       "      <th>Elec_Con</th>\n",
       "      <th>Elev_Num</th>\n",
       "      <th>Park_Above</th>\n",
       "      <th>Park_Below</th>\n",
       "    </tr>\n",
       "  </thead>\n",
       "  <tbody>\n",
       "    <tr>\n",
       "      <th>0</th>\n",
       "      <td>A15288812</td>\n",
       "      <td>1153010100</td>\n",
       "      <td>853</td>\n",
       "      <td>20030517.0</td>\n",
       "      <td>개별난방</td>\n",
       "      <td>아파트</td>\n",
       "      <td>단일계약</td>\n",
       "      <td>19.0</td>\n",
       "      <td>42.0</td>\n",
       "      <td>1442.0</td>\n",
       "    </tr>\n",
       "    <tr>\n",
       "      <th>1</th>\n",
       "      <td>A15288806</td>\n",
       "      <td>1153010100</td>\n",
       "      <td>408</td>\n",
       "      <td>19921204.0</td>\n",
       "      <td>개별난방</td>\n",
       "      <td>아파트</td>\n",
       "      <td>단일계약</td>\n",
       "      <td>14.0</td>\n",
       "      <td>159.0</td>\n",
       "      <td>93.0</td>\n",
       "    </tr>\n",
       "    <tr>\n",
       "      <th>2</th>\n",
       "      <td>A15288802</td>\n",
       "      <td>1153010100</td>\n",
       "      <td>204</td>\n",
       "      <td>20010920.0</td>\n",
       "      <td>개별난방</td>\n",
       "      <td>아파트</td>\n",
       "      <td>종합계약</td>\n",
       "      <td>5.0</td>\n",
       "      <td>34.0</td>\n",
       "      <td>226.0</td>\n",
       "    </tr>\n",
       "    <tr>\n",
       "      <th>3</th>\n",
       "      <td>A15288805</td>\n",
       "      <td>1153010100</td>\n",
       "      <td>362</td>\n",
       "      <td>20030816.0</td>\n",
       "      <td>개별난방</td>\n",
       "      <td>아파트</td>\n",
       "      <td>단일계약</td>\n",
       "      <td>10.0</td>\n",
       "      <td>37.0</td>\n",
       "      <td>374.0</td>\n",
       "    </tr>\n",
       "    <tr>\n",
       "      <th>4</th>\n",
       "      <td>A15288813</td>\n",
       "      <td>1153010100</td>\n",
       "      <td>1095</td>\n",
       "      <td>19991130.0</td>\n",
       "      <td>개별난방</td>\n",
       "      <td>아파트</td>\n",
       "      <td>단일계약</td>\n",
       "      <td>22.0</td>\n",
       "      <td>152.0</td>\n",
       "      <td>1359.0</td>\n",
       "    </tr>\n",
       "    <tr>\n",
       "      <th>...</th>\n",
       "      <td>...</td>\n",
       "      <td>...</td>\n",
       "      <td>...</td>\n",
       "      <td>...</td>\n",
       "      <td>...</td>\n",
       "      <td>...</td>\n",
       "      <td>...</td>\n",
       "      <td>...</td>\n",
       "      <td>...</td>\n",
       "      <td>...</td>\n",
       "    </tr>\n",
       "    <tr>\n",
       "      <th>127</th>\n",
       "      <td>A10024849</td>\n",
       "      <td>1153011200</td>\n",
       "      <td>337</td>\n",
       "      <td>20200603.0</td>\n",
       "      <td>지역난방</td>\n",
       "      <td>아파트</td>\n",
       "      <td>종합계약</td>\n",
       "      <td>9.0</td>\n",
       "      <td>0.0</td>\n",
       "      <td>500.0</td>\n",
       "    </tr>\n",
       "    <tr>\n",
       "      <th>128</th>\n",
       "      <td>A10024927</td>\n",
       "      <td>1153011200</td>\n",
       "      <td>345</td>\n",
       "      <td>20200227.0</td>\n",
       "      <td>지역난방</td>\n",
       "      <td>아파트</td>\n",
       "      <td>종합계약</td>\n",
       "      <td>13.0</td>\n",
       "      <td>67.0</td>\n",
       "      <td>386.0</td>\n",
       "    </tr>\n",
       "    <tr>\n",
       "      <th>129</th>\n",
       "      <td>A10025115</td>\n",
       "      <td>1153011200</td>\n",
       "      <td>419</td>\n",
       "      <td>20191206.0</td>\n",
       "      <td>지역난방</td>\n",
       "      <td>아파트</td>\n",
       "      <td>종합계약</td>\n",
       "      <td>14.0</td>\n",
       "      <td>12.0</td>\n",
       "      <td>649.0</td>\n",
       "    </tr>\n",
       "    <tr>\n",
       "      <th>130</th>\n",
       "      <td>A10025193</td>\n",
       "      <td>1153011200</td>\n",
       "      <td>634</td>\n",
       "      <td>20190927.0</td>\n",
       "      <td>지역난방</td>\n",
       "      <td>아파트</td>\n",
       "      <td>단일계약</td>\n",
       "      <td>52.0</td>\n",
       "      <td>7.0</td>\n",
       "      <td>816.0</td>\n",
       "    </tr>\n",
       "    <tr>\n",
       "      <th>131</th>\n",
       "      <td>A10025302</td>\n",
       "      <td>1153011200</td>\n",
       "      <td>297</td>\n",
       "      <td>20190531.0</td>\n",
       "      <td>지역난방</td>\n",
       "      <td>아파트</td>\n",
       "      <td>단일계약</td>\n",
       "      <td>26.0</td>\n",
       "      <td>0.0</td>\n",
       "      <td>310.0</td>\n",
       "    </tr>\n",
       "  </tbody>\n",
       "</table>\n",
       "<p>132 rows × 10 columns</p>\n",
       "</div>"
      ],
      "text/plain": [
       "      kaptCode     bjdCode  Household_Num  Begin_Date Heating_Method  \\\n",
       "0    A15288812  1153010100            853  20030517.0           개별난방   \n",
       "1    A15288806  1153010100            408  19921204.0           개별난방   \n",
       "2    A15288802  1153010100            204  20010920.0           개별난방   \n",
       "3    A15288805  1153010100            362  20030816.0           개별난방   \n",
       "4    A15288813  1153010100           1095  19991130.0           개별난방   \n",
       "..         ...         ...            ...         ...            ...   \n",
       "127  A10024849  1153011200            337  20200603.0           지역난방   \n",
       "128  A10024927  1153011200            345  20200227.0           지역난방   \n",
       "129  A10025115  1153011200            419  20191206.0           지역난방   \n",
       "130  A10025193  1153011200            634  20190927.0           지역난방   \n",
       "131  A10025302  1153011200            297  20190531.0           지역난방   \n",
       "\n",
       "    House_Type Elec_Con  Elev_Num  Park_Above  Park_Below  \n",
       "0          아파트     단일계약      19.0        42.0      1442.0  \n",
       "1          아파트     단일계약      14.0       159.0        93.0  \n",
       "2          아파트     종합계약       5.0        34.0       226.0  \n",
       "3          아파트     단일계약      10.0        37.0       374.0  \n",
       "4          아파트     단일계약      22.0       152.0      1359.0  \n",
       "..         ...      ...       ...         ...         ...  \n",
       "127        아파트     종합계약       9.0         0.0       500.0  \n",
       "128        아파트     종합계약      13.0        67.0       386.0  \n",
       "129        아파트     종합계약      14.0        12.0       649.0  \n",
       "130        아파트     단일계약      52.0         7.0       816.0  \n",
       "131        아파트     단일계약      26.0         0.0       310.0  \n",
       "\n",
       "[132 rows x 10 columns]"
      ]
     },
     "execution_count": 4,
     "metadata": {},
     "output_type": "execute_result"
    }
   ],
   "source": [
    "df"
   ]
  },
  {
   "cell_type": "code",
   "execution_count": 5,
   "metadata": {},
   "outputs": [
    {
     "data": {
      "text/plain": [
       "kaptCode          0\n",
       "bjdCode           0\n",
       "Household_Num     0\n",
       "Begin_Date        0\n",
       "Heating_Method    0\n",
       "House_Type        0\n",
       "Elec_Con          2\n",
       "Elev_Num          4\n",
       "Park_Above        2\n",
       "Park_Below        2\n",
       "dtype: int64"
      ]
     },
     "execution_count": 5,
     "metadata": {},
     "output_type": "execute_result"
    }
   ],
   "source": [
    "df.isnull().sum()"
   ]
  },
  {
   "cell_type": "code",
   "execution_count": 6,
   "metadata": {},
   "outputs": [
    {
     "data": {
      "text/plain": [
       "<AxesSubplot: >"
      ]
     },
     "execution_count": 6,
     "metadata": {},
     "output_type": "execute_result"
    },
    {
     "data": {
      "image/png": "[encoded data removed]",
      "text/plain": [
       "<Figure size 800x800 with 2 Axes>"
      ]
     },
     "metadata": {},
     "output_type": "display_data"
    }
   ],
   "source": [
    "msno.matrix(df=df, figsize=(8, 8))"
   ]
  },
  {
   "attachments": {},
   "cell_type": "markdown",
   "metadata": {},
   "source": [
    "## Begin_Date"
   ]
  },
  {
   "cell_type": "code",
   "execution_count": 7,
   "metadata": {},
   "outputs": [
    {
     "name": "stdout",
     "output_type": "stream",
     "text": [
      "There are 0 null values, and they are located at \n",
      "[]\n"
     ]
    }
   ],
   "source": [
    "#null values\n",
    "Begin_Date = df['Begin_Date']\n",
    "print(f\"There are {Begin_Date.isnull().sum()} null values, and they are located at \\n{np.where(Begin_Date.isnull())[0]}\")"
   ]
  },
  {
   "cell_type": "code",
   "execution_count": 8,
   "metadata": {},
   "outputs": [
    {
     "name": "stdout",
     "output_type": "stream",
     "text": [
      "0     2003-05-17\n",
      "1     1992-12-04\n",
      "2     2001-09-20\n",
      "3     2003-08-16\n",
      "4     1999-11-30\n",
      "         ...    \n",
      "127   2020-06-03\n",
      "128   2020-02-27\n",
      "129   2019-12-06\n",
      "130   2019-09-27\n",
      "131   2019-05-31\n",
      "Name: Begin_Date, Length: 132, dtype: datetime64[ns]\n"
     ]
    }
   ],
   "source": [
    "#Drop the null values and change date values to datetime\n",
    "Begin_Date = df['Begin_Date'].dropna()\n",
    "Begin_Date = pd.to_datetime(Begin_Date, format = '%Y%m%d')\n",
    "print(Begin_Date)"
   ]
  },
  {
   "cell_type": "code",
   "execution_count": 9,
   "metadata": {},
   "outputs": [
    {
     "data": {
      "image/png": "[encoded data removed]",
      "text/plain": [
       "<Figure size 640x480 with 1 Axes>"
      ]
     },
     "metadata": {},
     "output_type": "display_data"
    }
   ],
   "source": [
    "# distribution of years in Begin_Date\n",
    "Begin_Date.groupby(Begin_Date.dt.year).count().plot(kind=\"bar\")\n",
    "plt.show()"
   ]
  },
  {
   "cell_type": "code",
   "execution_count": 10,
   "metadata": {},
   "outputs": [
    {
     "data": {
      "image/png": "[encoded data removed]",
      "text/plain": [
       "<Figure size 640x480 with 1 Axes>"
      ]
     },
     "metadata": {},
     "output_type": "display_data"
    }
   ],
   "source": [
    "#Distribtion of months in Begin_Date(just for fun)\n",
    "Begin_Date.groupby(Begin_Date.dt.month).count().plot(kind=\"bar\")\n",
    "plt.show()"
   ]
  },
  {
   "attachments": {},
   "cell_type": "markdown",
   "metadata": {},
   "source": [
    "## Household_Num"
   ]
  },
  {
   "cell_type": "code",
   "execution_count": 11,
   "metadata": {},
   "outputs": [
    {
     "name": "stdout",
     "output_type": "stream",
     "text": [
      "There are 0 null values, and they are located at \n",
      "[]\n"
     ]
    },
    {
     "data": {
      "text/plain": [
       "0       853\n",
       "1       408\n",
       "2       204\n",
       "3       362\n",
       "4      1095\n",
       "       ... \n",
       "127     337\n",
       "128     345\n",
       "129     419\n",
       "130     634\n",
       "131     297\n",
       "Name: Household_Num, Length: 132, dtype: int64"
      ]
     },
     "metadata": {},
     "output_type": "display_data"
    }
   ],
   "source": [
    "#1 null value\n",
    "Household_Num = df['Household_Num']\n",
    "print(f\"There are {Household_Num.isnull().sum()} null values, and they are located at \\n{np.where(Household_Num.isnull())[0]}\")\n",
    "display(Household_Num)"
   ]
  },
  {
   "cell_type": "code",
   "execution_count": 12,
   "metadata": {},
   "outputs": [],
   "source": [
    "Household_Num = Household_Num.dropna()\n",
    "Household_Num = Household_Num.astype('int16')"
   ]
  },
  {
   "cell_type": "code",
   "execution_count": 13,
   "metadata": {},
   "outputs": [
    {
     "data": {
      "image/png": "[encoded data removed]",
      "text/plain": [
       "<Figure size 640x480 with 1 Axes>"
      ]
     },
     "metadata": {},
     "output_type": "display_data"
    }
   ],
   "source": [
    "fig, ax = plt.subplots()\n",
    "b = int(len(Household_Num)/2)\n",
    "ax.hist(Household_Num, bins = b)\n",
    "plt.show()"
   ]
  },
  {
   "cell_type": "code",
   "execution_count": 14,
   "metadata": {},
   "outputs": [
    {
     "data": {
      "text/plain": [
       "count     132.000000\n",
       "mean      513.871212\n",
       "std       420.202885\n",
       "min        83.000000\n",
       "25%       246.500000\n",
       "50%       376.000000\n",
       "75%       648.250000\n",
       "max      2412.000000\n",
       "Name: Household_Num, dtype: float64"
      ]
     },
     "execution_count": 14,
     "metadata": {},
     "output_type": "execute_result"
    }
   ],
   "source": [
    "Household_Num.describe()"
   ]
  },
  {
   "cell_type": "code",
   "execution_count": 15,
   "metadata": {},
   "outputs": [],
   "source": [
    "def printApt (Column, df, dfInfo, maxmin = \"max\", ind= 0):\n",
    "    if(maxmin == \"max\"):\n",
    "        find = Column[Column == Column.max()].index[ind]\n",
    "        print(df.loc[find])\n",
    "        print(dfInfo[dfInfo['kaptCode'] == df.loc[find]['kaptCode']])\n",
    "    elif(maxmin == \"min\"):\n",
    "        find = Column[Column == Column.min()].index[ind]\n",
    "        print(df.loc[find])\n",
    "        print(dfInfo[dfInfo['kaptCode'] == df.loc[find]['kaptCode']])"
   ]
  },
  {
   "cell_type": "code",
   "execution_count": 16,
   "metadata": {},
   "outputs": [
    {
     "name": "stdout",
     "output_type": "stream",
     "text": [
      "kaptCode           A15209207\n",
      "bjdCode           1153010700\n",
      "Household_Num           2412\n",
      "Begin_Date        20010822.0\n",
      "Heating_Method          개별난방\n",
      "House_Type               아파트\n",
      "Elec_Con                단일계약\n",
      "Elev_Num                55.0\n",
      "Park_Above             208.0\n",
      "Park_Below            2860.0\n",
      "Name: 77, dtype: object\n",
      "     kaptCode Complex_Name\n",
      "90  A15209207     개봉동현대아파트\n"
     ]
    }
   ],
   "source": [
    "printApt(Household_Num, df, dfInfo)"
   ]
  },
  {
   "attachments": {},
   "cell_type": "markdown",
   "metadata": {},
   "source": [
    "## Heating_Method"
   ]
  },
  {
   "cell_type": "code",
   "execution_count": 17,
   "metadata": {},
   "outputs": [
    {
     "name": "stdout",
     "output_type": "stream",
     "text": [
      "There are 0 null values, and they are located at \n",
      "[]\n"
     ]
    },
    {
     "data": {
      "text/plain": [
       "0      개별난방\n",
       "1      개별난방\n",
       "2      개별난방\n",
       "3      개별난방\n",
       "4      개별난방\n",
       "       ... \n",
       "127    지역난방\n",
       "128    지역난방\n",
       "129    지역난방\n",
       "130    지역난방\n",
       "131    지역난방\n",
       "Name: Heating_Method, Length: 132, dtype: object"
      ]
     },
     "metadata": {},
     "output_type": "display_data"
    }
   ],
   "source": [
    "# null values\n",
    "Heating_Method = df['Heating_Method']\n",
    "print(f\"There are {Heating_Method.isnull().sum()} null values, and they are located at \\n{np.where(Heating_Method.isnull())[0]}\")\n",
    "display(Heating_Method)"
   ]
  },
  {
   "cell_type": "code",
   "execution_count": 18,
   "metadata": {},
   "outputs": [],
   "source": [
    "Heating_Method = Heating_Method.dropna()"
   ]
  },
  {
   "cell_type": "code",
   "execution_count": 19,
   "metadata": {},
   "outputs": [
    {
     "name": "stdout",
     "output_type": "stream",
     "text": [
      "[0 0 0 0 0 0 0 0 0 0 0 0 1 0 0 1 0 0 0 0 0 1 0 0 0 0 0 0 0 0 0 0 1 0 0 0 0\n",
      " 0 0 0 1 0 0 0 1 0 0 0 0 0 0 0 0 0 2 0 0 0 0 0 2 0 0 0 0 0 1 0 2 0 2 0 0 0\n",
      " 0 0 0 0 0 0 0 0 0 0 0 0 0 0 0 0 0 0 0 0 0 0 0 0 0 0 0 0 0 0 0 0 0 0 0 0 0\n",
      " 0 0 0 0 0 0 0 0 0 0 0 2 2 2 2 2 2 2 2 2 2]\n",
      "Index(['개별난방', '중앙난방', '지역난방'], dtype='object')\n"
     ]
    }
   ],
   "source": [
    "int_HM = pd.factorize(Heating_Method)[0]\n",
    "ind_HM = pd.factorize(Heating_Method)[1]\n",
    "print(int_HM)\n",
    "print(ind_HM)"
   ]
  },
  {
   "cell_type": "code",
   "execution_count": 20,
   "metadata": {},
   "outputs": [
    {
     "data": {
      "text/plain": [
       "0    111\n",
       "2     14\n",
       "1      7\n",
       "dtype: int64"
      ]
     },
     "execution_count": 20,
     "metadata": {},
     "output_type": "execute_result"
    }
   ],
   "source": [
    "count_int_HM = pd.Series(int_HM).value_counts()\n",
    "count_int_HM"
   ]
  },
  {
   "cell_type": "code",
   "execution_count": 21,
   "metadata": {},
   "outputs": [],
   "source": [
    "eng_ind_HM = ['Individual','Central', 'Regional']"
   ]
  },
  {
   "cell_type": "code",
   "execution_count": 22,
   "metadata": {},
   "outputs": [
    {
     "data": {
      "image/png": "[encoded data removed]",
      "text/plain": [
       "<Figure size 640x480 with 1 Axes>"
      ]
     },
     "metadata": {},
     "output_type": "display_data"
    }
   ],
   "source": [
    "fig, ax = plt.subplots()\n",
    "ax.pie(count_int_HM, labels=eng_ind_HM, autopct='%1.1f%%')\n",
    "plt.show()"
   ]
  },
  {
   "attachments": {},
   "cell_type": "markdown",
   "metadata": {},
   "source": [
    "## Elev_Num; Elevator Number"
   ]
  },
  {
   "cell_type": "code",
   "execution_count": 23,
   "metadata": {},
   "outputs": [
    {
     "name": "stdout",
     "output_type": "stream",
     "text": [
      "There are 4 null values, and they are located at \n",
      "[31 48 72 90]\n"
     ]
    }
   ],
   "source": [
    "Elev_Num = df['Elev_Num']\n",
    "print(f\"There are {Elev_Num.isnull().sum()} null values, and they are located at \\n{np.where(Elev_Num.isnull())[0]}\")"
   ]
  },
  {
   "cell_type": "code",
   "execution_count": 24,
   "metadata": {},
   "outputs": [],
   "source": [
    "Elev_Num = Elev_Num.dropna()\n",
    "Elev_Num = Elev_Num.astype('int16')"
   ]
  },
  {
   "cell_type": "code",
   "execution_count": 25,
   "metadata": {},
   "outputs": [
    {
     "data": {
      "image/png": "[encoded data removed]",
      "text/plain": [
       "<Figure size 640x480 with 1 Axes>"
      ]
     },
     "metadata": {},
     "output_type": "display_data"
    }
   ],
   "source": [
    "fig, ax = plt.subplots()\n",
    "b = int(len(Elev_Num)/2)\n",
    "ax.hist(Elev_Num, bins = b)\n",
    "plt.show()"
   ]
  },
  {
   "cell_type": "code",
   "execution_count": 26,
   "metadata": {},
   "outputs": [
    {
     "data": {
      "text/plain": [
       "count    128.000000\n",
       "mean      13.773438\n",
       "std       12.004733\n",
       "min        2.000000\n",
       "25%        5.000000\n",
       "50%       10.000000\n",
       "75%       18.000000\n",
       "max       62.000000\n",
       "Name: Elev_Num, dtype: float64"
      ]
     },
     "execution_count": 26,
     "metadata": {},
     "output_type": "execute_result"
    }
   ],
   "source": [
    "Elev_Num.describe()"
   ]
  },
  {
   "cell_type": "code",
   "execution_count": 27,
   "metadata": {},
   "outputs": [
    {
     "name": "stdout",
     "output_type": "stream",
     "text": [
      "kaptCode           A15210211\n",
      "bjdCode           1153010800\n",
      "Household_Num            620\n",
      "Begin_Date        20030913.0\n",
      "Heating_Method          개별난방\n",
      "House_Type               아파트\n",
      "Elec_Con                단일계약\n",
      "Elev_Num                62.0\n",
      "Park_Above               0.0\n",
      "Park_Below             630.0\n",
      "Name: 100, dtype: object\n",
      "      kaptCode Complex_Name\n",
      "114  A15210211      오류금강수목원\n"
     ]
    }
   ],
   "source": [
    "printApt(Elev_Num, df, dfInfo)"
   ]
  },
  {
   "attachments": {},
   "cell_type": "markdown",
   "metadata": {},
   "source": [
    "## Electricity Contract; Elec_Con"
   ]
  },
  {
   "cell_type": "code",
   "execution_count": 28,
   "metadata": {},
   "outputs": [
    {
     "name": "stdout",
     "output_type": "stream",
     "text": [
      "There are 2 null values, and they are located at \n",
      "[48 90]\n"
     ]
    }
   ],
   "source": [
    "Elec_Con = df['Elec_Con']\n",
    "print(f\"There are {Elec_Con.isnull().sum()} null values, and they are located at \\n{np.where(Elec_Con.isnull())[0]}\")"
   ]
  },
  {
   "cell_type": "code",
   "execution_count": 29,
   "metadata": {},
   "outputs": [],
   "source": [
    "Elec_Con = Elec_Con.dropna()"
   ]
  },
  {
   "cell_type": "code",
   "execution_count": 30,
   "metadata": {},
   "outputs": [
    {
     "name": "stdout",
     "output_type": "stream",
     "text": [
      "[0 0 1 0 0 0 1 0 0 0 0 0 0 1 1 0 0 0 0 0 0 0 0 0 0 0 0 0 1 0 0 2 0 1 0 1 0\n",
      " 1 0 0 0 0 0 1 0 0 0 0 0 1 0 0 0 0 0 0 0 0 0 0 0 1 0 0 0 0 0 0 0 0 1 0 0 0\n",
      " 0 1 0 1 0 0 0 0 0 0 1 1 0 0 0 0 1 0 1 0 0 1 0 0 0 0 1 0 0 0 0 0 2 0 1 0 0\n",
      " 0 0 0 0 0 1 1 0 0 0 1 1 1 1 1 1 1 0 0]\n",
      "Index(['단일계약', '종합계약', '기타'], dtype='object')\n"
     ]
    }
   ],
   "source": [
    "int_EC = pd.factorize(Elec_Con)[0]\n",
    "ind_EC = pd.factorize(Elec_Con)[1]\n",
    "print(int_EC)\n",
    "print(ind_EC)"
   ]
  },
  {
   "cell_type": "code",
   "execution_count": 31,
   "metadata": {},
   "outputs": [
    {
     "data": {
      "text/plain": [
       "0    98\n",
       "1    30\n",
       "2     2\n",
       "dtype: int64"
      ]
     },
     "execution_count": 31,
     "metadata": {},
     "output_type": "execute_result"
    }
   ],
   "source": [
    "count_int_EC = pd.Series(int_EC).value_counts()\n",
    "count_int_EC"
   ]
  },
  {
   "cell_type": "code",
   "execution_count": 33,
   "metadata": {},
   "outputs": [],
   "source": [
    "eng_ind_EC = ['Single', 'Comprehensive', 'Other']"
   ]
  },
  {
   "cell_type": "code",
   "execution_count": 34,
   "metadata": {},
   "outputs": [
    {
     "data": {
      "image/png": "[encoded data removed]",
      "text/plain": [
       "<Figure size 640x480 with 1 Axes>"
      ]
     },
     "metadata": {},
     "output_type": "display_data"
    }
   ],
   "source": [
    "fig, ax = plt.subplots()\n",
    "ax.pie(count_int_EC, labels=eng_ind_EC, autopct='%1.1f%%')\n",
    "plt.show()"
   ]
  },
  {
   "attachments": {},
   "cell_type": "markdown",
   "metadata": {},
   "source": [
    "## Park_Above & Park_Below"
   ]
  },
  {
   "cell_type": "code",
   "execution_count": 35,
   "metadata": {},
   "outputs": [
    {
     "name": "stdout",
     "output_type": "stream",
     "text": [
      "There are 2 null values, and they are located at \n",
      "[48 90]\n",
      "There are 2 null values, and they are located at \n",
      "[48 90]\n"
     ]
    }
   ],
   "source": [
    "Park_Above = df['Park_Above']\n",
    "Park_Below = df['Park_Below']\n",
    "print(f\"There are {Park_Above.isnull().sum()} null values, and they are located at \\n{np.where(Park_Above.isnull())[0]}\")\n",
    "print(f\"There are {Park_Below.isnull().sum()} null values, and they are located at \\n{np.where(Park_Below.isnull())[0]}\")"
   ]
  },
  {
   "cell_type": "code",
   "execution_count": 36,
   "metadata": {},
   "outputs": [
    {
     "data": {
      "text/plain": [
       "0       42\n",
       "1      159\n",
       "2       34\n",
       "3       37\n",
       "4      152\n",
       "      ... \n",
       "127      0\n",
       "128     67\n",
       "129     12\n",
       "130      7\n",
       "131      0\n",
       "Name: Park_Above, Length: 130, dtype: int16"
      ]
     },
     "metadata": {},
     "output_type": "display_data"
    },
    {
     "data": {
      "text/plain": [
       "0      1442\n",
       "1        93\n",
       "2       226\n",
       "3       374\n",
       "4      1359\n",
       "       ... \n",
       "127     500\n",
       "128     386\n",
       "129     649\n",
       "130     816\n",
       "131     310\n",
       "Name: Park_Below, Length: 130, dtype: int16"
      ]
     },
     "metadata": {},
     "output_type": "display_data"
    }
   ],
   "source": [
    "Park_Above = Park_Above.dropna().astype('int16')\n",
    "Park_Below = Park_Below.dropna().astype('int16')\n",
    "display(Park_Above)\n",
    "display(Park_Below)"
   ]
  },
  {
   "cell_type": "code",
   "execution_count": 37,
   "metadata": {},
   "outputs": [
    {
     "data": {
      "image/png": "[encoded data removed]",
      "text/plain": [
       "<Figure size 640x480 with 1 Axes>"
      ]
     },
     "metadata": {},
     "output_type": "display_data"
    }
   ],
   "source": [
    "fig, ax = plt.subplots()\n",
    "b = int(len(Park_Above)/2)\n",
    "ax.hist(Park_Above, bins = b)\n",
    "plt.show()"
   ]
  },
  {
   "cell_type": "code",
   "execution_count": 38,
   "metadata": {},
   "outputs": [
    {
     "data": {
      "image/png": "[encoded data removed]",
      "text/plain": [
       "<Figure size 640x480 with 1 Axes>"
      ]
     },
     "metadata": {},
     "output_type": "display_data"
    }
   ],
   "source": [
    "fig, ax = plt.subplots()\n",
    "b = int(len(Park_Below)/2)\n",
    "ax.hist(Park_Below, bins = b)\n",
    "plt.show()"
   ]
  },
  {
   "cell_type": "code",
   "execution_count": 39,
   "metadata": {},
   "outputs": [
    {
     "data": {
      "text/plain": [
       "count     130.000000\n",
       "mean      116.915385\n",
       "std       160.543603\n",
       "min         0.000000\n",
       "25%        31.000000\n",
       "50%        67.000000\n",
       "75%       147.000000\n",
       "max      1082.000000\n",
       "Name: Park_Above, dtype: float64"
      ]
     },
     "execution_count": 39,
     "metadata": {},
     "output_type": "execute_result"
    }
   ],
   "source": [
    "Park_Above.describe()"
   ]
  },
  {
   "cell_type": "code",
   "execution_count": 40,
   "metadata": {},
   "outputs": [
    {
     "data": {
      "text/plain": [
       "count     130.000000\n",
       "mean      417.184615\n",
       "std       487.659428\n",
       "min         0.000000\n",
       "25%       100.250000\n",
       "50%       242.000000\n",
       "75%       570.500000\n",
       "max      2860.000000\n",
       "Name: Park_Below, dtype: float64"
      ]
     },
     "execution_count": 40,
     "metadata": {},
     "output_type": "execute_result"
    }
   ],
   "source": [
    "Park_Below.describe()"
   ]
  },
  {
   "cell_type": "code",
   "execution_count": 41,
   "metadata": {},
   "outputs": [
    {
     "name": "stdout",
     "output_type": "stream",
     "text": [
      "kaptCode           A15286809\n",
      "bjdCode           1153010200\n",
      "Household_Num           2126\n",
      "Begin_Date        19860630.0\n",
      "Heating_Method          중앙난방\n",
      "House_Type               아파트\n",
      "Elec_Con                단일계약\n",
      "Elev_Num                34.0\n",
      "Park_Above            1082.0\n",
      "Park_Below               0.0\n",
      "Name: 21, dtype: object\n",
      "     kaptCode Complex_Name\n",
      "23  A15286809         구로주공\n"
     ]
    }
   ],
   "source": [
    "printApt(Park_Above, df, dfInfo)"
   ]
  },
  {
   "cell_type": "code",
   "execution_count": 42,
   "metadata": {},
   "outputs": [
    {
     "name": "stdout",
     "output_type": "stream",
     "text": [
      "kaptCode           A15209207\n",
      "bjdCode           1153010700\n",
      "Household_Num           2412\n",
      "Begin_Date        20010822.0\n",
      "Heating_Method          개별난방\n",
      "House_Type               아파트\n",
      "Elec_Con                단일계약\n",
      "Elev_Num                55.0\n",
      "Park_Above             208.0\n",
      "Park_Below            2860.0\n",
      "Name: 77, dtype: object\n",
      "     kaptCode Complex_Name\n",
      "90  A15209207     개봉동현대아파트\n"
     ]
    }
   ],
   "source": [
    "printApt(Park_Below, df, dfInfo)"
   ]
  }
 ],
 "metadata": {
  "kernelspec": {
   "display_name": "ybenv",
   "language": "python",
   "name": "ybenv"
  },
  "language_info": {
   "codemirror_mode": {
    "name": "ipython",
    "version": 3
   },
   "file_extension": ".py",
   "mimetype": "text/x-python",
   "name": "python",
   "nbconvert_exporter": "python",
   "pygments_lexer": "ipython3",
   "version": "3.9.16"
  },
  "orig_nbformat": 4
 },
 "nbformat": 4,
 "nbformat_minor": 2
}
