{
 "cells": [
  {
   "cell_type": "code",
   "execution_count": 48,
   "metadata": {},
   "outputs": [],
   "source": [
    "import pandas as pd\n",
    "import numpy as np\n",
    "import matplotlib.pyplot as plt\n",
    "import missingno as msno"
   ]
  },
  {
   "cell_type": "code",
   "execution_count": 49,
   "metadata": {},
   "outputs": [],
   "source": [
    "df = pd.read_csv(\"C:/Users/lhi30/Haein/2023/YBIGTA/DA/Project/Share/AptOnly/Seoul_Only.csv\")"
   ]
  },
  {
   "cell_type": "code",
   "execution_count": 4,
   "metadata": {},
   "outputs": [],
   "source": [
    "dfInfo = pd.read_csv(\"C:/Users/lhi30/Haein/2023/YBIGTA/DA/Project/Share/Data_Analysis/Reference.csv\", \n",
    "                     index_col=0)"
   ]
  },
  {
   "cell_type": "code",
   "execution_count": 5,
   "metadata": {},
   "outputs": [
    {
     "data": {
      "text/html": [
       "<div>\n",
       "<style scoped>\n",
       "    .dataframe tbody tr th:only-of-type {\n",
       "        vertical-align: middle;\n",
       "    }\n",
       "\n",
       "    .dataframe tbody tr th {\n",
       "        vertical-align: top;\n",
       "    }\n",
       "\n",
       "    .dataframe thead th {\n",
       "        text-align: right;\n",
       "    }\n",
       "</style>\n",
       "<table border=\"1\" class=\"dataframe\">\n",
       "  <thead>\n",
       "    <tr style=\"text-align: right;\">\n",
       "      <th></th>\n",
       "      <th>kaptCode</th>\n",
       "      <th>Complex_Name</th>\n",
       "    </tr>\n",
       "  </thead>\n",
       "  <tbody>\n",
       "    <tr>\n",
       "      <th>0</th>\n",
       "      <td>A13203302</td>\n",
       "      <td>쌍문삼성래미안</td>\n",
       "    </tr>\n",
       "    <tr>\n",
       "      <th>1</th>\n",
       "      <td>A13203303</td>\n",
       "      <td>쌍문한양1차</td>\n",
       "    </tr>\n",
       "    <tr>\n",
       "      <th>2</th>\n",
       "      <td>A13295201</td>\n",
       "      <td>브라운스톤쌍문</td>\n",
       "    </tr>\n",
       "    <tr>\n",
       "      <th>3</th>\n",
       "      <td>A13286107</td>\n",
       "      <td>쌍문한양6차</td>\n",
       "    </tr>\n",
       "    <tr>\n",
       "      <th>4</th>\n",
       "      <td>A13287801</td>\n",
       "      <td>쌍문현대3차</td>\n",
       "    </tr>\n",
       "    <tr>\n",
       "      <th>...</th>\n",
       "      <td>...</td>\n",
       "      <td>...</td>\n",
       "    </tr>\n",
       "    <tr>\n",
       "      <th>73</th>\n",
       "      <td>A14080901</td>\n",
       "      <td>용산푸르지오파크타운</td>\n",
       "    </tr>\n",
       "    <tr>\n",
       "      <th>74</th>\n",
       "      <td>A14024001</td>\n",
       "      <td>서빙고금호베스트빌</td>\n",
       "    </tr>\n",
       "    <tr>\n",
       "      <th>75</th>\n",
       "      <td>A14024002</td>\n",
       "      <td>서빙고신동아</td>\n",
       "    </tr>\n",
       "    <tr>\n",
       "      <th>76</th>\n",
       "      <td>A14082601</td>\n",
       "      <td>신동아아파트</td>\n",
       "    </tr>\n",
       "    <tr>\n",
       "      <th>77</th>\n",
       "      <td>A14082302</td>\n",
       "      <td>보광삼성리버빌</td>\n",
       "    </tr>\n",
       "  </tbody>\n",
       "</table>\n",
       "<p>2963 rows × 2 columns</p>\n",
       "</div>"
      ],
      "text/plain": [
       "     kaptCode Complex_Name\n",
       "0   A13203302      쌍문삼성래미안\n",
       "1   A13203303       쌍문한양1차\n",
       "2   A13295201      브라운스톤쌍문\n",
       "3   A13286107       쌍문한양6차\n",
       "4   A13287801       쌍문현대3차\n",
       "..        ...          ...\n",
       "73  A14080901   용산푸르지오파크타운\n",
       "74  A14024001    서빙고금호베스트빌\n",
       "75  A14024002       서빙고신동아\n",
       "76  A14082601       신동아아파트\n",
       "77  A14082302      보광삼성리버빌\n",
       "\n",
       "[2963 rows x 2 columns]"
      ]
     },
     "execution_count": 5,
     "metadata": {},
     "output_type": "execute_result"
    }
   ],
   "source": [
    "dfInfo"
   ]
  },
  {
   "cell_type": "code",
   "execution_count": 50,
   "metadata": {},
   "outputs": [
    {
     "data": {
      "text/html": [
       "<div>\n",
       "<style scoped>\n",
       "    .dataframe tbody tr th:only-of-type {\n",
       "        vertical-align: middle;\n",
       "    }\n",
       "\n",
       "    .dataframe tbody tr th {\n",
       "        vertical-align: top;\n",
       "    }\n",
       "\n",
       "    .dataframe thead th {\n",
       "        text-align: right;\n",
       "    }\n",
       "</style>\n",
       "<table border=\"1\" class=\"dataframe\">\n",
       "  <thead>\n",
       "    <tr style=\"text-align: right;\">\n",
       "      <th></th>\n",
       "      <th>kaptCode</th>\n",
       "      <th>bjdCode</th>\n",
       "      <th>Household_Num</th>\n",
       "      <th>Begin_Date</th>\n",
       "      <th>Heating_Method</th>\n",
       "      <th>House_Type</th>\n",
       "      <th>Elec_Con</th>\n",
       "      <th>Elev_Num</th>\n",
       "      <th>Park_Above</th>\n",
       "      <th>Park_Below</th>\n",
       "    </tr>\n",
       "  </thead>\n",
       "  <tbody>\n",
       "    <tr>\n",
       "      <th>0</th>\n",
       "      <td>A13203302</td>\n",
       "      <td>1132010500</td>\n",
       "      <td>407.0</td>\n",
       "      <td>20020726.0</td>\n",
       "      <td>개별난방</td>\n",
       "      <td>아파트</td>\n",
       "      <td>단일계약</td>\n",
       "      <td>15.0</td>\n",
       "      <td>116.0</td>\n",
       "      <td>346.0</td>\n",
       "    </tr>\n",
       "    <tr>\n",
       "      <th>1</th>\n",
       "      <td>A13203303</td>\n",
       "      <td>1132010500</td>\n",
       "      <td>824.0</td>\n",
       "      <td>19861202.0</td>\n",
       "      <td>개별난방</td>\n",
       "      <td>아파트</td>\n",
       "      <td>단일계약</td>\n",
       "      <td>16.0</td>\n",
       "      <td>600.0</td>\n",
       "      <td>0.0</td>\n",
       "    </tr>\n",
       "    <tr>\n",
       "      <th>2</th>\n",
       "      <td>A13295201</td>\n",
       "      <td>1132010500</td>\n",
       "      <td>155.0</td>\n",
       "      <td>20061226.0</td>\n",
       "      <td>개별난방</td>\n",
       "      <td>아파트</td>\n",
       "      <td>단일계약</td>\n",
       "      <td>6.0</td>\n",
       "      <td>23.0</td>\n",
       "      <td>146.0</td>\n",
       "    </tr>\n",
       "    <tr>\n",
       "      <th>3</th>\n",
       "      <td>A13286107</td>\n",
       "      <td>1132010500</td>\n",
       "      <td>582.0</td>\n",
       "      <td>20020326.0</td>\n",
       "      <td>개별난방</td>\n",
       "      <td>아파트</td>\n",
       "      <td>단일계약</td>\n",
       "      <td>22.0</td>\n",
       "      <td>281.0</td>\n",
       "      <td>148.0</td>\n",
       "    </tr>\n",
       "    <tr>\n",
       "      <th>4</th>\n",
       "      <td>A13287801</td>\n",
       "      <td>1132010500</td>\n",
       "      <td>287.0</td>\n",
       "      <td>19950609.0</td>\n",
       "      <td>개별난방</td>\n",
       "      <td>아파트</td>\n",
       "      <td>단일계약</td>\n",
       "      <td>13.0</td>\n",
       "      <td>198.0</td>\n",
       "      <td>23.0</td>\n",
       "    </tr>\n",
       "    <tr>\n",
       "      <th>...</th>\n",
       "      <td>...</td>\n",
       "      <td>...</td>\n",
       "      <td>...</td>\n",
       "      <td>...</td>\n",
       "      <td>...</td>\n",
       "      <td>...</td>\n",
       "      <td>...</td>\n",
       "      <td>...</td>\n",
       "      <td>...</td>\n",
       "      <td>...</td>\n",
       "    </tr>\n",
       "    <tr>\n",
       "      <th>2623</th>\n",
       "      <td>A13681701</td>\n",
       "      <td>1129013900</td>\n",
       "      <td>315.0</td>\n",
       "      <td>19940624.0</td>\n",
       "      <td>개별난방</td>\n",
       "      <td>아파트</td>\n",
       "      <td>단일계약</td>\n",
       "      <td>7.0</td>\n",
       "      <td>62.0</td>\n",
       "      <td>179.0</td>\n",
       "    </tr>\n",
       "    <tr>\n",
       "      <th>2624</th>\n",
       "      <td>A13676101</td>\n",
       "      <td>1129013900</td>\n",
       "      <td>580.0</td>\n",
       "      <td>20090626.0</td>\n",
       "      <td>개별난방</td>\n",
       "      <td>아파트</td>\n",
       "      <td>종합계약</td>\n",
       "      <td>19.0</td>\n",
       "      <td>0.0</td>\n",
       "      <td>684.0</td>\n",
       "    </tr>\n",
       "    <tr>\n",
       "      <th>2625</th>\n",
       "      <td>A13676102</td>\n",
       "      <td>1129013900</td>\n",
       "      <td>80.0</td>\n",
       "      <td>20090626.0</td>\n",
       "      <td>개별난방</td>\n",
       "      <td>아파트</td>\n",
       "      <td>단일계약</td>\n",
       "      <td>2.0</td>\n",
       "      <td>0.0</td>\n",
       "      <td>56.0</td>\n",
       "    </tr>\n",
       "    <tr>\n",
       "      <th>2626</th>\n",
       "      <td>A13615002</td>\n",
       "      <td>1129013900</td>\n",
       "      <td>453.0</td>\n",
       "      <td>19990612.0</td>\n",
       "      <td>개별난방</td>\n",
       "      <td>아파트</td>\n",
       "      <td>단일계약</td>\n",
       "      <td>10.0</td>\n",
       "      <td>104.0</td>\n",
       "      <td>357.0</td>\n",
       "    </tr>\n",
       "    <tr>\n",
       "      <th>2627</th>\n",
       "      <td>A10025283</td>\n",
       "      <td>1129013900</td>\n",
       "      <td>1091.0</td>\n",
       "      <td>20190228.0</td>\n",
       "      <td>개별난방</td>\n",
       "      <td>아파트</td>\n",
       "      <td>종합계약</td>\n",
       "      <td>32.0</td>\n",
       "      <td>3.0</td>\n",
       "      <td>1305.0</td>\n",
       "    </tr>\n",
       "  </tbody>\n",
       "</table>\n",
       "<p>2628 rows × 10 columns</p>\n",
       "</div>"
      ],
      "text/plain": [
       "       kaptCode     bjdCode  Household_Num  Begin_Date Heating_Method  \\\n",
       "0     A13203302  1132010500          407.0  20020726.0           개별난방   \n",
       "1     A13203303  1132010500          824.0  19861202.0           개별난방   \n",
       "2     A13295201  1132010500          155.0  20061226.0           개별난방   \n",
       "3     A13286107  1132010500          582.0  20020326.0           개별난방   \n",
       "4     A13287801  1132010500          287.0  19950609.0           개별난방   \n",
       "...         ...         ...            ...         ...            ...   \n",
       "2623  A13681701  1129013900          315.0  19940624.0           개별난방   \n",
       "2624  A13676101  1129013900          580.0  20090626.0           개별난방   \n",
       "2625  A13676102  1129013900           80.0  20090626.0           개별난방   \n",
       "2626  A13615002  1129013900          453.0  19990612.0           개별난방   \n",
       "2627  A10025283  1129013900         1091.0  20190228.0           개별난방   \n",
       "\n",
       "     House_Type Elec_Con  Elev_Num  Park_Above  Park_Below  \n",
       "0           아파트     단일계약      15.0       116.0       346.0  \n",
       "1           아파트     단일계약      16.0       600.0         0.0  \n",
       "2           아파트     단일계약       6.0        23.0       146.0  \n",
       "3           아파트     단일계약      22.0       281.0       148.0  \n",
       "4           아파트     단일계약      13.0       198.0        23.0  \n",
       "...         ...      ...       ...         ...         ...  \n",
       "2623        아파트     단일계약       7.0        62.0       179.0  \n",
       "2624        아파트     종합계약      19.0         0.0       684.0  \n",
       "2625        아파트     단일계약       2.0         0.0        56.0  \n",
       "2626        아파트     단일계약      10.0       104.0       357.0  \n",
       "2627        아파트     종합계약      32.0         3.0      1305.0  \n",
       "\n",
       "[2628 rows x 10 columns]"
      ]
     },
     "execution_count": 50,
     "metadata": {},
     "output_type": "execute_result"
    }
   ],
   "source": [
    "df = df.iloc[:, 2:]\n",
    "df"
   ]
  },
  {
   "cell_type": "code",
   "execution_count": 7,
   "metadata": {},
   "outputs": [
    {
     "data": {
      "text/plain": [
       "kaptCode           0\n",
       "bjdCode            0\n",
       "Household_Num      1\n",
       "Begin_Date         5\n",
       "Heating_Method     4\n",
       "House_Type         0\n",
       "Elec_Con          74\n",
       "Elev_Num          93\n",
       "Park_Above        68\n",
       "Park_Below        69\n",
       "dtype: int64"
      ]
     },
     "execution_count": 7,
     "metadata": {},
     "output_type": "execute_result"
    }
   ],
   "source": [
    "df.isnull().sum()"
   ]
  },
  {
   "cell_type": "code",
   "execution_count": 134,
   "metadata": {},
   "outputs": [
    {
     "data": {
      "text/plain": [
       "<AxesSubplot: >"
      ]
     },
     "execution_count": 134,
     "metadata": {},
     "output_type": "execute_result"
    },
    {
     "data": {
      "image/png": "[encoded data removed]",
      "text/plain": [
       "<Figure size 800x800 with 2 Axes>"
      ]
     },
     "metadata": {},
     "output_type": "display_data"
    }
   ],
   "source": [
    "msno.matrix(df=df, figsize=(8, 8))"
   ]
  },
  {
   "attachments": {},
   "cell_type": "markdown",
   "metadata": {},
   "source": [
    "## Begin_Date"
   ]
  },
  {
   "cell_type": "code",
   "execution_count": 51,
   "metadata": {},
   "outputs": [
    {
     "data": {
      "text/plain": [
       "array([ 301,  675,  920, 1777, 2292], dtype=int64)"
      ]
     },
     "execution_count": 51,
     "metadata": {},
     "output_type": "execute_result"
    }
   ],
   "source": [
    "# 5 null values\n",
    "np.where(df['Begin_Date'].isnull())[0]"
   ]
  },
  {
   "cell_type": "code",
   "execution_count": 52,
   "metadata": {},
   "outputs": [
    {
     "name": "stdout",
     "output_type": "stream",
     "text": [
      "0      2002-07-26\n",
      "1      1986-12-02\n",
      "2      2006-12-26\n",
      "3      2002-03-26\n",
      "4      1995-06-09\n",
      "          ...    \n",
      "2623   1994-06-24\n",
      "2624   2009-06-26\n",
      "2625   2009-06-26\n",
      "2626   1999-06-12\n",
      "2627   2019-02-28\n",
      "Name: Begin_Date, Length: 2623, dtype: datetime64[ns]\n"
     ]
    }
   ],
   "source": [
    "#Drop the null values and change date values to datetime\n",
    "Begin_Date = df['Begin_Date'].dropna()\n",
    "Begin_Date = pd.to_datetime(Begin_Date, format = '%Y%m%d')\n",
    "print(Begin_Date)"
   ]
  },
  {
   "cell_type": "code",
   "execution_count": 55,
   "metadata": {},
   "outputs": [
    {
     "data": {
      "text/plain": [
       "Begin_Date\n",
       "1971      4\n",
       "1974      7\n",
       "1975      4\n",
       "1976      5\n",
       "1977      8\n",
       "1978     10\n",
       "1979      7\n",
       "1980      4\n",
       "1981      7\n",
       "1982     10\n",
       "1983     23\n",
       "1984     28\n",
       "1985     24\n",
       "1986     33\n",
       "1987     45\n",
       "1988     63\n",
       "1989     36\n",
       "1990     30\n",
       "1991     38\n",
       "1992     73\n",
       "1993     70\n",
       "1994     67\n",
       "1995     70\n",
       "1996     81\n",
       "1997    106\n",
       "1998    109\n",
       "1999    168\n",
       "2000    137\n",
       "2001    106\n",
       "2002     83\n",
       "2003    130\n",
       "2004    131\n",
       "2005     97\n",
       "2006     74\n",
       "2007     50\n",
       "2008     69\n",
       "2009     62\n",
       "2010     56\n",
       "2011     65\n",
       "2012     28\n",
       "2013     28\n",
       "2014     45\n",
       "2015     27\n",
       "2016     42\n",
       "2017     32\n",
       "2018     42\n",
       "2019     51\n",
       "2020     37\n",
       "2021     56\n",
       "2022     35\n",
       "2023     10\n",
       "Name: Begin_Date, dtype: int64"
      ]
     },
     "execution_count": 55,
     "metadata": {},
     "output_type": "execute_result"
    }
   ],
   "source": [
    "Begin_Date.groupby(Begin_Date.dt.year).count()"
   ]
  },
  {
   "cell_type": "code",
   "execution_count": 12,
   "metadata": {},
   "outputs": [
    {
     "data": {
      "image/png": "[encoded data removed]",
      "text/plain": [
       "<Figure size 700x500 with 1 Axes>"
      ]
     },
     "metadata": {},
     "output_type": "display_data"
    }
   ],
   "source": [
    "# distribution of years in Begin_Date\n",
    "fig, axs = plt.subplots(figsize = (7,5), layout = 'constrained')\n",
    "Begin_Date.groupby(Begin_Date.dt.year).count().plot(kind=\"bar\")\n",
    "plt.show()"
   ]
  },
  {
   "cell_type": "code",
   "execution_count": 10,
   "metadata": {},
   "outputs": [
    {
     "data": {
      "image/png": "[encoded data removed]",
      "text/plain": [
       "<Figure size 700x700 with 1 Axes>"
      ]
     },
     "metadata": {},
     "output_type": "display_data"
    }
   ],
   "source": [
    "#Distribtion of months in Begin_Date(just for fun)\n",
    "fig, axs = plt.subplots(figsize = (7,7), layout = 'constrained')\n",
    "Begin_Date.groupby(Begin_Date.dt.month).count().plot(kind=\"bar\")\n",
    "plt.show()"
   ]
  },
  {
   "attachments": {},
   "cell_type": "markdown",
   "metadata": {},
   "source": [
    "## Household_Num"
   ]
  },
  {
   "cell_type": "code",
   "execution_count": 13,
   "metadata": {},
   "outputs": [
    {
     "name": "stdout",
     "output_type": "stream",
     "text": [
      "[2501]\n"
     ]
    },
    {
     "data": {
      "text/plain": [
       "0        407.0\n",
       "1        824.0\n",
       "2        155.0\n",
       "3        582.0\n",
       "4        287.0\n",
       "         ...  \n",
       "2623     315.0\n",
       "2624     580.0\n",
       "2625      80.0\n",
       "2626     453.0\n",
       "2627    1091.0\n",
       "Name: Household_Num, Length: 2628, dtype: float64"
      ]
     },
     "metadata": {},
     "output_type": "display_data"
    }
   ],
   "source": [
    "#1 null value\n",
    "Household_Num = df['Household_Num']\n",
    "print(np.where(Household_Num.isnull())[0])\n",
    "display(Household_Num)"
   ]
  },
  {
   "cell_type": "code",
   "execution_count": 14,
   "metadata": {},
   "outputs": [],
   "source": [
    "Household_Num = Household_Num.dropna()\n",
    "Household_Num = Household_Num.astype('int16')"
   ]
  },
  {
   "cell_type": "code",
   "execution_count": 16,
   "metadata": {},
   "outputs": [
    {
     "data": {
      "image/png": "[encoded data removed]",
      "text/plain": [
       "<Figure size 700x500 with 1 Axes>"
      ]
     },
     "metadata": {},
     "output_type": "display_data"
    }
   ],
   "source": [
    "fig, ax= plt.subplots(figsize = (7,5), layout = 'constrained')\n",
    "ax.hist(Household_Num, bins = 100)\n",
    "plt.show()"
   ]
  },
  {
   "cell_type": "code",
   "execution_count": 142,
   "metadata": {},
   "outputs": [
    {
     "data": {
      "text/plain": [
       "count    2627.000000\n",
       "mean      592.995051\n",
       "std       640.433964\n",
       "min        19.000000\n",
       "25%       213.000000\n",
       "50%       391.000000\n",
       "75%       718.500000\n",
       "max      9510.000000\n",
       "Name: Household_Num, dtype: float64"
      ]
     },
     "execution_count": 142,
     "metadata": {},
     "output_type": "execute_result"
    }
   ],
   "source": [
    "Household_Num.describe()"
   ]
  },
  {
   "cell_type": "code",
   "execution_count": 17,
   "metadata": {},
   "outputs": [],
   "source": [
    "def printApt (Column, df, dfInfo, maxmin = \"max\", ind= 0):\n",
    "    if(maxmin == \"max\"):\n",
    "        find = Column[Column == Column.max()].index[ind]\n",
    "        print(df.loc[find])\n",
    "        print(dfInfo[dfInfo['kaptCode'] == df.loc[find]['kaptCode']])\n",
    "    elif(maxmin == \"min\"):\n",
    "        find = Column[Column == Column.min()].index[ind]\n",
    "        print(df.loc[find])\n",
    "        print(dfInfo[dfInfo['kaptCode'] == df.loc[find]['kaptCode']])"
   ]
  },
  {
   "cell_type": "code",
   "execution_count": 20,
   "metadata": {},
   "outputs": [
    {
     "name": "stdout",
     "output_type": "stream",
     "text": [
      "kaptCode           A10025850\n",
      "bjdCode           1171010700\n",
      "Household_Num         9510.0\n",
      "Begin_Date        20181228.0\n",
      "Heating_Method          지역난방\n",
      "House_Type               아파트\n",
      "Elec_Con                종합계약\n",
      "Elev_Num               384.0\n",
      "Park_Above               0.0\n",
      "Park_Below           12096.0\n",
      "Name: 2100, dtype: object\n",
      "     kaptCode Complex_Name\n",
      "71  A10025850     헬리오시티아파트\n"
     ]
    }
   ],
   "source": [
    "printApt(Household_Num, df, dfInfo, maxmin='max')"
   ]
  },
  {
   "attachments": {},
   "cell_type": "markdown",
   "metadata": {},
   "source": [
    "## Heating_Method"
   ]
  },
  {
   "cell_type": "code",
   "execution_count": 21,
   "metadata": {},
   "outputs": [
    {
     "name": "stdout",
     "output_type": "stream",
     "text": [
      "[ 301  675  920 1777]\n"
     ]
    },
    {
     "data": {
      "text/plain": [
       "0       개별난방\n",
       "1       개별난방\n",
       "2       개별난방\n",
       "3       개별난방\n",
       "4       개별난방\n",
       "        ... \n",
       "2623    개별난방\n",
       "2624    개별난방\n",
       "2625    개별난방\n",
       "2626    개별난방\n",
       "2627    개별난방\n",
       "Name: Heating_Method, Length: 2628, dtype: object"
      ]
     },
     "metadata": {},
     "output_type": "display_data"
    }
   ],
   "source": [
    "# 4 null values\n",
    "Heating_Method = df['Heating_Method']\n",
    "print(np.where(Heating_Method.isnull())[0])\n",
    "display(Heating_Method)"
   ]
  },
  {
   "cell_type": "code",
   "execution_count": 22,
   "metadata": {},
   "outputs": [],
   "source": [
    "Heating_Method = Heating_Method.dropna()"
   ]
  },
  {
   "cell_type": "code",
   "execution_count": 23,
   "metadata": {},
   "outputs": [
    {
     "name": "stdout",
     "output_type": "stream",
     "text": [
      "[0 0 0 ... 0 0 0]\n",
      "Index(['개별난방', '지역난방', '중앙난방', '개별난방+기타', '기타'], dtype='object')\n"
     ]
    }
   ],
   "source": [
    "int_HM = pd.factorize(Heating_Method)[0]\n",
    "ind_HM = pd.factorize(Heating_Method)[1]\n",
    "print(int_HM)\n",
    "print(ind_HM)"
   ]
  },
  {
   "cell_type": "code",
   "execution_count": 24,
   "metadata": {},
   "outputs": [
    {
     "data": {
      "text/plain": [
       "0    1814\n",
       "1     686\n",
       "2     109\n",
       "3      13\n",
       "4       2\n",
       "dtype: int64"
      ]
     },
     "execution_count": 24,
     "metadata": {},
     "output_type": "execute_result"
    }
   ],
   "source": [
    "count_int_HM = pd.Series(int_HM).value_counts()\n",
    "count_int_HM"
   ]
  },
  {
   "cell_type": "code",
   "execution_count": 25,
   "metadata": {},
   "outputs": [],
   "source": [
    "eng_ind_HM = ['Individual', 'Regional', 'Central', 'Indiv + Other', 'Other']"
   ]
  },
  {
   "cell_type": "code",
   "execution_count": 27,
   "metadata": {},
   "outputs": [
    {
     "data": {
      "image/png": "[encoded data removed]",
      "text/plain": [
       "<Figure size 700x500 with 1 Axes>"
      ]
     },
     "metadata": {},
     "output_type": "display_data"
    }
   ],
   "source": [
    "fig, ax= plt.subplots(figsize = (7,5), layout = 'constrained')\n",
    "ax.pie(count_int_HM, labels=eng_ind_HM, autopct='%1.1f%%')\n",
    "plt.show()"
   ]
  },
  {
   "attachments": {},
   "cell_type": "markdown",
   "metadata": {},
   "source": [
    "## Elev_Num; Elevator Number"
   ]
  },
  {
   "cell_type": "code",
   "execution_count": 28,
   "metadata": {},
   "outputs": [
    {
     "name": "stdout",
     "output_type": "stream",
     "text": [
      "There are 93 null values, and they are located at \n",
      "[  22   47   85  158  219  251  274  301  332  334  362  385  483  487\n",
      "  508  592  593  609  637  641  646  664  668  669  674  675  706  709\n",
      "  711  728  748  778  830  918  920  998 1015 1039 1057 1163 1166 1171\n",
      " 1177 1200 1225 1234 1257 1279 1306 1314 1315 1470 1556 1582 1587 1637\n",
      " 1639 1658 1697 1733 1753 1777 1824 1834 1848 1912 1913 1914 2041 2069\n",
      " 2080 2135 2136 2150 2269 2270 2278 2291 2334 2359 2387 2414 2425 2457\n",
      " 2470 2473 2478 2488 2493 2494 2501 2534 2599]\n"
     ]
    }
   ],
   "source": [
    "Elev_Num = df['Elev_Num']\n",
    "print(f\"There are {Elev_Num.isnull().sum()} null values, and they are located at \\n{np.where(Elev_Num.isnull())[0]}\")"
   ]
  },
  {
   "cell_type": "code",
   "execution_count": 29,
   "metadata": {},
   "outputs": [],
   "source": [
    "Elev_Num = Elev_Num.dropna()\n",
    "Elev_Num = Elev_Num.astype('int16')"
   ]
  },
  {
   "cell_type": "code",
   "execution_count": 32,
   "metadata": {},
   "outputs": [
    {
     "data": {
      "image/png": "[encoded data removed]",
      "text/plain": [
       "<Figure size 700x500 with 1 Axes>"
      ]
     },
     "metadata": {},
     "output_type": "display_data"
    }
   ],
   "source": [
    "fig, ax= plt.subplots(figsize = (7,5), layout = 'constrained')\n",
    "ax.hist(Elev_Num, bins = 100)\n",
    "plt.show()"
   ]
  },
  {
   "cell_type": "code",
   "execution_count": 33,
   "metadata": {},
   "outputs": [
    {
     "data": {
      "text/plain": [
       "count    2535.000000\n",
       "mean       16.313609\n",
       "std        17.998878\n",
       "min         0.000000\n",
       "25%         6.000000\n",
       "50%        11.000000\n",
       "75%        20.000000\n",
       "max       384.000000\n",
       "Name: Elev_Num, dtype: float64"
      ]
     },
     "execution_count": 33,
     "metadata": {},
     "output_type": "execute_result"
    }
   ],
   "source": [
    "Elev_Num.describe()"
   ]
  },
  {
   "cell_type": "code",
   "execution_count": 37,
   "metadata": {},
   "outputs": [
    {
     "name": "stdout",
     "output_type": "stream",
     "text": [
      "kaptCode           A10025850\n",
      "bjdCode           1171010700\n",
      "Household_Num         9510.0\n",
      "Begin_Date        20181228.0\n",
      "Heating_Method          지역난방\n",
      "House_Type               아파트\n",
      "Elec_Con                종합계약\n",
      "Elev_Num               384.0\n",
      "Park_Above               0.0\n",
      "Park_Below           12096.0\n",
      "Name: 2100, dtype: object\n",
      "     kaptCode Complex_Name\n",
      "71  A10025850     헬리오시티아파트\n"
     ]
    }
   ],
   "source": [
    "printApt(Elev_Num, df, dfInfo, maxmin = 'max')"
   ]
  },
  {
   "attachments": {},
   "cell_type": "markdown",
   "metadata": {},
   "source": [
    "## Electricity Contract; Elec_Con"
   ]
  },
  {
   "cell_type": "code",
   "execution_count": 38,
   "metadata": {},
   "outputs": [
    {
     "name": "stdout",
     "output_type": "stream",
     "text": [
      "There are 74 null values, and they are located at \n",
      "[  22   47  158  219  251  274  300  301  329  332  334  362  385  483\n",
      "  508  554  592  593  637  641  646  664  669  674  675  702  728  748\n",
      "  778  791  793  830  918  920 1015 1057 1163 1166 1171 1177 1225 1257\n",
      " 1258 1259 1279 1306 1342 1368 1461 1470 1658 1697 1733 1774 1777 1803\n",
      " 1824 1834 1848 1912 2041 2069 2081 2135 2269 2270 2334 2387 2457 2470\n",
      " 2488 2491 2494 2599]\n"
     ]
    }
   ],
   "source": [
    "Elec_Con = df['Elec_Con']\n",
    "print(f\"There are {Elec_Con.isnull().sum()} null values, and they are located at \\n{np.where(Elec_Con.isnull())[0]}\")"
   ]
  },
  {
   "cell_type": "code",
   "execution_count": 39,
   "metadata": {},
   "outputs": [],
   "source": [
    "Elec_Con = Elec_Con.dropna()"
   ]
  },
  {
   "cell_type": "code",
   "execution_count": 40,
   "metadata": {},
   "outputs": [
    {
     "name": "stdout",
     "output_type": "stream",
     "text": [
      "[0 0 0 ... 0 0 1]\n",
      "Index(['단일계약', '종합계약', '기타'], dtype='object')\n"
     ]
    }
   ],
   "source": [
    "int_EC = pd.factorize(Elec_Con)[0]\n",
    "ind_EC = pd.factorize(Elec_Con)[1]\n",
    "print(int_EC)\n",
    "print(ind_EC)"
   ]
  },
  {
   "cell_type": "code",
   "execution_count": 41,
   "metadata": {},
   "outputs": [
    {
     "data": {
      "text/plain": [
       "0    1635\n",
       "1     838\n",
       "2      81\n",
       "dtype: int64"
      ]
     },
     "execution_count": 41,
     "metadata": {},
     "output_type": "execute_result"
    }
   ],
   "source": [
    "count_int_EC = pd.Series(int_EC).value_counts()\n",
    "count_int_EC"
   ]
  },
  {
   "cell_type": "code",
   "execution_count": 42,
   "metadata": {},
   "outputs": [],
   "source": [
    "eng_ind_EC = ['Single', 'Comprehensive', 'Other']"
   ]
  },
  {
   "cell_type": "code",
   "execution_count": 43,
   "metadata": {},
   "outputs": [
    {
     "data": {
      "image/png": "[encoded data removed]",
      "text/plain": [
       "<Figure size 700x500 with 1 Axes>"
      ]
     },
     "metadata": {},
     "output_type": "display_data"
    }
   ],
   "source": [
    "fig, ax= plt.subplots(figsize = (7,5), layout = 'constrained')\n",
    "ax.pie(count_int_EC, labels=eng_ind_EC, autopct='%1.1f%%')\n",
    "plt.show()"
   ]
  },
  {
   "attachments": {},
   "cell_type": "markdown",
   "metadata": {},
   "source": [
    "## Park_Above & Park_Below"
   ]
  },
  {
   "cell_type": "code",
   "execution_count": 44,
   "metadata": {},
   "outputs": [
    {
     "name": "stdout",
     "output_type": "stream",
     "text": [
      "There are 68 null values, and they are located at \n",
      "[  22   47  158  219  251  274  301  329  332  334  362  385  483  508\n",
      "  554  592  593  637  641  646  664  669  674  675  678  702  728  748\n",
      "  778  830  918  920 1015 1057 1163 1166 1171 1177 1225 1257 1258 1259\n",
      " 1279 1306 1461 1470 1658 1697 1733 1777 1824 1834 1848 1912 2041 2069\n",
      " 2081 2135 2269 2270 2334 2387 2457 2470 2488 2491 2494 2599]\n",
      "There are 69 null values, and they are located at \n",
      "[  22   47  158  219  251  274  301  329  332  334  362  385  483  508\n",
      "  554  592  593  637  641  646  664  669  674  675  678  702  728  748\n",
      "  778  830  918  920 1015 1057 1163 1166 1171 1177 1225 1257 1258 1259\n",
      " 1279 1306 1349 1461 1470 1658 1697 1774 1777 1824 1834 1848 1912 2041\n",
      " 2069 2081 2135 2269 2270 2334 2387 2457 2470 2488 2491 2494 2599]\n"
     ]
    }
   ],
   "source": [
    "Park_Above = df['Park_Above']\n",
    "Park_Below = df['Park_Below']\n",
    "print(f\"There are {Park_Above.isnull().sum()} null values, and they are located at \\n{np.where(Park_Above.isnull())[0]}\")\n",
    "print(f\"There are {Park_Below.isnull().sum()} null values, and they are located at \\n{np.where(Park_Below.isnull())[0]}\")"
   ]
  },
  {
   "cell_type": "code",
   "execution_count": 45,
   "metadata": {},
   "outputs": [
    {
     "data": {
      "text/plain": [
       "0       116\n",
       "1       600\n",
       "2        23\n",
       "3       281\n",
       "4       198\n",
       "       ... \n",
       "2623     62\n",
       "2624      0\n",
       "2625      0\n",
       "2626    104\n",
       "2627      3\n",
       "Name: Park_Above, Length: 2560, dtype: int16"
      ]
     },
     "metadata": {},
     "output_type": "display_data"
    },
    {
     "data": {
      "text/plain": [
       "0        346\n",
       "1          0\n",
       "2        146\n",
       "3        148\n",
       "4         23\n",
       "        ... \n",
       "2623     179\n",
       "2624     684\n",
       "2625      56\n",
       "2626     357\n",
       "2627    1305\n",
       "Name: Park_Below, Length: 2559, dtype: int16"
      ]
     },
     "metadata": {},
     "output_type": "display_data"
    }
   ],
   "source": [
    "Park_Above = Park_Above.dropna().astype('int16')\n",
    "Park_Below = Park_Below.dropna().astype('int16')\n",
    "display(Park_Above)\n",
    "display(Park_Below)"
   ]
  },
  {
   "cell_type": "code",
   "execution_count": 46,
   "metadata": {},
   "outputs": [
    {
     "data": {
      "image/png": "[encoded data removed]",
      "text/plain": [
       "<Figure size 700x500 with 1 Axes>"
      ]
     },
     "metadata": {},
     "output_type": "display_data"
    }
   ],
   "source": [
    "fig, ax= plt.subplots(figsize = (7,5), layout = 'constrained')\n",
    "ax.hist(Park_Above, bins = 100)\n",
    "plt.show()"
   ]
  },
  {
   "cell_type": "code",
   "execution_count": 47,
   "metadata": {},
   "outputs": [
    {
     "data": {
      "image/png": "[encoded data removed]",
      "text/plain": [
       "<Figure size 700x500 with 1 Axes>"
      ]
     },
     "metadata": {},
     "output_type": "display_data"
    }
   ],
   "source": [
    "fig, ax= plt.subplots(figsize = (7,5), layout = 'constrained')\n",
    "ax.hist(Park_Below, bins = 100)\n",
    "plt.show()"
   ]
  },
  {
   "cell_type": "code",
   "execution_count": 166,
   "metadata": {},
   "outputs": [
    {
     "data": {
      "text/plain": [
       "count    2560.000000\n",
       "mean      172.464063\n",
       "std       338.973607\n",
       "min         0.000000\n",
       "25%        10.000000\n",
       "50%        62.000000\n",
       "75%       182.000000\n",
       "max      4500.000000\n",
       "Name: Park_Above, dtype: float64"
      ]
     },
     "execution_count": 166,
     "metadata": {},
     "output_type": "execute_result"
    }
   ],
   "source": [
    "Park_Above.describe()"
   ]
  },
  {
   "cell_type": "code",
   "execution_count": 167,
   "metadata": {},
   "outputs": [
    {
     "data": {
      "text/plain": [
       "count     2559.000000\n",
       "mean       447.874170\n",
       "std        713.871552\n",
       "min          0.000000\n",
       "25%         95.500000\n",
       "50%        224.000000\n",
       "75%        538.000000\n",
       "max      12096.000000\n",
       "Name: Park_Below, dtype: float64"
      ]
     },
     "execution_count": 167,
     "metadata": {},
     "output_type": "execute_result"
    }
   ],
   "source": [
    "Park_Below.describe()"
   ]
  },
  {
   "cell_type": "code",
   "execution_count": 168,
   "metadata": {},
   "outputs": [
    {
     "name": "stdout",
     "output_type": "stream",
     "text": [
      "kaptCode           A13805002\n",
      "bjdCode           1171011100\n",
      "Household_Num         5540.0\n",
      "Begin_Date        19880614.0\n",
      "Heating_Method          지역난방\n",
      "House_Type               아파트\n",
      "Elec_Con                단일계약\n",
      "Elev_Num               207.0\n",
      "Park_Above            4500.0\n",
      "Park_Below            3400.0\n",
      "Name: 2133, dtype: object\n",
      "      kaptCode Complex_Name\n",
      "107  A13805002  올림픽선수기자촌아파트\n"
     ]
    }
   ],
   "source": [
    "printApt(Park_Above, df, dfInfo)"
   ]
  },
  {
   "cell_type": "code",
   "execution_count": 169,
   "metadata": {},
   "outputs": [
    {
     "name": "stdout",
     "output_type": "stream",
     "text": [
      "kaptCode           A10025850\n",
      "bjdCode           1171010700\n",
      "Household_Num         9510.0\n",
      "Begin_Date        20181228.0\n",
      "Heating_Method          지역난방\n",
      "House_Type               아파트\n",
      "Elec_Con                종합계약\n",
      "Elev_Num               384.0\n",
      "Park_Above               0.0\n",
      "Park_Below           12096.0\n",
      "Name: 2100, dtype: object\n",
      "     kaptCode Complex_Name\n",
      "71  A10025850     헬리오시티아파트\n"
     ]
    }
   ],
   "source": [
    "printApt(Park_Below, df, dfInfo)"
   ]
  }
 ],
 "metadata": {
  "kernelspec": {
   "display_name": "ybenv",
   "language": "python",
   "name": "ybenv"
  },
  "language_info": {
   "codemirror_mode": {
    "name": "ipython",
    "version": 3
   },
   "file_extension": ".py",
   "mimetype": "text/x-python",
   "name": "python",
   "nbconvert_exporter": "python",
   "pygments_lexer": "ipython3",
   "version": "3.9.16"
  },
  "orig_nbformat": 4
 },
 "nbformat": 4,
 "nbformat_minor": 2
}
