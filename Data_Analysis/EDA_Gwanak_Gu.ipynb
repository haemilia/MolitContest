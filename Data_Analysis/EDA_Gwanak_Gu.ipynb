{
 "cells": [
  {
   "cell_type": "code",
   "execution_count": 1,
   "metadata": {},
   "outputs": [],
   "source": [
    "import pandas as pd\n",
    "import numpy as np\n",
    "import matplotlib.pyplot as plt\n",
    "import missingno as msno"
   ]
  },
  {
   "cell_type": "code",
   "execution_count": 2,
   "metadata": {},
   "outputs": [],
   "source": [
    "df = pd.read_csv(\"C:/Users/lhi30/Haein/2023/YBIGTA/DA/Project/Share/AptOnly/Gwanak_Gu_Only.csv\")"
   ]
  },
  {
   "cell_type": "code",
   "execution_count": 3,
   "metadata": {},
   "outputs": [],
   "source": [
    "dfInfo = pd.read_csv(\"C:/Users/lhi30/Haein/2023/YBIGTA/DA/Project/Share/Data_Analysis/Reference.csv\", \n",
    "                     index_col=0)"
   ]
  },
  {
   "cell_type": "code",
   "execution_count": 4,
   "metadata": {},
   "outputs": [
    {
     "data": {
      "text/html": [
       "<div>\n",
       "<style scoped>\n",
       "    .dataframe tbody tr th:only-of-type {\n",
       "        vertical-align: middle;\n",
       "    }\n",
       "\n",
       "    .dataframe tbody tr th {\n",
       "        vertical-align: top;\n",
       "    }\n",
       "\n",
       "    .dataframe thead th {\n",
       "        text-align: right;\n",
       "    }\n",
       "</style>\n",
       "<table border=\"1\" class=\"dataframe\">\n",
       "  <thead>\n",
       "    <tr style=\"text-align: right;\">\n",
       "      <th></th>\n",
       "      <th>kaptCode</th>\n",
       "      <th>bjdCode</th>\n",
       "      <th>Household_Num</th>\n",
       "      <th>Begin_Date</th>\n",
       "      <th>Heating_Method</th>\n",
       "      <th>House_Type</th>\n",
       "      <th>Elec_Con</th>\n",
       "      <th>Elev_Num</th>\n",
       "      <th>Park_Above</th>\n",
       "      <th>Park_Below</th>\n",
       "    </tr>\n",
       "  </thead>\n",
       "  <tbody>\n",
       "    <tr>\n",
       "      <th>0</th>\n",
       "      <td>A15106001</td>\n",
       "      <td>1162010100</td>\n",
       "      <td>277</td>\n",
       "      <td>19990511.0</td>\n",
       "      <td>개별난방</td>\n",
       "      <td>아파트</td>\n",
       "      <td>단일계약</td>\n",
       "      <td>6.0</td>\n",
       "      <td>39.0</td>\n",
       "      <td>100.0</td>\n",
       "    </tr>\n",
       "    <tr>\n",
       "      <th>1</th>\n",
       "      <td>A15192201</td>\n",
       "      <td>1162010100</td>\n",
       "      <td>487</td>\n",
       "      <td>20040528.0</td>\n",
       "      <td>개별난방</td>\n",
       "      <td>아파트</td>\n",
       "      <td>단일계약</td>\n",
       "      <td>34.0</td>\n",
       "      <td>96.0</td>\n",
       "      <td>428.0</td>\n",
       "    </tr>\n",
       "    <tr>\n",
       "      <th>2</th>\n",
       "      <td>A15181602</td>\n",
       "      <td>1162010100</td>\n",
       "      <td>251</td>\n",
       "      <td>19880311.0</td>\n",
       "      <td>개별난방</td>\n",
       "      <td>아파트</td>\n",
       "      <td>단일계약</td>\n",
       "      <td>5.0</td>\n",
       "      <td>224.0</td>\n",
       "      <td>0.0</td>\n",
       "    </tr>\n",
       "    <tr>\n",
       "      <th>3</th>\n",
       "      <td>A15178203</td>\n",
       "      <td>1162010100</td>\n",
       "      <td>560</td>\n",
       "      <td>20001228.0</td>\n",
       "      <td>개별난방</td>\n",
       "      <td>아파트</td>\n",
       "      <td>단일계약</td>\n",
       "      <td>5.0</td>\n",
       "      <td>42.0</td>\n",
       "      <td>222.0</td>\n",
       "    </tr>\n",
       "    <tr>\n",
       "      <th>4</th>\n",
       "      <td>A15105302</td>\n",
       "      <td>1162010100</td>\n",
       "      <td>2104</td>\n",
       "      <td>20040826.0</td>\n",
       "      <td>개별난방</td>\n",
       "      <td>아파트</td>\n",
       "      <td>단일계약</td>\n",
       "      <td>36.0</td>\n",
       "      <td>120.0</td>\n",
       "      <td>1990.0</td>\n",
       "    </tr>\n",
       "    <tr>\n",
       "      <th>...</th>\n",
       "      <td>...</td>\n",
       "      <td>...</td>\n",
       "      <td>...</td>\n",
       "      <td>...</td>\n",
       "      <td>...</td>\n",
       "      <td>...</td>\n",
       "      <td>...</td>\n",
       "      <td>...</td>\n",
       "      <td>...</td>\n",
       "      <td>...</td>\n",
       "    </tr>\n",
       "    <tr>\n",
       "      <th>66</th>\n",
       "      <td>A10024749</td>\n",
       "      <td>1162010200</td>\n",
       "      <td>126</td>\n",
       "      <td>19980601.0</td>\n",
       "      <td>개별난방</td>\n",
       "      <td>아파트</td>\n",
       "      <td>단일계약</td>\n",
       "      <td>3.0</td>\n",
       "      <td>1.0</td>\n",
       "      <td>140.0</td>\n",
       "    </tr>\n",
       "    <tr>\n",
       "      <th>67</th>\n",
       "      <td>A10024634</td>\n",
       "      <td>1162010200</td>\n",
       "      <td>109</td>\n",
       "      <td>20030902.0</td>\n",
       "      <td>개별난방</td>\n",
       "      <td>아파트</td>\n",
       "      <td>NaN</td>\n",
       "      <td>NaN</td>\n",
       "      <td>NaN</td>\n",
       "      <td>NaN</td>\n",
       "    </tr>\n",
       "    <tr>\n",
       "      <th>68</th>\n",
       "      <td>A15108003</td>\n",
       "      <td>1162010300</td>\n",
       "      <td>174</td>\n",
       "      <td>20041229.0</td>\n",
       "      <td>개별난방</td>\n",
       "      <td>아파트</td>\n",
       "      <td>단일계약</td>\n",
       "      <td>9.0</td>\n",
       "      <td>27.0</td>\n",
       "      <td>159.0</td>\n",
       "    </tr>\n",
       "    <tr>\n",
       "      <th>69</th>\n",
       "      <td>A15108001</td>\n",
       "      <td>1162010300</td>\n",
       "      <td>170</td>\n",
       "      <td>20050330.0</td>\n",
       "      <td>개별난방</td>\n",
       "      <td>아파트</td>\n",
       "      <td>종합계약</td>\n",
       "      <td>9.0</td>\n",
       "      <td>38.0</td>\n",
       "      <td>170.0</td>\n",
       "    </tr>\n",
       "    <tr>\n",
       "      <th>70</th>\n",
       "      <td>A10025511</td>\n",
       "      <td>1162010300</td>\n",
       "      <td>88</td>\n",
       "      <td>20030628.0</td>\n",
       "      <td>개별난방</td>\n",
       "      <td>아파트</td>\n",
       "      <td>단일계약</td>\n",
       "      <td>4.0</td>\n",
       "      <td>39.0</td>\n",
       "      <td>73.0</td>\n",
       "    </tr>\n",
       "  </tbody>\n",
       "</table>\n",
       "<p>71 rows × 10 columns</p>\n",
       "</div>"
      ],
      "text/plain": [
       "     kaptCode     bjdCode  Household_Num  Begin_Date Heating_Method  \\\n",
       "0   A15106001  1162010100            277  19990511.0           개별난방   \n",
       "1   A15192201  1162010100            487  20040528.0           개별난방   \n",
       "2   A15181602  1162010100            251  19880311.0           개별난방   \n",
       "3   A15178203  1162010100            560  20001228.0           개별난방   \n",
       "4   A15105302  1162010100           2104  20040826.0           개별난방   \n",
       "..        ...         ...            ...         ...            ...   \n",
       "66  A10024749  1162010200            126  19980601.0           개별난방   \n",
       "67  A10024634  1162010200            109  20030902.0           개별난방   \n",
       "68  A15108003  1162010300            174  20041229.0           개별난방   \n",
       "69  A15108001  1162010300            170  20050330.0           개별난방   \n",
       "70  A10025511  1162010300             88  20030628.0           개별난방   \n",
       "\n",
       "   House_Type Elec_Con  Elev_Num  Park_Above  Park_Below  \n",
       "0         아파트     단일계약       6.0        39.0       100.0  \n",
       "1         아파트     단일계약      34.0        96.0       428.0  \n",
       "2         아파트     단일계약       5.0       224.0         0.0  \n",
       "3         아파트     단일계약       5.0        42.0       222.0  \n",
       "4         아파트     단일계약      36.0       120.0      1990.0  \n",
       "..        ...      ...       ...         ...         ...  \n",
       "66        아파트     단일계약       3.0         1.0       140.0  \n",
       "67        아파트      NaN       NaN         NaN         NaN  \n",
       "68        아파트     단일계약       9.0        27.0       159.0  \n",
       "69        아파트     종합계약       9.0        38.0       170.0  \n",
       "70        아파트     단일계약       4.0        39.0        73.0  \n",
       "\n",
       "[71 rows x 10 columns]"
      ]
     },
     "execution_count": 4,
     "metadata": {},
     "output_type": "execute_result"
    }
   ],
   "source": [
    "df"
   ]
  },
  {
   "cell_type": "code",
   "execution_count": 5,
   "metadata": {},
   "outputs": [
    {
     "data": {
      "text/plain": [
       "kaptCode          0\n",
       "bjdCode           0\n",
       "Household_Num     0\n",
       "Begin_Date        0\n",
       "Heating_Method    0\n",
       "House_Type        0\n",
       "Elec_Con          2\n",
       "Elev_Num          2\n",
       "Park_Above        2\n",
       "Park_Below        2\n",
       "dtype: int64"
      ]
     },
     "execution_count": 5,
     "metadata": {},
     "output_type": "execute_result"
    }
   ],
   "source": [
    "df.isnull().sum()"
   ]
  },
  {
   "cell_type": "code",
   "execution_count": 6,
   "metadata": {},
   "outputs": [
    {
     "data": {
      "text/plain": [
       "<AxesSubplot: >"
      ]
     },
     "execution_count": 6,
     "metadata": {},
     "output_type": "execute_result"
    },
    {
     "data": {
      "image/png": "[encoded data removed]",
      "text/plain": [
       "<Figure size 800x800 with 2 Axes>"
      ]
     },
     "metadata": {},
     "output_type": "display_data"
    }
   ],
   "source": [
    "msno.matrix(df=df, figsize=(8, 8))"
   ]
  },
  {
   "attachments": {},
   "cell_type": "markdown",
   "metadata": {},
   "source": [
    "## Begin_Date"
   ]
  },
  {
   "cell_type": "code",
   "execution_count": 7,
   "metadata": {},
   "outputs": [
    {
     "name": "stdout",
     "output_type": "stream",
     "text": [
      "There are 0 null values, and they are located at \n",
      "[]\n"
     ]
    }
   ],
   "source": [
    "#null values\n",
    "Begin_Date = df['Begin_Date']\n",
    "print(f\"There are {Begin_Date.isnull().sum()} null values, and they are located at \\n{np.where(Begin_Date.isnull())[0]}\")"
   ]
  },
  {
   "cell_type": "code",
   "execution_count": 8,
   "metadata": {},
   "outputs": [
    {
     "name": "stdout",
     "output_type": "stream",
     "text": [
      "0    1999-05-11\n",
      "1    2004-05-28\n",
      "2    1988-03-11\n",
      "3    2000-12-28\n",
      "4    2004-08-26\n",
      "        ...    \n",
      "66   1998-06-01\n",
      "67   2003-09-02\n",
      "68   2004-12-29\n",
      "69   2005-03-30\n",
      "70   2003-06-28\n",
      "Name: Begin_Date, Length: 71, dtype: datetime64[ns]\n"
     ]
    }
   ],
   "source": [
    "#Drop the null values and change date values to datetime\n",
    "Begin_Date = df['Begin_Date'].dropna()\n",
    "Begin_Date = pd.to_datetime(Begin_Date, format = '%Y%m%d')\n",
    "print(Begin_Date)"
   ]
  },
  {
   "cell_type": "code",
   "execution_count": 9,
   "metadata": {},
   "outputs": [
    {
     "data": {
      "image/png": "[encoded data removed]",
      "text/plain": [
       "<Figure size 640x480 with 1 Axes>"
      ]
     },
     "metadata": {},
     "output_type": "display_data"
    }
   ],
   "source": [
    "# distribution of years in Begin_Date\n",
    "Begin_Date.groupby(Begin_Date.dt.year).count().plot(kind=\"bar\")\n",
    "plt.show()"
   ]
  },
  {
   "cell_type": "code",
   "execution_count": 10,
   "metadata": {},
   "outputs": [
    {
     "data": {
      "image/png": "[encoded data removed]",
      "text/plain": [
       "<Figure size 640x480 with 1 Axes>"
      ]
     },
     "metadata": {},
     "output_type": "display_data"
    }
   ],
   "source": [
    "#Distribtion of months in Begin_Date(just for fun)\n",
    "Begin_Date.groupby(Begin_Date.dt.month).count().plot(kind=\"bar\")\n",
    "plt.show()"
   ]
  },
  {
   "attachments": {},
   "cell_type": "markdown",
   "metadata": {},
   "source": [
    "## Household_Num"
   ]
  },
  {
   "cell_type": "code",
   "execution_count": 11,
   "metadata": {},
   "outputs": [
    {
     "name": "stdout",
     "output_type": "stream",
     "text": [
      "There are 0 null values, and they are located at \n",
      "[]\n"
     ]
    },
    {
     "data": {
      "text/plain": [
       "0      277\n",
       "1      487\n",
       "2      251\n",
       "3      560\n",
       "4     2104\n",
       "      ... \n",
       "66     126\n",
       "67     109\n",
       "68     174\n",
       "69     170\n",
       "70      88\n",
       "Name: Household_Num, Length: 71, dtype: int64"
      ]
     },
     "metadata": {},
     "output_type": "display_data"
    }
   ],
   "source": [
    "#1 null value\n",
    "Household_Num = df['Household_Num']\n",
    "print(f\"There are {Household_Num.isnull().sum()} null values, and they are located at \\n{np.where(Household_Num.isnull())[0]}\")\n",
    "display(Household_Num)"
   ]
  },
  {
   "cell_type": "code",
   "execution_count": 12,
   "metadata": {},
   "outputs": [],
   "source": [
    "Household_Num = Household_Num.dropna()\n",
    "Household_Num = Household_Num.astype('int16')"
   ]
  },
  {
   "cell_type": "code",
   "execution_count": 13,
   "metadata": {},
   "outputs": [
    {
     "data": {
      "image/png": "[encoded data removed]",
      "text/plain": [
       "<Figure size 640x480 with 1 Axes>"
      ]
     },
     "metadata": {},
     "output_type": "display_data"
    }
   ],
   "source": [
    "fig, ax = plt.subplots()\n",
    "b = int(len(Household_Num)/2)\n",
    "ax.hist(Household_Num, bins = b)\n",
    "plt.show()"
   ]
  },
  {
   "cell_type": "code",
   "execution_count": 14,
   "metadata": {},
   "outputs": [
    {
     "data": {
      "text/plain": [
       "count      71.000000\n",
       "mean      656.971831\n",
       "std       704.282775\n",
       "min        88.000000\n",
       "25%       202.000000\n",
       "50%       363.000000\n",
       "75%       791.000000\n",
       "max      3544.000000\n",
       "Name: Household_Num, dtype: float64"
      ]
     },
     "execution_count": 14,
     "metadata": {},
     "output_type": "execute_result"
    }
   ],
   "source": [
    "Household_Num.describe()"
   ]
  },
  {
   "cell_type": "code",
   "execution_count": 15,
   "metadata": {},
   "outputs": [],
   "source": [
    "def printApt (Column, df, dfInfo, maxmin = \"max\", ind= 0):\n",
    "    if(maxmin == \"max\"):\n",
    "        find = Column[Column == Column.max()].index[ind]\n",
    "        print(df.loc[find])\n",
    "        print(dfInfo[dfInfo['kaptCode'] == df.loc[find]['kaptCode']])\n",
    "    elif(maxmin == \"min\"):\n",
    "        find = Column[Column == Column.min()].index[ind]\n",
    "        print(df.loc[find])\n",
    "        print(dfInfo[dfInfo['kaptCode'] == df.loc[find]['kaptCode']])"
   ]
  },
  {
   "cell_type": "code",
   "execution_count": 16,
   "metadata": {},
   "outputs": [
    {
     "name": "stdout",
     "output_type": "stream",
     "text": [
      "kaptCode           A15180705\n",
      "bjdCode           1162010100\n",
      "Household_Num           3544\n",
      "Begin_Date        20030906.0\n",
      "Heating_Method          개별난방\n",
      "House_Type               아파트\n",
      "Elec_Con                단일계약\n",
      "Elev_Num                92.0\n",
      "Park_Above             975.0\n",
      "Park_Below            4429.0\n",
      "Name: 8, dtype: object\n",
      "    kaptCode Complex_Name\n",
      "8  A15180705       관악드림타운\n"
     ]
    }
   ],
   "source": [
    "printApt(Household_Num, df, dfInfo)"
   ]
  },
  {
   "attachments": {},
   "cell_type": "markdown",
   "metadata": {},
   "source": [
    "## Heating_Method"
   ]
  },
  {
   "cell_type": "code",
   "execution_count": 17,
   "metadata": {},
   "outputs": [
    {
     "name": "stdout",
     "output_type": "stream",
     "text": [
      "There are 0 null values, and they are located at \n",
      "[]\n"
     ]
    },
    {
     "data": {
      "text/plain": [
       "0     개별난방\n",
       "1     개별난방\n",
       "2     개별난방\n",
       "3     개별난방\n",
       "4     개별난방\n",
       "      ... \n",
       "66    개별난방\n",
       "67    개별난방\n",
       "68    개별난방\n",
       "69    개별난방\n",
       "70    개별난방\n",
       "Name: Heating_Method, Length: 71, dtype: object"
      ]
     },
     "metadata": {},
     "output_type": "display_data"
    }
   ],
   "source": [
    "# null values\n",
    "Heating_Method = df['Heating_Method']\n",
    "print(f\"There are {Heating_Method.isnull().sum()} null values, and they are located at \\n{np.where(Heating_Method.isnull())[0]}\")\n",
    "display(Heating_Method)"
   ]
  },
  {
   "cell_type": "code",
   "execution_count": 18,
   "metadata": {},
   "outputs": [],
   "source": [
    "Heating_Method = Heating_Method.dropna()"
   ]
  },
  {
   "cell_type": "code",
   "execution_count": 22,
   "metadata": {},
   "outputs": [
    {
     "name": "stdout",
     "output_type": "stream",
     "text": [
      "[0 0 0 0 0 0 0 0 0 0 0 0 0 0 0 0 0 0 0 0 0 0 0 0 0 1 0 0 0 0 0 0 0 0 0 0 0\n",
      " 0 0 0 0 0 0 0 0 0 0 0 0 1 0 0 0 0 1 0 0 0 0 0 0 0 0 0 0 0 0 0 0 0 0]\n",
      "Index(['개별난방', '중앙난방'], dtype='object')\n"
     ]
    }
   ],
   "source": [
    "int_HM = pd.factorize(Heating_Method)[0]\n",
    "ind_HM = pd.factorize(Heating_Method)[1]\n",
    "print(int_HM)\n",
    "print(ind_HM)"
   ]
  },
  {
   "cell_type": "code",
   "execution_count": 23,
   "metadata": {},
   "outputs": [
    {
     "data": {
      "text/plain": [
       "0    68\n",
       "1     3\n",
       "dtype: int64"
      ]
     },
     "execution_count": 23,
     "metadata": {},
     "output_type": "execute_result"
    }
   ],
   "source": [
    "count_int_HM = pd.Series(int_HM).value_counts()\n",
    "count_int_HM"
   ]
  },
  {
   "cell_type": "code",
   "execution_count": 24,
   "metadata": {},
   "outputs": [],
   "source": [
    "eng_ind_HM = ['Individual','Central']"
   ]
  },
  {
   "cell_type": "code",
   "execution_count": 25,
   "metadata": {},
   "outputs": [
    {
     "data": {
      "image/png": "[encoded data removed]",
      "text/plain": [
       "<Figure size 640x480 with 1 Axes>"
      ]
     },
     "metadata": {},
     "output_type": "display_data"
    }
   ],
   "source": [
    "fig, ax = plt.subplots()\n",
    "ax.pie(count_int_HM, labels=eng_ind_HM, autopct='%1.1f%%')\n",
    "plt.show()"
   ]
  },
  {
   "attachments": {},
   "cell_type": "markdown",
   "metadata": {},
   "source": [
    "## Elev_Num; Elevator Number"
   ]
  },
  {
   "cell_type": "code",
   "execution_count": 26,
   "metadata": {},
   "outputs": [
    {
     "name": "stdout",
     "output_type": "stream",
     "text": [
      "There are 2 null values, and they are located at \n",
      "[64 67]\n"
     ]
    }
   ],
   "source": [
    "Elev_Num = df['Elev_Num']\n",
    "print(f\"There are {Elev_Num.isnull().sum()} null values, and they are located at \\n{np.where(Elev_Num.isnull())[0]}\")"
   ]
  },
  {
   "cell_type": "code",
   "execution_count": 27,
   "metadata": {},
   "outputs": [],
   "source": [
    "Elev_Num = Elev_Num.dropna()\n",
    "Elev_Num = Elev_Num.astype('int16')"
   ]
  },
  {
   "cell_type": "code",
   "execution_count": 28,
   "metadata": {},
   "outputs": [
    {
     "data": {
      "image/png": "[encoded data removed]",
      "text/plain": [
       "<Figure size 640x480 with 1 Axes>"
      ]
     },
     "metadata": {},
     "output_type": "display_data"
    }
   ],
   "source": [
    "fig, ax = plt.subplots()\n",
    "b = int(len(Elev_Num)/2)\n",
    "ax.hist(Elev_Num, bins = b)\n",
    "plt.show()"
   ]
  },
  {
   "cell_type": "code",
   "execution_count": 29,
   "metadata": {},
   "outputs": [
    {
     "data": {
      "text/plain": [
       "count    69.000000\n",
       "mean     16.434783\n",
       "std      18.064002\n",
       "min       0.000000\n",
       "25%       5.000000\n",
       "50%       9.000000\n",
       "75%      24.000000\n",
       "max      92.000000\n",
       "Name: Elev_Num, dtype: float64"
      ]
     },
     "execution_count": 29,
     "metadata": {},
     "output_type": "execute_result"
    }
   ],
   "source": [
    "Elev_Num.describe()"
   ]
  },
  {
   "cell_type": "code",
   "execution_count": 30,
   "metadata": {},
   "outputs": [
    {
     "name": "stdout",
     "output_type": "stream",
     "text": [
      "kaptCode           A15180705\n",
      "bjdCode           1162010100\n",
      "Household_Num           3544\n",
      "Begin_Date        20030906.0\n",
      "Heating_Method          개별난방\n",
      "House_Type               아파트\n",
      "Elec_Con                단일계약\n",
      "Elev_Num                92.0\n",
      "Park_Above             975.0\n",
      "Park_Below            4429.0\n",
      "Name: 8, dtype: object\n",
      "    kaptCode Complex_Name\n",
      "8  A15180705       관악드림타운\n"
     ]
    }
   ],
   "source": [
    "printApt(Elev_Num, df, dfInfo)"
   ]
  },
  {
   "attachments": {},
   "cell_type": "markdown",
   "metadata": {},
   "source": [
    "## Electricity Contract; Elec_Con"
   ]
  },
  {
   "cell_type": "code",
   "execution_count": 31,
   "metadata": {},
   "outputs": [
    {
     "name": "stdout",
     "output_type": "stream",
     "text": [
      "There are 2 null values, and they are located at \n",
      "[64 67]\n"
     ]
    }
   ],
   "source": [
    "Elec_Con = df['Elec_Con']\n",
    "print(f\"There are {Elec_Con.isnull().sum()} null values, and they are located at \\n{np.where(Elec_Con.isnull())[0]}\")"
   ]
  },
  {
   "cell_type": "code",
   "execution_count": 32,
   "metadata": {},
   "outputs": [],
   "source": [
    "Elec_Con = Elec_Con.dropna()"
   ]
  },
  {
   "cell_type": "code",
   "execution_count": 33,
   "metadata": {},
   "outputs": [
    {
     "name": "stdout",
     "output_type": "stream",
     "text": [
      "[0 0 0 0 0 0 0 0 0 0 0 0 0 1 0 0 1 0 0 0 0 0 1 0 1 0 1 1 0 1 1 1 1 1 0 0 1\n",
      " 1 1 0 0 1 0 0 0 0 0 0 0 0 0 1 0 0 2 1 0 0 1 0 0 0 1 0 1 0 0 1 0]\n",
      "Index(['단일계약', '종합계약', '기타'], dtype='object')\n"
     ]
    }
   ],
   "source": [
    "int_EC = pd.factorize(Elec_Con)[0]\n",
    "ind_EC = pd.factorize(Elec_Con)[1]\n",
    "print(int_EC)\n",
    "print(ind_EC)"
   ]
  },
  {
   "cell_type": "code",
   "execution_count": 34,
   "metadata": {},
   "outputs": [
    {
     "data": {
      "text/plain": [
       "0    47\n",
       "1    21\n",
       "2     1\n",
       "dtype: int64"
      ]
     },
     "execution_count": 34,
     "metadata": {},
     "output_type": "execute_result"
    }
   ],
   "source": [
    "count_int_EC = pd.Series(int_EC).value_counts()\n",
    "count_int_EC"
   ]
  },
  {
   "cell_type": "code",
   "execution_count": 35,
   "metadata": {},
   "outputs": [],
   "source": [
    "eng_ind_EC = ['Single', 'Comprehensive', 'Other']"
   ]
  },
  {
   "cell_type": "code",
   "execution_count": 36,
   "metadata": {},
   "outputs": [
    {
     "data": {
      "image/png": "[encoded data removed]",
      "text/plain": [
       "<Figure size 640x480 with 1 Axes>"
      ]
     },
     "metadata": {},
     "output_type": "display_data"
    }
   ],
   "source": [
    "fig, ax = plt.subplots()\n",
    "ax.pie(count_int_EC, labels=eng_ind_EC, autopct='%1.1f%%')\n",
    "plt.show()"
   ]
  },
  {
   "attachments": {},
   "cell_type": "markdown",
   "metadata": {},
   "source": [
    "## Park_Above & Park_Below"
   ]
  },
  {
   "cell_type": "code",
   "execution_count": 37,
   "metadata": {},
   "outputs": [
    {
     "name": "stdout",
     "output_type": "stream",
     "text": [
      "There are 2 null values, and they are located at \n",
      "[64 67]\n",
      "There are 2 null values, and they are located at \n",
      "[64 67]\n"
     ]
    }
   ],
   "source": [
    "Park_Above = df['Park_Above']\n",
    "Park_Below = df['Park_Below']\n",
    "print(f\"There are {Park_Above.isnull().sum()} null values, and they are located at \\n{np.where(Park_Above.isnull())[0]}\")\n",
    "print(f\"There are {Park_Below.isnull().sum()} null values, and they are located at \\n{np.where(Park_Below.isnull())[0]}\")"
   ]
  },
  {
   "cell_type": "code",
   "execution_count": 38,
   "metadata": {},
   "outputs": [
    {
     "data": {
      "text/plain": [
       "0      39\n",
       "1      96\n",
       "2     224\n",
       "3      42\n",
       "4     120\n",
       "     ... \n",
       "65      0\n",
       "66      1\n",
       "68     27\n",
       "69     38\n",
       "70     39\n",
       "Name: Park_Above, Length: 69, dtype: int16"
      ]
     },
     "metadata": {},
     "output_type": "display_data"
    },
    {
     "data": {
      "text/plain": [
       "0      100\n",
       "1      428\n",
       "2        0\n",
       "3      222\n",
       "4     1990\n",
       "      ... \n",
       "65    1303\n",
       "66     140\n",
       "68     159\n",
       "69     170\n",
       "70      73\n",
       "Name: Park_Below, Length: 69, dtype: int16"
      ]
     },
     "metadata": {},
     "output_type": "display_data"
    }
   ],
   "source": [
    "Park_Above = Park_Above.dropna().astype('int16')\n",
    "Park_Below = Park_Below.dropna().astype('int16')\n",
    "display(Park_Above)\n",
    "display(Park_Below)"
   ]
  },
  {
   "cell_type": "code",
   "execution_count": 39,
   "metadata": {},
   "outputs": [
    {
     "data": {
      "image/png": "[encoded data removed]",
      "text/plain": [
       "<Figure size 640x480 with 1 Axes>"
      ]
     },
     "metadata": {},
     "output_type": "display_data"
    }
   ],
   "source": [
    "fig, ax = plt.subplots()\n",
    "b = int(len(Park_Above)/2)\n",
    "ax.hist(Park_Above, bins = b)\n",
    "plt.show()"
   ]
  },
  {
   "cell_type": "code",
   "execution_count": 40,
   "metadata": {},
   "outputs": [
    {
     "data": {
      "image/png": "[encoded data removed]",
      "text/plain": [
       "<Figure size 640x480 with 1 Axes>"
      ]
     },
     "metadata": {},
     "output_type": "display_data"
    }
   ],
   "source": [
    "fig, ax = plt.subplots()\n",
    "b = int(len(Park_Below)/2)\n",
    "ax.hist(Park_Below, bins = b)\n",
    "plt.show()"
   ]
  },
  {
   "cell_type": "code",
   "execution_count": 41,
   "metadata": {},
   "outputs": [
    {
     "data": {
      "text/plain": [
       "count     69.000000\n",
       "mean     150.478261\n",
       "std      210.234366\n",
       "min        0.000000\n",
       "25%       26.000000\n",
       "50%       70.000000\n",
       "75%      176.000000\n",
       "max      975.000000\n",
       "Name: Park_Above, dtype: float64"
      ]
     },
     "execution_count": 41,
     "metadata": {},
     "output_type": "execute_result"
    }
   ],
   "source": [
    "Park_Above.describe()"
   ]
  },
  {
   "cell_type": "code",
   "execution_count": 42,
   "metadata": {},
   "outputs": [
    {
     "data": {
      "text/plain": [
       "count      69.000000\n",
       "mean      510.028986\n",
       "std       763.077804\n",
       "min         0.000000\n",
       "25%        98.000000\n",
       "50%       218.000000\n",
       "75%       437.000000\n",
       "max      4429.000000\n",
       "Name: Park_Below, dtype: float64"
      ]
     },
     "execution_count": 42,
     "metadata": {},
     "output_type": "execute_result"
    }
   ],
   "source": [
    "Park_Below.describe()"
   ]
  },
  {
   "cell_type": "code",
   "execution_count": 43,
   "metadata": {},
   "outputs": [
    {
     "name": "stdout",
     "output_type": "stream",
     "text": [
      "kaptCode           A15180705\n",
      "bjdCode           1162010100\n",
      "Household_Num           3544\n",
      "Begin_Date        20030906.0\n",
      "Heating_Method          개별난방\n",
      "House_Type               아파트\n",
      "Elec_Con                단일계약\n",
      "Elev_Num                92.0\n",
      "Park_Above             975.0\n",
      "Park_Below            4429.0\n",
      "Name: 8, dtype: object\n",
      "    kaptCode Complex_Name\n",
      "8  A15180705       관악드림타운\n"
     ]
    }
   ],
   "source": [
    "printApt(Park_Above, df, dfInfo)"
   ]
  },
  {
   "cell_type": "code",
   "execution_count": 44,
   "metadata": {},
   "outputs": [
    {
     "name": "stdout",
     "output_type": "stream",
     "text": [
      "kaptCode           A15180705\n",
      "bjdCode           1162010100\n",
      "Household_Num           3544\n",
      "Begin_Date        20030906.0\n",
      "Heating_Method          개별난방\n",
      "House_Type               아파트\n",
      "Elec_Con                단일계약\n",
      "Elev_Num                92.0\n",
      "Park_Above             975.0\n",
      "Park_Below            4429.0\n",
      "Name: 8, dtype: object\n",
      "    kaptCode Complex_Name\n",
      "8  A15180705       관악드림타운\n"
     ]
    }
   ],
   "source": [
    "printApt(Park_Below, df, dfInfo)"
   ]
  }
 ],
 "metadata": {
  "kernelspec": {
   "display_name": "ybenv",
   "language": "python",
   "name": "ybenv"
  },
  "language_info": {
   "codemirror_mode": {
    "name": "ipython",
    "version": 3
   },
   "file_extension": ".py",
   "mimetype": "text/x-python",
   "name": "python",
   "nbconvert_exporter": "python",
   "pygments_lexer": "ipython3",
   "version": "3.9.16"
  },
  "orig_nbformat": 4
 },
 "nbformat": 4,
 "nbformat_minor": 2
}
