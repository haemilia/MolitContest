{
 "cells": [
  {
   "cell_type": "code",
   "execution_count": 14,
   "metadata": {},
   "outputs": [],
   "source": [
    "import pandas as pd\n",
    "import numpy as np\n",
    "import matplotlib.pyplot as plt\n",
    "import missingno as msno"
   ]
  },
  {
   "cell_type": "code",
   "execution_count": 15,
   "metadata": {},
   "outputs": [],
   "source": [
    "df = pd.read_csv(\"C:/Users/lhi30/Haein/2023/YBIGTA/DA/Project/Share/AptOnly/Geumcheon_Gu_Only.csv\")"
   ]
  },
  {
   "cell_type": "code",
   "execution_count": 16,
   "metadata": {},
   "outputs": [],
   "source": [
    "dfInfo = pd.read_csv(\"C:/Users/lhi30/Haein/2023/YBIGTA/DA/Project/Share/Data_Analysis/Reference.csv\", \n",
    "                     index_col=0)"
   ]
  },
  {
   "cell_type": "code",
   "execution_count": 17,
   "metadata": {},
   "outputs": [
    {
     "data": {
      "text/html": [
       "<div>\n",
       "<style scoped>\n",
       "    .dataframe tbody tr th:only-of-type {\n",
       "        vertical-align: middle;\n",
       "    }\n",
       "\n",
       "    .dataframe tbody tr th {\n",
       "        vertical-align: top;\n",
       "    }\n",
       "\n",
       "    .dataframe thead th {\n",
       "        text-align: right;\n",
       "    }\n",
       "</style>\n",
       "<table border=\"1\" class=\"dataframe\">\n",
       "  <thead>\n",
       "    <tr style=\"text-align: right;\">\n",
       "      <th></th>\n",
       "      <th>kaptCode</th>\n",
       "      <th>bjdCode</th>\n",
       "      <th>Household_Num</th>\n",
       "      <th>Begin_Date</th>\n",
       "      <th>Heating_Method</th>\n",
       "      <th>House_Type</th>\n",
       "      <th>Elec_Con</th>\n",
       "      <th>Elev_Num</th>\n",
       "      <th>Park_Above</th>\n",
       "      <th>Park_Below</th>\n",
       "    </tr>\n",
       "  </thead>\n",
       "  <tbody>\n",
       "    <tr>\n",
       "      <th>0</th>\n",
       "      <td>A15380403</td>\n",
       "      <td>1154510100</td>\n",
       "      <td>1495</td>\n",
       "      <td>19980309</td>\n",
       "      <td>개별난방</td>\n",
       "      <td>아파트</td>\n",
       "      <td>단일계약</td>\n",
       "      <td>66.0</td>\n",
       "      <td>546.0</td>\n",
       "      <td>1176.0</td>\n",
       "    </tr>\n",
       "    <tr>\n",
       "      <th>1</th>\n",
       "      <td>A15380101</td>\n",
       "      <td>1154510100</td>\n",
       "      <td>210</td>\n",
       "      <td>19980721</td>\n",
       "      <td>개별난방</td>\n",
       "      <td>아파트</td>\n",
       "      <td>단일계약</td>\n",
       "      <td>5.0</td>\n",
       "      <td>38.0</td>\n",
       "      <td>174.0</td>\n",
       "    </tr>\n",
       "    <tr>\n",
       "      <th>2</th>\n",
       "      <td>A10023956</td>\n",
       "      <td>1154510100</td>\n",
       "      <td>299</td>\n",
       "      <td>20171201</td>\n",
       "      <td>개별난방</td>\n",
       "      <td>아파트</td>\n",
       "      <td>단일계약</td>\n",
       "      <td>5.0</td>\n",
       "      <td>32.0</td>\n",
       "      <td>284.0</td>\n",
       "    </tr>\n",
       "    <tr>\n",
       "      <th>3</th>\n",
       "      <td>A15382301</td>\n",
       "      <td>1154510200</td>\n",
       "      <td>341</td>\n",
       "      <td>20021024</td>\n",
       "      <td>개별난방</td>\n",
       "      <td>아파트</td>\n",
       "      <td>단일계약</td>\n",
       "      <td>8.0</td>\n",
       "      <td>116.0</td>\n",
       "      <td>255.0</td>\n",
       "    </tr>\n",
       "    <tr>\n",
       "      <th>4</th>\n",
       "      <td>A15383601</td>\n",
       "      <td>1154510200</td>\n",
       "      <td>154</td>\n",
       "      <td>19971017</td>\n",
       "      <td>개별난방</td>\n",
       "      <td>아파트</td>\n",
       "      <td>단일계약</td>\n",
       "      <td>3.0</td>\n",
       "      <td>41.0</td>\n",
       "      <td>98.0</td>\n",
       "    </tr>\n",
       "    <tr>\n",
       "      <th>5</th>\n",
       "      <td>A15381402</td>\n",
       "      <td>1154510200</td>\n",
       "      <td>154</td>\n",
       "      <td>19980924</td>\n",
       "      <td>개별난방</td>\n",
       "      <td>아파트</td>\n",
       "      <td>단일계약</td>\n",
       "      <td>8.0</td>\n",
       "      <td>9.0</td>\n",
       "      <td>123.0</td>\n",
       "    </tr>\n",
       "    <tr>\n",
       "      <th>6</th>\n",
       "      <td>A15301105</td>\n",
       "      <td>1154510200</td>\n",
       "      <td>554</td>\n",
       "      <td>20041027</td>\n",
       "      <td>개별난방</td>\n",
       "      <td>아파트</td>\n",
       "      <td>단일계약</td>\n",
       "      <td>13.0</td>\n",
       "      <td>152.0</td>\n",
       "      <td>490.0</td>\n",
       "    </tr>\n",
       "    <tr>\n",
       "      <th>7</th>\n",
       "      <td>A15383308</td>\n",
       "      <td>1154510200</td>\n",
       "      <td>1226</td>\n",
       "      <td>19901114</td>\n",
       "      <td>지역난방</td>\n",
       "      <td>아파트</td>\n",
       "      <td>단일계약</td>\n",
       "      <td>16.0</td>\n",
       "      <td>413.0</td>\n",
       "      <td>0.0</td>\n",
       "    </tr>\n",
       "    <tr>\n",
       "      <th>8</th>\n",
       "      <td>A15375810</td>\n",
       "      <td>1154510200</td>\n",
       "      <td>187</td>\n",
       "      <td>20080421</td>\n",
       "      <td>개별난방</td>\n",
       "      <td>아파트</td>\n",
       "      <td>단일계약</td>\n",
       "      <td>5.0</td>\n",
       "      <td>22.0</td>\n",
       "      <td>194.0</td>\n",
       "    </tr>\n",
       "    <tr>\n",
       "      <th>9</th>\n",
       "      <td>A15370301</td>\n",
       "      <td>1154510200</td>\n",
       "      <td>246</td>\n",
       "      <td>20110930</td>\n",
       "      <td>개별난방</td>\n",
       "      <td>아파트</td>\n",
       "      <td>단일계약</td>\n",
       "      <td>10.0</td>\n",
       "      <td>52.0</td>\n",
       "      <td>206.0</td>\n",
       "    </tr>\n",
       "    <tr>\n",
       "      <th>10</th>\n",
       "      <td>A15375809</td>\n",
       "      <td>1154510200</td>\n",
       "      <td>840</td>\n",
       "      <td>19901114</td>\n",
       "      <td>중앙난방</td>\n",
       "      <td>아파트</td>\n",
       "      <td>단일계약</td>\n",
       "      <td>13.0</td>\n",
       "      <td>266.0</td>\n",
       "      <td>0.0</td>\n",
       "    </tr>\n",
       "    <tr>\n",
       "      <th>11</th>\n",
       "      <td>A15381706</td>\n",
       "      <td>1154510200</td>\n",
       "      <td>996</td>\n",
       "      <td>20020905</td>\n",
       "      <td>개별난방</td>\n",
       "      <td>아파트</td>\n",
       "      <td>단일계약</td>\n",
       "      <td>46.0</td>\n",
       "      <td>242.0</td>\n",
       "      <td>611.0</td>\n",
       "    </tr>\n",
       "    <tr>\n",
       "      <th>12</th>\n",
       "      <td>A15383604</td>\n",
       "      <td>1154510200</td>\n",
       "      <td>245</td>\n",
       "      <td>19991217</td>\n",
       "      <td>개별난방</td>\n",
       "      <td>아파트</td>\n",
       "      <td>단일계약</td>\n",
       "      <td>5.0</td>\n",
       "      <td>60.0</td>\n",
       "      <td>179.0</td>\n",
       "    </tr>\n",
       "    <tr>\n",
       "      <th>13</th>\n",
       "      <td>A15381303</td>\n",
       "      <td>1154510200</td>\n",
       "      <td>214</td>\n",
       "      <td>19990820</td>\n",
       "      <td>개별난방</td>\n",
       "      <td>아파트</td>\n",
       "      <td>종합계약</td>\n",
       "      <td>5.0</td>\n",
       "      <td>83.0</td>\n",
       "      <td>129.0</td>\n",
       "    </tr>\n",
       "    <tr>\n",
       "      <th>14</th>\n",
       "      <td>A15383307</td>\n",
       "      <td>1154510200</td>\n",
       "      <td>1000</td>\n",
       "      <td>19910820</td>\n",
       "      <td>지역난방</td>\n",
       "      <td>아파트</td>\n",
       "      <td>단일계약</td>\n",
       "      <td>32.0</td>\n",
       "      <td>499.0</td>\n",
       "      <td>342.0</td>\n",
       "    </tr>\n",
       "    <tr>\n",
       "      <th>15</th>\n",
       "      <td>A10027188</td>\n",
       "      <td>1154510200</td>\n",
       "      <td>1743</td>\n",
       "      <td>20161130</td>\n",
       "      <td>개별난방</td>\n",
       "      <td>아파트</td>\n",
       "      <td>단일계약</td>\n",
       "      <td>34.0</td>\n",
       "      <td>0.0</td>\n",
       "      <td>2265.0</td>\n",
       "    </tr>\n",
       "    <tr>\n",
       "      <th>16</th>\n",
       "      <td>A10026024</td>\n",
       "      <td>1154510200</td>\n",
       "      <td>109</td>\n",
       "      <td>19960313</td>\n",
       "      <td>개별난방</td>\n",
       "      <td>아파트</td>\n",
       "      <td>종합계약</td>\n",
       "      <td>3.0</td>\n",
       "      <td>28.0</td>\n",
       "      <td>64.0</td>\n",
       "    </tr>\n",
       "    <tr>\n",
       "      <th>17</th>\n",
       "      <td>A10025946</td>\n",
       "      <td>1154510200</td>\n",
       "      <td>1236</td>\n",
       "      <td>20181030</td>\n",
       "      <td>개별난방</td>\n",
       "      <td>아파트</td>\n",
       "      <td>종합계약</td>\n",
       "      <td>28.0</td>\n",
       "      <td>0.0</td>\n",
       "      <td>1351.0</td>\n",
       "    </tr>\n",
       "    <tr>\n",
       "      <th>18</th>\n",
       "      <td>A10025116</td>\n",
       "      <td>1154510200</td>\n",
       "      <td>432</td>\n",
       "      <td>20191128</td>\n",
       "      <td>개별난방</td>\n",
       "      <td>아파트</td>\n",
       "      <td>종합계약</td>\n",
       "      <td>12.0</td>\n",
       "      <td>0.0</td>\n",
       "      <td>449.0</td>\n",
       "    </tr>\n",
       "    <tr>\n",
       "      <th>19</th>\n",
       "      <td>A10024302</td>\n",
       "      <td>1154510200</td>\n",
       "      <td>927</td>\n",
       "      <td>20210429</td>\n",
       "      <td>개별난방+기타</td>\n",
       "      <td>아파트</td>\n",
       "      <td>종합계약</td>\n",
       "      <td>28.0</td>\n",
       "      <td>0.0</td>\n",
       "      <td>1144.0</td>\n",
       "    </tr>\n",
       "    <tr>\n",
       "      <th>20</th>\n",
       "      <td>A15383702</td>\n",
       "      <td>1154510300</td>\n",
       "      <td>786</td>\n",
       "      <td>19990920</td>\n",
       "      <td>개별난방</td>\n",
       "      <td>아파트</td>\n",
       "      <td>단일계약</td>\n",
       "      <td>15.0</td>\n",
       "      <td>169.0</td>\n",
       "      <td>768.0</td>\n",
       "    </tr>\n",
       "    <tr>\n",
       "      <th>21</th>\n",
       "      <td>A15386506</td>\n",
       "      <td>1154510300</td>\n",
       "      <td>986</td>\n",
       "      <td>19811223</td>\n",
       "      <td>개별난방</td>\n",
       "      <td>아파트</td>\n",
       "      <td>단일계약</td>\n",
       "      <td>11.0</td>\n",
       "      <td>630.0</td>\n",
       "      <td>0.0</td>\n",
       "    </tr>\n",
       "    <tr>\n",
       "      <th>22</th>\n",
       "      <td>A15303002</td>\n",
       "      <td>1154510300</td>\n",
       "      <td>1772</td>\n",
       "      <td>20000216</td>\n",
       "      <td>개별난방</td>\n",
       "      <td>아파트</td>\n",
       "      <td>단일계약</td>\n",
       "      <td>45.0</td>\n",
       "      <td>892.0</td>\n",
       "      <td>624.0</td>\n",
       "    </tr>\n",
       "    <tr>\n",
       "      <th>23</th>\n",
       "      <td>A15386404</td>\n",
       "      <td>1154510300</td>\n",
       "      <td>260</td>\n",
       "      <td>19821207</td>\n",
       "      <td>개별난방</td>\n",
       "      <td>아파트</td>\n",
       "      <td>단일계약</td>\n",
       "      <td>2.0</td>\n",
       "      <td>168.0</td>\n",
       "      <td>0.0</td>\n",
       "    </tr>\n",
       "    <tr>\n",
       "      <th>24</th>\n",
       "      <td>A15384501</td>\n",
       "      <td>1154510300</td>\n",
       "      <td>270</td>\n",
       "      <td>19981028</td>\n",
       "      <td>개별난방</td>\n",
       "      <td>아파트</td>\n",
       "      <td>종합계약</td>\n",
       "      <td>6.0</td>\n",
       "      <td>103.0</td>\n",
       "      <td>168.0</td>\n",
       "    </tr>\n",
       "    <tr>\n",
       "      <th>25</th>\n",
       "      <td>A15303401</td>\n",
       "      <td>1154510300</td>\n",
       "      <td>185</td>\n",
       "      <td>20000907</td>\n",
       "      <td>개별난방</td>\n",
       "      <td>아파트</td>\n",
       "      <td>종합계약</td>\n",
       "      <td>5.0</td>\n",
       "      <td>29.0</td>\n",
       "      <td>171.0</td>\n",
       "    </tr>\n",
       "    <tr>\n",
       "      <th>26</th>\n",
       "      <td>A15303203</td>\n",
       "      <td>1154510300</td>\n",
       "      <td>671</td>\n",
       "      <td>20021230</td>\n",
       "      <td>개별난방</td>\n",
       "      <td>아파트</td>\n",
       "      <td>단일계약</td>\n",
       "      <td>14.0</td>\n",
       "      <td>125.0</td>\n",
       "      <td>641.0</td>\n",
       "    </tr>\n",
       "    <tr>\n",
       "      <th>27</th>\n",
       "      <td>A15303103</td>\n",
       "      <td>1154510300</td>\n",
       "      <td>233</td>\n",
       "      <td>19860813</td>\n",
       "      <td>개별난방</td>\n",
       "      <td>아파트</td>\n",
       "      <td>단일계약</td>\n",
       "      <td>4.0</td>\n",
       "      <td>200.0</td>\n",
       "      <td>0.0</td>\n",
       "    </tr>\n",
       "    <tr>\n",
       "      <th>28</th>\n",
       "      <td>A15303202</td>\n",
       "      <td>1154510300</td>\n",
       "      <td>564</td>\n",
       "      <td>20000216</td>\n",
       "      <td>개별난방</td>\n",
       "      <td>아파트</td>\n",
       "      <td>단일계약</td>\n",
       "      <td>6.0</td>\n",
       "      <td>26.0</td>\n",
       "      <td>112.0</td>\n",
       "    </tr>\n",
       "    <tr>\n",
       "      <th>29</th>\n",
       "      <td>A15378501</td>\n",
       "      <td>1154510300</td>\n",
       "      <td>202</td>\n",
       "      <td>20060103</td>\n",
       "      <td>개별난방</td>\n",
       "      <td>아파트</td>\n",
       "      <td>종합계약</td>\n",
       "      <td>6.0</td>\n",
       "      <td>68.0</td>\n",
       "      <td>126.0</td>\n",
       "    </tr>\n",
       "    <tr>\n",
       "      <th>30</th>\n",
       "      <td>A15383905</td>\n",
       "      <td>1154510300</td>\n",
       "      <td>639</td>\n",
       "      <td>19801224</td>\n",
       "      <td>중앙난방</td>\n",
       "      <td>아파트</td>\n",
       "      <td>단일계약</td>\n",
       "      <td>7.0</td>\n",
       "      <td>575.0</td>\n",
       "      <td>0.0</td>\n",
       "    </tr>\n",
       "    <tr>\n",
       "      <th>31</th>\n",
       "      <td>A15370103</td>\n",
       "      <td>1154510300</td>\n",
       "      <td>1764</td>\n",
       "      <td>20140814</td>\n",
       "      <td>개별난방</td>\n",
       "      <td>아파트</td>\n",
       "      <td>단일계약</td>\n",
       "      <td>92.0</td>\n",
       "      <td>82.0</td>\n",
       "      <td>2188.0</td>\n",
       "    </tr>\n",
       "    <tr>\n",
       "      <th>32</th>\n",
       "      <td>A15384101</td>\n",
       "      <td>1154510300</td>\n",
       "      <td>197</td>\n",
       "      <td>19960624</td>\n",
       "      <td>개별난방</td>\n",
       "      <td>아파트</td>\n",
       "      <td>단일계약</td>\n",
       "      <td>6.0</td>\n",
       "      <td>91.0</td>\n",
       "      <td>52.0</td>\n",
       "    </tr>\n",
       "    <tr>\n",
       "      <th>33</th>\n",
       "      <td>A15303205</td>\n",
       "      <td>1154510300</td>\n",
       "      <td>2810</td>\n",
       "      <td>20040806</td>\n",
       "      <td>개별난방</td>\n",
       "      <td>아파트</td>\n",
       "      <td>단일계약</td>\n",
       "      <td>64.0</td>\n",
       "      <td>977.0</td>\n",
       "      <td>2169.0</td>\n",
       "    </tr>\n",
       "    <tr>\n",
       "      <th>34</th>\n",
       "      <td>A15303502</td>\n",
       "      <td>1154510300</td>\n",
       "      <td>206</td>\n",
       "      <td>20061128</td>\n",
       "      <td>개별난방</td>\n",
       "      <td>아파트</td>\n",
       "      <td>종합계약</td>\n",
       "      <td>8.0</td>\n",
       "      <td>78.0</td>\n",
       "      <td>169.0</td>\n",
       "    </tr>\n",
       "    <tr>\n",
       "      <th>35</th>\n",
       "      <td>A15384603</td>\n",
       "      <td>1154510300</td>\n",
       "      <td>619</td>\n",
       "      <td>19891021</td>\n",
       "      <td>개별난방</td>\n",
       "      <td>아파트</td>\n",
       "      <td>단일계약</td>\n",
       "      <td>6.0</td>\n",
       "      <td>202.0</td>\n",
       "      <td>0.0</td>\n",
       "    </tr>\n",
       "    <tr>\n",
       "      <th>36</th>\n",
       "      <td>A15303204</td>\n",
       "      <td>1154510300</td>\n",
       "      <td>1288</td>\n",
       "      <td>20040806</td>\n",
       "      <td>개별난방</td>\n",
       "      <td>아파트</td>\n",
       "      <td>단일계약</td>\n",
       "      <td>15.0</td>\n",
       "      <td>80.0</td>\n",
       "      <td>450.0</td>\n",
       "    </tr>\n",
       "    <tr>\n",
       "      <th>37</th>\n",
       "      <td>A15303003</td>\n",
       "      <td>1154510300</td>\n",
       "      <td>173</td>\n",
       "      <td>19960914</td>\n",
       "      <td>개별난방</td>\n",
       "      <td>아파트</td>\n",
       "      <td>단일계약</td>\n",
       "      <td>3.0</td>\n",
       "      <td>68.0</td>\n",
       "      <td>0.0</td>\n",
       "    </tr>\n",
       "    <tr>\n",
       "      <th>38</th>\n",
       "      <td>A15303102</td>\n",
       "      <td>1154510300</td>\n",
       "      <td>229</td>\n",
       "      <td>20040525</td>\n",
       "      <td>개별난방</td>\n",
       "      <td>아파트</td>\n",
       "      <td>단일계약</td>\n",
       "      <td>7.0</td>\n",
       "      <td>61.0</td>\n",
       "      <td>192.0</td>\n",
       "    </tr>\n",
       "    <tr>\n",
       "      <th>39</th>\n",
       "      <td>A10026187</td>\n",
       "      <td>1154510300</td>\n",
       "      <td>114</td>\n",
       "      <td>20030927</td>\n",
       "      <td>개별난방</td>\n",
       "      <td>아파트</td>\n",
       "      <td>단일계약</td>\n",
       "      <td>4.0</td>\n",
       "      <td>36.0</td>\n",
       "      <td>86.0</td>\n",
       "    </tr>\n",
       "    <tr>\n",
       "      <th>40</th>\n",
       "      <td>A10025447</td>\n",
       "      <td>1154510300</td>\n",
       "      <td>123</td>\n",
       "      <td>19981219</td>\n",
       "      <td>개별난방</td>\n",
       "      <td>아파트</td>\n",
       "      <td>종합계약</td>\n",
       "      <td>3.0</td>\n",
       "      <td>15.0</td>\n",
       "      <td>109.0</td>\n",
       "    </tr>\n",
       "    <tr>\n",
       "      <th>41</th>\n",
       "      <td>A10026792</td>\n",
       "      <td>1154510300</td>\n",
       "      <td>112</td>\n",
       "      <td>20080115</td>\n",
       "      <td>개별난방</td>\n",
       "      <td>아파트</td>\n",
       "      <td>단일계약</td>\n",
       "      <td>6.0</td>\n",
       "      <td>54.0</td>\n",
       "      <td>63.0</td>\n",
       "    </tr>\n",
       "  </tbody>\n",
       "</table>\n",
       "</div>"
      ],
      "text/plain": [
       "     kaptCode     bjdCode  Household_Num  Begin_Date Heating_Method  \\\n",
       "0   A15380403  1154510100           1495    19980309           개별난방   \n",
       "1   A15380101  1154510100            210    19980721           개별난방   \n",
       "2   A10023956  1154510100            299    20171201           개별난방   \n",
       "3   A15382301  1154510200            341    20021024           개별난방   \n",
       "4   A15383601  1154510200            154    19971017           개별난방   \n",
       "5   A15381402  1154510200            154    19980924           개별난방   \n",
       "6   A15301105  1154510200            554    20041027           개별난방   \n",
       "7   A15383308  1154510200           1226    19901114           지역난방   \n",
       "8   A15375810  1154510200            187    20080421           개별난방   \n",
       "9   A15370301  1154510200            246    20110930           개별난방   \n",
       "10  A15375809  1154510200            840    19901114           중앙난방   \n",
       "11  A15381706  1154510200            996    20020905           개별난방   \n",
       "12  A15383604  1154510200            245    19991217           개별난방   \n",
       "13  A15381303  1154510200            214    19990820           개별난방   \n",
       "14  A15383307  1154510200           1000    19910820           지역난방   \n",
       "15  A10027188  1154510200           1743    20161130           개별난방   \n",
       "16  A10026024  1154510200            109    19960313           개별난방   \n",
       "17  A10025946  1154510200           1236    20181030           개별난방   \n",
       "18  A10025116  1154510200            432    20191128           개별난방   \n",
       "19  A10024302  1154510200            927    20210429        개별난방+기타   \n",
       "20  A15383702  1154510300            786    19990920           개별난방   \n",
       "21  A15386506  1154510300            986    19811223           개별난방   \n",
       "22  A15303002  1154510300           1772    20000216           개별난방   \n",
       "23  A15386404  1154510300            260    19821207           개별난방   \n",
       "24  A15384501  1154510300            270    19981028           개별난방   \n",
       "25  A15303401  1154510300            185    20000907           개별난방   \n",
       "26  A15303203  1154510300            671    20021230           개별난방   \n",
       "27  A15303103  1154510300            233    19860813           개별난방   \n",
       "28  A15303202  1154510300            564    20000216           개별난방   \n",
       "29  A15378501  1154510300            202    20060103           개별난방   \n",
       "30  A15383905  1154510300            639    19801224           중앙난방   \n",
       "31  A15370103  1154510300           1764    20140814           개별난방   \n",
       "32  A15384101  1154510300            197    19960624           개별난방   \n",
       "33  A15303205  1154510300           2810    20040806           개별난방   \n",
       "34  A15303502  1154510300            206    20061128           개별난방   \n",
       "35  A15384603  1154510300            619    19891021           개별난방   \n",
       "36  A15303204  1154510300           1288    20040806           개별난방   \n",
       "37  A15303003  1154510300            173    19960914           개별난방   \n",
       "38  A15303102  1154510300            229    20040525           개별난방   \n",
       "39  A10026187  1154510300            114    20030927           개별난방   \n",
       "40  A10025447  1154510300            123    19981219           개별난방   \n",
       "41  A10026792  1154510300            112    20080115           개별난방   \n",
       "\n",
       "   House_Type Elec_Con  Elev_Num  Park_Above  Park_Below  \n",
       "0         아파트     단일계약      66.0       546.0      1176.0  \n",
       "1         아파트     단일계약       5.0        38.0       174.0  \n",
       "2         아파트     단일계약       5.0        32.0       284.0  \n",
       "3         아파트     단일계약       8.0       116.0       255.0  \n",
       "4         아파트     단일계약       3.0        41.0        98.0  \n",
       "5         아파트     단일계약       8.0         9.0       123.0  \n",
       "6         아파트     단일계약      13.0       152.0       490.0  \n",
       "7         아파트     단일계약      16.0       413.0         0.0  \n",
       "8         아파트     단일계약       5.0        22.0       194.0  \n",
       "9         아파트     단일계약      10.0        52.0       206.0  \n",
       "10        아파트     단일계약      13.0       266.0         0.0  \n",
       "11        아파트     단일계약      46.0       242.0       611.0  \n",
       "12        아파트     단일계약       5.0        60.0       179.0  \n",
       "13        아파트     종합계약       5.0        83.0       129.0  \n",
       "14        아파트     단일계약      32.0       499.0       342.0  \n",
       "15        아파트     단일계약      34.0         0.0      2265.0  \n",
       "16        아파트     종합계약       3.0        28.0        64.0  \n",
       "17        아파트     종합계약      28.0         0.0      1351.0  \n",
       "18        아파트     종합계약      12.0         0.0       449.0  \n",
       "19        아파트     종합계약      28.0         0.0      1144.0  \n",
       "20        아파트     단일계약      15.0       169.0       768.0  \n",
       "21        아파트     단일계약      11.0       630.0         0.0  \n",
       "22        아파트     단일계약      45.0       892.0       624.0  \n",
       "23        아파트     단일계약       2.0       168.0         0.0  \n",
       "24        아파트     종합계약       6.0       103.0       168.0  \n",
       "25        아파트     종합계약       5.0        29.0       171.0  \n",
       "26        아파트     단일계약      14.0       125.0       641.0  \n",
       "27        아파트     단일계약       4.0       200.0         0.0  \n",
       "28        아파트     단일계약       6.0        26.0       112.0  \n",
       "29        아파트     종합계약       6.0        68.0       126.0  \n",
       "30        아파트     단일계약       7.0       575.0         0.0  \n",
       "31        아파트     단일계약      92.0        82.0      2188.0  \n",
       "32        아파트     단일계약       6.0        91.0        52.0  \n",
       "33        아파트     단일계약      64.0       977.0      2169.0  \n",
       "34        아파트     종합계약       8.0        78.0       169.0  \n",
       "35        아파트     단일계약       6.0       202.0         0.0  \n",
       "36        아파트     단일계약      15.0        80.0       450.0  \n",
       "37        아파트     단일계약       3.0        68.0         0.0  \n",
       "38        아파트     단일계약       7.0        61.0       192.0  \n",
       "39        아파트     단일계약       4.0        36.0        86.0  \n",
       "40        아파트     종합계약       3.0        15.0       109.0  \n",
       "41        아파트     단일계약       6.0        54.0        63.0  "
      ]
     },
     "execution_count": 17,
     "metadata": {},
     "output_type": "execute_result"
    }
   ],
   "source": [
    "df"
   ]
  },
  {
   "cell_type": "code",
   "execution_count": 18,
   "metadata": {},
   "outputs": [
    {
     "data": {
      "text/plain": [
       "kaptCode          0\n",
       "bjdCode           0\n",
       "Household_Num     0\n",
       "Begin_Date        0\n",
       "Heating_Method    0\n",
       "House_Type        0\n",
       "Elec_Con          0\n",
       "Elev_Num          0\n",
       "Park_Above        0\n",
       "Park_Below        0\n",
       "dtype: int64"
      ]
     },
     "execution_count": 18,
     "metadata": {},
     "output_type": "execute_result"
    }
   ],
   "source": [
    "df.isnull().sum()"
   ]
  },
  {
   "cell_type": "code",
   "execution_count": 19,
   "metadata": {},
   "outputs": [
    {
     "data": {
      "text/plain": [
       "<AxesSubplot: >"
      ]
     },
     "execution_count": 19,
     "metadata": {},
     "output_type": "execute_result"
    },
    {
     "data": {
      "image/png": "[encoded data removed]",
      "text/plain": [
       "<Figure size 800x800 with 2 Axes>"
      ]
     },
     "metadata": {},
     "output_type": "display_data"
    }
   ],
   "source": [
    "msno.matrix(df=df, figsize=(8, 8))"
   ]
  },
  {
   "attachments": {},
   "cell_type": "markdown",
   "metadata": {},
   "source": [
    "## Begin_Date"
   ]
  },
  {
   "cell_type": "code",
   "execution_count": 20,
   "metadata": {},
   "outputs": [
    {
     "name": "stdout",
     "output_type": "stream",
     "text": [
      "There are 0 null values, and they are located at \n",
      "[]\n"
     ]
    }
   ],
   "source": [
    "#null values\n",
    "Begin_Date = df['Begin_Date']\n",
    "print(f\"There are {Begin_Date.isnull().sum()} null values, and they are located at \\n{np.where(Begin_Date.isnull())[0]}\")"
   ]
  },
  {
   "cell_type": "code",
   "execution_count": 21,
   "metadata": {},
   "outputs": [
    {
     "name": "stdout",
     "output_type": "stream",
     "text": [
      "0    1998-03-09\n",
      "1    1998-07-21\n",
      "2    2017-12-01\n",
      "3    2002-10-24\n",
      "4    1997-10-17\n",
      "5    1998-09-24\n",
      "6    2004-10-27\n",
      "7    1990-11-14\n",
      "8    2008-04-21\n",
      "9    2011-09-30\n",
      "10   1990-11-14\n",
      "11   2002-09-05\n",
      "12   1999-12-17\n",
      "13   1999-08-20\n",
      "14   1991-08-20\n",
      "15   2016-11-30\n",
      "16   1996-03-13\n",
      "17   2018-10-30\n",
      "18   2019-11-28\n",
      "19   2021-04-29\n",
      "20   1999-09-20\n",
      "21   1981-12-23\n",
      "22   2000-02-16\n",
      "23   1982-12-07\n",
      "24   1998-10-28\n",
      "25   2000-09-07\n",
      "26   2002-12-30\n",
      "27   1986-08-13\n",
      "28   2000-02-16\n",
      "29   2006-01-03\n",
      "30   1980-12-24\n",
      "31   2014-08-14\n",
      "32   1996-06-24\n",
      "33   2004-08-06\n",
      "34   2006-11-28\n",
      "35   1989-10-21\n",
      "36   2004-08-06\n",
      "37   1996-09-14\n",
      "38   2004-05-25\n",
      "39   2003-09-27\n",
      "40   1998-12-19\n",
      "41   2008-01-15\n",
      "Name: Begin_Date, dtype: datetime64[ns]\n"
     ]
    }
   ],
   "source": [
    "#Drop the null values and change date values to datetime\n",
    "Begin_Date = df['Begin_Date'].dropna()\n",
    "Begin_Date = pd.to_datetime(Begin_Date, format = '%Y%m%d')\n",
    "print(Begin_Date)"
   ]
  },
  {
   "cell_type": "code",
   "execution_count": 22,
   "metadata": {},
   "outputs": [
    {
     "data": {
      "image/png": "[encoded data removed]",
      "text/plain": [
       "<Figure size 640x480 with 1 Axes>"
      ]
     },
     "metadata": {},
     "output_type": "display_data"
    }
   ],
   "source": [
    "# distribution of years in Begin_Date\n",
    "Begin_Date.groupby(Begin_Date.dt.year).count().plot(kind=\"bar\")\n",
    "plt.show()"
   ]
  },
  {
   "cell_type": "code",
   "execution_count": 23,
   "metadata": {},
   "outputs": [
    {
     "data": {
      "image/png": "[encoded data removed]",
      "text/plain": [
       "<Figure size 640x480 with 1 Axes>"
      ]
     },
     "metadata": {},
     "output_type": "display_data"
    }
   ],
   "source": [
    "#Distribtion of months in Begin_Date(just for fun)\n",
    "Begin_Date.groupby(Begin_Date.dt.month).count().plot(kind=\"bar\")\n",
    "plt.show()"
   ]
  },
  {
   "attachments": {},
   "cell_type": "markdown",
   "metadata": {},
   "source": [
    "## Household_Num"
   ]
  },
  {
   "cell_type": "code",
   "execution_count": 24,
   "metadata": {},
   "outputs": [
    {
     "name": "stdout",
     "output_type": "stream",
     "text": [
      "There are 0 null values, and they are located at \n",
      "[]\n"
     ]
    },
    {
     "data": {
      "text/plain": [
       "0     1495\n",
       "1      210\n",
       "2      299\n",
       "3      341\n",
       "4      154\n",
       "5      154\n",
       "6      554\n",
       "7     1226\n",
       "8      187\n",
       "9      246\n",
       "10     840\n",
       "11     996\n",
       "12     245\n",
       "13     214\n",
       "14    1000\n",
       "15    1743\n",
       "16     109\n",
       "17    1236\n",
       "18     432\n",
       "19     927\n",
       "20     786\n",
       "21     986\n",
       "22    1772\n",
       "23     260\n",
       "24     270\n",
       "25     185\n",
       "26     671\n",
       "27     233\n",
       "28     564\n",
       "29     202\n",
       "30     639\n",
       "31    1764\n",
       "32     197\n",
       "33    2810\n",
       "34     206\n",
       "35     619\n",
       "36    1288\n",
       "37     173\n",
       "38     229\n",
       "39     114\n",
       "40     123\n",
       "41     112\n",
       "Name: Household_Num, dtype: int64"
      ]
     },
     "metadata": {},
     "output_type": "display_data"
    }
   ],
   "source": [
    "#1 null value\n",
    "Household_Num = df['Household_Num']\n",
    "print(f\"There are {Household_Num.isnull().sum()} null values, and they are located at \\n{np.where(Household_Num.isnull())[0]}\")\n",
    "display(Household_Num)"
   ]
  },
  {
   "cell_type": "code",
   "execution_count": 25,
   "metadata": {},
   "outputs": [],
   "source": [
    "Household_Num = Household_Num.dropna()\n",
    "Household_Num = Household_Num.astype('int16')"
   ]
  },
  {
   "cell_type": "code",
   "execution_count": 26,
   "metadata": {},
   "outputs": [
    {
     "data": {
      "image/png": "[encoded data removed]",
      "text/plain": [
       "<Figure size 640x480 with 1 Axes>"
      ]
     },
     "metadata": {},
     "output_type": "display_data"
    }
   ],
   "source": [
    "fig, ax = plt.subplots()\n",
    "b = int(len(Household_Num)/2)\n",
    "ax.hist(Household_Num, bins = b)\n",
    "plt.show()"
   ]
  },
  {
   "cell_type": "code",
   "execution_count": 27,
   "metadata": {},
   "outputs": [
    {
     "data": {
      "text/plain": [
       "count      42.000000\n",
       "mean      638.357143\n",
       "std       608.484235\n",
       "min       109.000000\n",
       "25%       203.000000\n",
       "50%       320.000000\n",
       "75%       971.250000\n",
       "max      2810.000000\n",
       "Name: Household_Num, dtype: float64"
      ]
     },
     "execution_count": 27,
     "metadata": {},
     "output_type": "execute_result"
    }
   ],
   "source": [
    "Household_Num.describe()"
   ]
  },
  {
   "cell_type": "code",
   "execution_count": 28,
   "metadata": {},
   "outputs": [],
   "source": [
    "def printApt (Column, df, dfInfo, maxmin = \"max\", ind= 0):\n",
    "    if(maxmin == \"max\"):\n",
    "        find = Column[Column == Column.max()].index[ind]\n",
    "        print(df.loc[find])\n",
    "        print(dfInfo[dfInfo['kaptCode'] == df.loc[find]['kaptCode']])\n",
    "    elif(maxmin == \"min\"):\n",
    "        find = Column[Column == Column.min()].index[ind]\n",
    "        print(df.loc[find])\n",
    "        print(dfInfo[dfInfo['kaptCode'] == df.loc[find]['kaptCode']])"
   ]
  },
  {
   "cell_type": "code",
   "execution_count": 29,
   "metadata": {},
   "outputs": [
    {
     "name": "stdout",
     "output_type": "stream",
     "text": [
      "kaptCode           A15303205\n",
      "bjdCode           1154510300\n",
      "Household_Num           2810\n",
      "Begin_Date          20040806\n",
      "Heating_Method          개별난방\n",
      "House_Type               아파트\n",
      "Elec_Con                단일계약\n",
      "Elev_Num                64.0\n",
      "Park_Above             977.0\n",
      "Park_Below            2169.0\n",
      "Name: 33, dtype: object\n",
      "     kaptCode Complex_Name\n",
      "38  A15303205    관악벽산타운5단지\n"
     ]
    }
   ],
   "source": [
    "printApt(Household_Num, df, dfInfo)"
   ]
  },
  {
   "attachments": {},
   "cell_type": "markdown",
   "metadata": {},
   "source": [
    "## Heating_Method"
   ]
  },
  {
   "cell_type": "code",
   "execution_count": 30,
   "metadata": {},
   "outputs": [
    {
     "name": "stdout",
     "output_type": "stream",
     "text": [
      "There are 0 null values, and they are located at \n",
      "[]\n"
     ]
    },
    {
     "data": {
      "text/plain": [
       "0        개별난방\n",
       "1        개별난방\n",
       "2        개별난방\n",
       "3        개별난방\n",
       "4        개별난방\n",
       "5        개별난방\n",
       "6        개별난방\n",
       "7        지역난방\n",
       "8        개별난방\n",
       "9        개별난방\n",
       "10       중앙난방\n",
       "11       개별난방\n",
       "12       개별난방\n",
       "13       개별난방\n",
       "14       지역난방\n",
       "15       개별난방\n",
       "16       개별난방\n",
       "17       개별난방\n",
       "18       개별난방\n",
       "19    개별난방+기타\n",
       "20       개별난방\n",
       "21       개별난방\n",
       "22       개별난방\n",
       "23       개별난방\n",
       "24       개별난방\n",
       "25       개별난방\n",
       "26       개별난방\n",
       "27       개별난방\n",
       "28       개별난방\n",
       "29       개별난방\n",
       "30       중앙난방\n",
       "31       개별난방\n",
       "32       개별난방\n",
       "33       개별난방\n",
       "34       개별난방\n",
       "35       개별난방\n",
       "36       개별난방\n",
       "37       개별난방\n",
       "38       개별난방\n",
       "39       개별난방\n",
       "40       개별난방\n",
       "41       개별난방\n",
       "Name: Heating_Method, dtype: object"
      ]
     },
     "metadata": {},
     "output_type": "display_data"
    }
   ],
   "source": [
    "# null values\n",
    "Heating_Method = df['Heating_Method']\n",
    "print(f\"There are {Heating_Method.isnull().sum()} null values, and they are located at \\n{np.where(Heating_Method.isnull())[0]}\")\n",
    "display(Heating_Method)"
   ]
  },
  {
   "cell_type": "code",
   "execution_count": 31,
   "metadata": {},
   "outputs": [],
   "source": [
    "Heating_Method = Heating_Method.dropna()"
   ]
  },
  {
   "cell_type": "code",
   "execution_count": 32,
   "metadata": {},
   "outputs": [
    {
     "name": "stdout",
     "output_type": "stream",
     "text": [
      "[0 0 0 0 0 0 0 1 0 0 2 0 0 0 1 0 0 0 0 3 0 0 0 0 0 0 0 0 0 0 2 0 0 0 0 0 0\n",
      " 0 0 0 0 0]\n",
      "Index(['개별난방', '지역난방', '중앙난방', '개별난방+기타'], dtype='object')\n"
     ]
    }
   ],
   "source": [
    "int_HM = pd.factorize(Heating_Method)[0]\n",
    "ind_HM = pd.factorize(Heating_Method)[1]\n",
    "print(int_HM)\n",
    "print(ind_HM)"
   ]
  },
  {
   "cell_type": "code",
   "execution_count": 33,
   "metadata": {},
   "outputs": [
    {
     "data": {
      "text/plain": [
       "0    37\n",
       "1     2\n",
       "2     2\n",
       "3     1\n",
       "dtype: int64"
      ]
     },
     "execution_count": 33,
     "metadata": {},
     "output_type": "execute_result"
    }
   ],
   "source": [
    "count_int_HM = pd.Series(int_HM).value_counts()\n",
    "count_int_HM"
   ]
  },
  {
   "cell_type": "code",
   "execution_count": 36,
   "metadata": {},
   "outputs": [],
   "source": [
    "eng_ind_HM = ['Individual','Regional', 'Central', 'Indiv + Other']"
   ]
  },
  {
   "cell_type": "code",
   "execution_count": 37,
   "metadata": {},
   "outputs": [
    {
     "data": {
      "image/png": "[encoded data removed]",
      "text/plain": [
       "<Figure size 640x480 with 1 Axes>"
      ]
     },
     "metadata": {},
     "output_type": "display_data"
    }
   ],
   "source": [
    "fig, ax = plt.subplots()\n",
    "ax.pie(count_int_HM, labels=eng_ind_HM, autopct='%1.1f%%')\n",
    "plt.show()"
   ]
  },
  {
   "attachments": {},
   "cell_type": "markdown",
   "metadata": {},
   "source": [
    "## Elev_Num; Elevator Number"
   ]
  },
  {
   "cell_type": "code",
   "execution_count": 38,
   "metadata": {},
   "outputs": [
    {
     "name": "stdout",
     "output_type": "stream",
     "text": [
      "There are 0 null values, and they are located at \n",
      "[]\n"
     ]
    }
   ],
   "source": [
    "Elev_Num = df['Elev_Num']\n",
    "print(f\"There are {Elev_Num.isnull().sum()} null values, and they are located at \\n{np.where(Elev_Num.isnull())[0]}\")"
   ]
  },
  {
   "cell_type": "code",
   "execution_count": 39,
   "metadata": {},
   "outputs": [],
   "source": [
    "Elev_Num = Elev_Num.dropna()\n",
    "Elev_Num = Elev_Num.astype('int16')"
   ]
  },
  {
   "cell_type": "code",
   "execution_count": 40,
   "metadata": {},
   "outputs": [
    {
     "data": {
      "image/png": "[encoded data removed]",
      "text/plain": [
       "<Figure size 640x480 with 1 Axes>"
      ]
     },
     "metadata": {},
     "output_type": "display_data"
    }
   ],
   "source": [
    "fig, ax = plt.subplots()\n",
    "b = int(len(Elev_Num)/2)\n",
    "ax.hist(Elev_Num, bins = b)\n",
    "plt.show()"
   ]
  },
  {
   "cell_type": "code",
   "execution_count": 41,
   "metadata": {},
   "outputs": [
    {
     "data": {
      "text/plain": [
       "count    42.000000\n",
       "mean     16.190476\n",
       "std      19.833746\n",
       "min       2.000000\n",
       "25%       5.000000\n",
       "50%       7.500000\n",
       "75%      15.000000\n",
       "max      92.000000\n",
       "Name: Elev_Num, dtype: float64"
      ]
     },
     "execution_count": 41,
     "metadata": {},
     "output_type": "execute_result"
    }
   ],
   "source": [
    "Elev_Num.describe()"
   ]
  },
  {
   "cell_type": "code",
   "execution_count": 42,
   "metadata": {},
   "outputs": [
    {
     "name": "stdout",
     "output_type": "stream",
     "text": [
      "kaptCode           A15370103\n",
      "bjdCode           1154510300\n",
      "Household_Num           1764\n",
      "Begin_Date          20140814\n",
      "Heating_Method          개별난방\n",
      "House_Type               아파트\n",
      "Elec_Con                단일계약\n",
      "Elev_Num                92.0\n",
      "Park_Above              82.0\n",
      "Park_Below            2188.0\n",
      "Name: 31, dtype: object\n",
      "     kaptCode Complex_Name\n",
      "36  A15370103     남서울힐스테이트\n"
     ]
    }
   ],
   "source": [
    "printApt(Elev_Num, df, dfInfo)"
   ]
  },
  {
   "attachments": {},
   "cell_type": "markdown",
   "metadata": {},
   "source": [
    "## Electricity Contract; Elec_Con"
   ]
  },
  {
   "cell_type": "code",
   "execution_count": 43,
   "metadata": {},
   "outputs": [
    {
     "name": "stdout",
     "output_type": "stream",
     "text": [
      "There are 0 null values, and they are located at \n",
      "[]\n"
     ]
    }
   ],
   "source": [
    "Elec_Con = df['Elec_Con']\n",
    "print(f\"There are {Elec_Con.isnull().sum()} null values, and they are located at \\n{np.where(Elec_Con.isnull())[0]}\")"
   ]
  },
  {
   "cell_type": "code",
   "execution_count": 44,
   "metadata": {},
   "outputs": [],
   "source": [
    "Elec_Con = Elec_Con.dropna()"
   ]
  },
  {
   "cell_type": "code",
   "execution_count": 45,
   "metadata": {},
   "outputs": [
    {
     "name": "stdout",
     "output_type": "stream",
     "text": [
      "[0 0 0 0 0 0 0 0 0 0 0 0 0 1 0 0 1 1 1 1 0 0 0 0 1 1 0 0 0 1 0 0 0 0 1 0 0\n",
      " 0 0 0 1 0]\n",
      "Index(['단일계약', '종합계약'], dtype='object')\n"
     ]
    }
   ],
   "source": [
    "int_EC = pd.factorize(Elec_Con)[0]\n",
    "ind_EC = pd.factorize(Elec_Con)[1]\n",
    "print(int_EC)\n",
    "print(ind_EC)"
   ]
  },
  {
   "cell_type": "code",
   "execution_count": 46,
   "metadata": {},
   "outputs": [
    {
     "data": {
      "text/plain": [
       "0    32\n",
       "1    10\n",
       "dtype: int64"
      ]
     },
     "execution_count": 46,
     "metadata": {},
     "output_type": "execute_result"
    }
   ],
   "source": [
    "count_int_EC = pd.Series(int_EC).value_counts()\n",
    "count_int_EC"
   ]
  },
  {
   "cell_type": "code",
   "execution_count": 47,
   "metadata": {},
   "outputs": [],
   "source": [
    "eng_ind_EC = ['Single', 'Comprehensive']"
   ]
  },
  {
   "cell_type": "code",
   "execution_count": 48,
   "metadata": {},
   "outputs": [
    {
     "data": {
      "image/png": "[encoded data removed]",
      "text/plain": [
       "<Figure size 640x480 with 1 Axes>"
      ]
     },
     "metadata": {},
     "output_type": "display_data"
    }
   ],
   "source": [
    "fig, ax = plt.subplots()\n",
    "ax.pie(count_int_EC, labels=eng_ind_EC, autopct='%1.1f%%')\n",
    "plt.show()"
   ]
  },
  {
   "attachments": {},
   "cell_type": "markdown",
   "metadata": {},
   "source": [
    "## Park_Above & Park_Below"
   ]
  },
  {
   "cell_type": "code",
   "execution_count": 49,
   "metadata": {},
   "outputs": [
    {
     "name": "stdout",
     "output_type": "stream",
     "text": [
      "There are 0 null values, and they are located at \n",
      "[]\n",
      "There are 0 null values, and they are located at \n",
      "[]\n"
     ]
    }
   ],
   "source": [
    "Park_Above = df['Park_Above']\n",
    "Park_Below = df['Park_Below']\n",
    "print(f\"There are {Park_Above.isnull().sum()} null values, and they are located at \\n{np.where(Park_Above.isnull())[0]}\")\n",
    "print(f\"There are {Park_Below.isnull().sum()} null values, and they are located at \\n{np.where(Park_Below.isnull())[0]}\")"
   ]
  },
  {
   "cell_type": "code",
   "execution_count": 50,
   "metadata": {},
   "outputs": [
    {
     "data": {
      "text/plain": [
       "0     546\n",
       "1      38\n",
       "2      32\n",
       "3     116\n",
       "4      41\n",
       "5       9\n",
       "6     152\n",
       "7     413\n",
       "8      22\n",
       "9      52\n",
       "10    266\n",
       "11    242\n",
       "12     60\n",
       "13     83\n",
       "14    499\n",
       "15      0\n",
       "16     28\n",
       "17      0\n",
       "18      0\n",
       "19      0\n",
       "20    169\n",
       "21    630\n",
       "22    892\n",
       "23    168\n",
       "24    103\n",
       "25     29\n",
       "26    125\n",
       "27    200\n",
       "28     26\n",
       "29     68\n",
       "30    575\n",
       "31     82\n",
       "32     91\n",
       "33    977\n",
       "34     78\n",
       "35    202\n",
       "36     80\n",
       "37     68\n",
       "38     61\n",
       "39     36\n",
       "40     15\n",
       "41     54\n",
       "Name: Park_Above, dtype: int16"
      ]
     },
     "metadata": {},
     "output_type": "display_data"
    },
    {
     "data": {
      "text/plain": [
       "0     1176\n",
       "1      174\n",
       "2      284\n",
       "3      255\n",
       "4       98\n",
       "5      123\n",
       "6      490\n",
       "7        0\n",
       "8      194\n",
       "9      206\n",
       "10       0\n",
       "11     611\n",
       "12     179\n",
       "13     129\n",
       "14     342\n",
       "15    2265\n",
       "16      64\n",
       "17    1351\n",
       "18     449\n",
       "19    1144\n",
       "20     768\n",
       "21       0\n",
       "22     624\n",
       "23       0\n",
       "24     168\n",
       "25     171\n",
       "26     641\n",
       "27       0\n",
       "28     112\n",
       "29     126\n",
       "30       0\n",
       "31    2188\n",
       "32      52\n",
       "33    2169\n",
       "34     169\n",
       "35       0\n",
       "36     450\n",
       "37       0\n",
       "38     192\n",
       "39      86\n",
       "40     109\n",
       "41      63\n",
       "Name: Park_Below, dtype: int16"
      ]
     },
     "metadata": {},
     "output_type": "display_data"
    }
   ],
   "source": [
    "Park_Above = Park_Above.dropna().astype('int16')\n",
    "Park_Below = Park_Below.dropna().astype('int16')\n",
    "display(Park_Above)\n",
    "display(Park_Below)"
   ]
  },
  {
   "cell_type": "code",
   "execution_count": 51,
   "metadata": {},
   "outputs": [
    {
     "data": {
      "image/png": "[encoded data removed]",
      "text/plain": [
       "<Figure size 640x480 with 1 Axes>"
      ]
     },
     "metadata": {},
     "output_type": "display_data"
    }
   ],
   "source": [
    "fig, ax = plt.subplots()\n",
    "b = int(len(Park_Above)/2)\n",
    "ax.hist(Park_Above, bins = b)\n",
    "plt.show()"
   ]
  },
  {
   "cell_type": "code",
   "execution_count": 52,
   "metadata": {},
   "outputs": [
    {
     "data": {
      "image/png": "[encoded data removed]",
      "text/plain": [
       "<Figure size 640x480 with 1 Axes>"
      ]
     },
     "metadata": {},
     "output_type": "display_data"
    }
   ],
   "source": [
    "fig, ax = plt.subplots()\n",
    "b = int(len(Park_Below)/2)\n",
    "ax.hist(Park_Below, bins = b)\n",
    "plt.show()"
   ]
  },
  {
   "cell_type": "code",
   "execution_count": 53,
   "metadata": {},
   "outputs": [
    {
     "data": {
      "text/plain": [
       "count     42.000000\n",
       "mean     174.476190\n",
       "std      237.448247\n",
       "min        0.000000\n",
       "25%       33.000000\n",
       "50%       79.000000\n",
       "75%      192.250000\n",
       "max      977.000000\n",
       "Name: Park_Above, dtype: float64"
      ]
     },
     "execution_count": 53,
     "metadata": {},
     "output_type": "execute_result"
    }
   ],
   "source": [
    "Park_Above.describe()"
   ]
  },
  {
   "cell_type": "code",
   "execution_count": 54,
   "metadata": {},
   "outputs": [
    {
     "data": {
      "text/plain": [
       "count      42.000000\n",
       "mean      419.571429\n",
       "std       600.421037\n",
       "min         0.000000\n",
       "25%        69.500000\n",
       "50%       172.500000\n",
       "75%       480.000000\n",
       "max      2265.000000\n",
       "Name: Park_Below, dtype: float64"
      ]
     },
     "execution_count": 54,
     "metadata": {},
     "output_type": "execute_result"
    }
   ],
   "source": [
    "Park_Below.describe()"
   ]
  },
  {
   "cell_type": "code",
   "execution_count": 55,
   "metadata": {},
   "outputs": [
    {
     "name": "stdout",
     "output_type": "stream",
     "text": [
      "kaptCode           A15303205\n",
      "bjdCode           1154510300\n",
      "Household_Num           2810\n",
      "Begin_Date          20040806\n",
      "Heating_Method          개별난방\n",
      "House_Type               아파트\n",
      "Elec_Con                단일계약\n",
      "Elev_Num                64.0\n",
      "Park_Above             977.0\n",
      "Park_Below            2169.0\n",
      "Name: 33, dtype: object\n",
      "     kaptCode Complex_Name\n",
      "38  A15303205    관악벽산타운5단지\n"
     ]
    }
   ],
   "source": [
    "printApt(Park_Above, df, dfInfo)"
   ]
  },
  {
   "cell_type": "code",
   "execution_count": 56,
   "metadata": {},
   "outputs": [
    {
     "name": "stdout",
     "output_type": "stream",
     "text": [
      "kaptCode           A10027188\n",
      "bjdCode           1154510200\n",
      "Household_Num           1743\n",
      "Begin_Date          20161130\n",
      "Heating_Method          개별난방\n",
      "House_Type               아파트\n",
      "Elec_Con                단일계약\n",
      "Elev_Num                34.0\n",
      "Park_Above               0.0\n",
      "Park_Below            2265.0\n",
      "Name: 15, dtype: object\n",
      "     kaptCode     Complex_Name\n",
      "17  A10027188  금천롯데캐슬골드파크1차아파트\n"
     ]
    }
   ],
   "source": [
    "printApt(Park_Below, df, dfInfo)"
   ]
  }
 ],
 "metadata": {
  "kernelspec": {
   "display_name": "ybenv",
   "language": "python",
   "name": "ybenv"
  },
  "language_info": {
   "codemirror_mode": {
    "name": "ipython",
    "version": 3
   },
   "file_extension": ".py",
   "mimetype": "text/x-python",
   "name": "python",
   "nbconvert_exporter": "python",
   "pygments_lexer": "ipython3",
   "version": "3.9.16"
  },
  "orig_nbformat": 4
 },
 "nbformat": 4,
 "nbformat_minor": 2
}
