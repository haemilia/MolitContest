{
 "cells": [
  {
   "cell_type": "code",
   "execution_count": 1,
   "metadata": {},
   "outputs": [],
   "source": [
    "import pandas as pd\n",
    "import numpy as np\n",
    "import matplotlib.pyplot as plt\n",
    "import missingno as msno"
   ]
  },
  {
   "cell_type": "code",
   "execution_count": 2,
   "metadata": {},
   "outputs": [],
   "source": [
    "df = pd.read_csv(\"C:/Users/lhi30/Haein/2023/YBIGTA/DA/Project/Share/AptOnly/Gangbuk_Gu_Only.csv\")"
   ]
  },
  {
   "cell_type": "code",
   "execution_count": 3,
   "metadata": {},
   "outputs": [],
   "source": [
    "dfInfo = pd.read_csv(\"C:/Users/lhi30/Haein/2023/YBIGTA/DA/Project/Share/Data_Analysis/Reference.csv\", \n",
    "                     index_col=0)"
   ]
  },
  {
   "cell_type": "code",
   "execution_count": 5,
   "metadata": {},
   "outputs": [
    {
     "data": {
      "text/html": [
       "<div>\n",
       "<style scoped>\n",
       "    .dataframe tbody tr th:only-of-type {\n",
       "        vertical-align: middle;\n",
       "    }\n",
       "\n",
       "    .dataframe tbody tr th {\n",
       "        vertical-align: top;\n",
       "    }\n",
       "\n",
       "    .dataframe thead th {\n",
       "        text-align: right;\n",
       "    }\n",
       "</style>\n",
       "<table border=\"1\" class=\"dataframe\">\n",
       "  <thead>\n",
       "    <tr style=\"text-align: right;\">\n",
       "      <th></th>\n",
       "      <th>kaptCode</th>\n",
       "      <th>bjdCode</th>\n",
       "      <th>Household_Num</th>\n",
       "      <th>Begin_Date</th>\n",
       "      <th>Heating_Method</th>\n",
       "      <th>House_Type</th>\n",
       "      <th>Elec_Con</th>\n",
       "      <th>Elev_Num</th>\n",
       "      <th>Park_Above</th>\n",
       "      <th>Park_Below</th>\n",
       "    </tr>\n",
       "  </thead>\n",
       "  <tbody>\n",
       "    <tr>\n",
       "      <th>0</th>\n",
       "      <td>A14280502</td>\n",
       "      <td>1130510100</td>\n",
       "      <td>480</td>\n",
       "      <td>20060425</td>\n",
       "      <td>개별난방</td>\n",
       "      <td>아파트</td>\n",
       "      <td>단일계약</td>\n",
       "      <td>15</td>\n",
       "      <td>29</td>\n",
       "      <td>534</td>\n",
       "    </tr>\n",
       "    <tr>\n",
       "      <th>1</th>\n",
       "      <td>A14272304</td>\n",
       "      <td>1130510100</td>\n",
       "      <td>3830</td>\n",
       "      <td>20040507</td>\n",
       "      <td>개별난방</td>\n",
       "      <td>아파트</td>\n",
       "      <td>종합계약</td>\n",
       "      <td>84</td>\n",
       "      <td>734</td>\n",
       "      <td>4082</td>\n",
       "    </tr>\n",
       "    <tr>\n",
       "      <th>2</th>\n",
       "      <td>A14272303</td>\n",
       "      <td>1130510100</td>\n",
       "      <td>384</td>\n",
       "      <td>20021129</td>\n",
       "      <td>개별난방</td>\n",
       "      <td>아파트</td>\n",
       "      <td>단일계약</td>\n",
       "      <td>12</td>\n",
       "      <td>130</td>\n",
       "      <td>401</td>\n",
       "    </tr>\n",
       "    <tr>\n",
       "      <th>3</th>\n",
       "      <td>A14282301</td>\n",
       "      <td>1130510100</td>\n",
       "      <td>208</td>\n",
       "      <td>20080125</td>\n",
       "      <td>개별난방</td>\n",
       "      <td>아파트</td>\n",
       "      <td>단일계약</td>\n",
       "      <td>8</td>\n",
       "      <td>88</td>\n",
       "      <td>144</td>\n",
       "    </tr>\n",
       "    <tr>\n",
       "      <th>4</th>\n",
       "      <td>A14210001</td>\n",
       "      <td>1130510100</td>\n",
       "      <td>673</td>\n",
       "      <td>20031230</td>\n",
       "      <td>개별난방</td>\n",
       "      <td>아파트</td>\n",
       "      <td>단일계약</td>\n",
       "      <td>6</td>\n",
       "      <td>90</td>\n",
       "      <td>258</td>\n",
       "    </tr>\n",
       "    <tr>\n",
       "      <th>5</th>\n",
       "      <td>A14272311</td>\n",
       "      <td>1130510100</td>\n",
       "      <td>1497</td>\n",
       "      <td>20040507</td>\n",
       "      <td>개별난방</td>\n",
       "      <td>아파트</td>\n",
       "      <td>단일계약</td>\n",
       "      <td>17</td>\n",
       "      <td>115</td>\n",
       "      <td>579</td>\n",
       "    </tr>\n",
       "    <tr>\n",
       "      <th>6</th>\n",
       "      <td>A14272306</td>\n",
       "      <td>1130510100</td>\n",
       "      <td>860</td>\n",
       "      <td>20030620</td>\n",
       "      <td>개별난방</td>\n",
       "      <td>아파트</td>\n",
       "      <td>종합계약</td>\n",
       "      <td>19</td>\n",
       "      <td>221</td>\n",
       "      <td>848</td>\n",
       "    </tr>\n",
       "    <tr>\n",
       "      <th>7</th>\n",
       "      <td>A14272308</td>\n",
       "      <td>1130510100</td>\n",
       "      <td>1330</td>\n",
       "      <td>20100528</td>\n",
       "      <td>개별난방</td>\n",
       "      <td>아파트</td>\n",
       "      <td>단일계약</td>\n",
       "      <td>36</td>\n",
       "      <td>1565</td>\n",
       "      <td>300</td>\n",
       "    </tr>\n",
       "    <tr>\n",
       "      <th>8</th>\n",
       "      <td>A14272305</td>\n",
       "      <td>1130510100</td>\n",
       "      <td>1585</td>\n",
       "      <td>20040807</td>\n",
       "      <td>개별난방</td>\n",
       "      <td>아파트</td>\n",
       "      <td>단일계약</td>\n",
       "      <td>34</td>\n",
       "      <td>1868</td>\n",
       "      <td>38</td>\n",
       "    </tr>\n",
       "    <tr>\n",
       "      <th>9</th>\n",
       "      <td>A14272313</td>\n",
       "      <td>1130510100</td>\n",
       "      <td>376</td>\n",
       "      <td>20100910</td>\n",
       "      <td>개별난방</td>\n",
       "      <td>아파트</td>\n",
       "      <td>단일계약</td>\n",
       "      <td>14</td>\n",
       "      <td>0</td>\n",
       "      <td>402</td>\n",
       "    </tr>\n",
       "    <tr>\n",
       "      <th>10</th>\n",
       "      <td>A14272310</td>\n",
       "      <td>1130510100</td>\n",
       "      <td>490</td>\n",
       "      <td>20040807</td>\n",
       "      <td>개별난방</td>\n",
       "      <td>아파트</td>\n",
       "      <td>단일계약</td>\n",
       "      <td>6</td>\n",
       "      <td>25</td>\n",
       "      <td>322</td>\n",
       "    </tr>\n",
       "    <tr>\n",
       "      <th>11</th>\n",
       "      <td>A14272307</td>\n",
       "      <td>1130510100</td>\n",
       "      <td>231</td>\n",
       "      <td>19921221</td>\n",
       "      <td>개별난방</td>\n",
       "      <td>아파트</td>\n",
       "      <td>기타</td>\n",
       "      <td>10</td>\n",
       "      <td>96</td>\n",
       "      <td>108</td>\n",
       "    </tr>\n",
       "    <tr>\n",
       "      <th>12</th>\n",
       "      <td>A14210002</td>\n",
       "      <td>1130510100</td>\n",
       "      <td>1344</td>\n",
       "      <td>20031230</td>\n",
       "      <td>개별난방</td>\n",
       "      <td>아파트</td>\n",
       "      <td>단일계약</td>\n",
       "      <td>33</td>\n",
       "      <td>291</td>\n",
       "      <td>1374</td>\n",
       "    </tr>\n",
       "    <tr>\n",
       "      <th>13</th>\n",
       "      <td>A14277601</td>\n",
       "      <td>1130510100</td>\n",
       "      <td>306</td>\n",
       "      <td>20061109</td>\n",
       "      <td>개별난방</td>\n",
       "      <td>아파트</td>\n",
       "      <td>종합계약</td>\n",
       "      <td>11</td>\n",
       "      <td>0</td>\n",
       "      <td>329</td>\n",
       "    </tr>\n",
       "    <tr>\n",
       "      <th>14</th>\n",
       "      <td>A14272309</td>\n",
       "      <td>1130510100</td>\n",
       "      <td>1247</td>\n",
       "      <td>20100528</td>\n",
       "      <td>개별난방</td>\n",
       "      <td>아파트</td>\n",
       "      <td>기타</td>\n",
       "      <td>43</td>\n",
       "      <td>21</td>\n",
       "      <td>1539</td>\n",
       "    </tr>\n",
       "    <tr>\n",
       "      <th>15</th>\n",
       "      <td>A14272314</td>\n",
       "      <td>1130510100</td>\n",
       "      <td>1370</td>\n",
       "      <td>20111031</td>\n",
       "      <td>개별난방</td>\n",
       "      <td>아파트</td>\n",
       "      <td>단일계약</td>\n",
       "      <td>44</td>\n",
       "      <td>1753</td>\n",
       "      <td>0</td>\n",
       "    </tr>\n",
       "    <tr>\n",
       "      <th>16</th>\n",
       "      <td>A10026947</td>\n",
       "      <td>1130510100</td>\n",
       "      <td>615</td>\n",
       "      <td>20170227</td>\n",
       "      <td>개별난방</td>\n",
       "      <td>아파트</td>\n",
       "      <td>종합계약</td>\n",
       "      <td>25</td>\n",
       "      <td>9</td>\n",
       "      <td>707</td>\n",
       "    </tr>\n",
       "    <tr>\n",
       "      <th>17</th>\n",
       "      <td>A10023829</td>\n",
       "      <td>1130510100</td>\n",
       "      <td>203</td>\n",
       "      <td>20220428</td>\n",
       "      <td>개별난방</td>\n",
       "      <td>아파트</td>\n",
       "      <td>기타</td>\n",
       "      <td>8</td>\n",
       "      <td>0</td>\n",
       "      <td>227</td>\n",
       "    </tr>\n",
       "    <tr>\n",
       "      <th>18</th>\n",
       "      <td>A10025241</td>\n",
       "      <td>1130510100</td>\n",
       "      <td>1028</td>\n",
       "      <td>20190927</td>\n",
       "      <td>개별난방</td>\n",
       "      <td>아파트</td>\n",
       "      <td>종합계약</td>\n",
       "      <td>47</td>\n",
       "      <td>0</td>\n",
       "      <td>1365</td>\n",
       "    </tr>\n",
       "    <tr>\n",
       "      <th>19</th>\n",
       "      <td>A14206303</td>\n",
       "      <td>1130510200</td>\n",
       "      <td>225</td>\n",
       "      <td>20050901</td>\n",
       "      <td>개별난방</td>\n",
       "      <td>아파트</td>\n",
       "      <td>단일계약</td>\n",
       "      <td>8</td>\n",
       "      <td>127</td>\n",
       "      <td>128</td>\n",
       "    </tr>\n",
       "    <tr>\n",
       "      <th>20</th>\n",
       "      <td>A14206307</td>\n",
       "      <td>1130510200</td>\n",
       "      <td>380</td>\n",
       "      <td>19990916</td>\n",
       "      <td>개별난방</td>\n",
       "      <td>아파트</td>\n",
       "      <td>단일계약</td>\n",
       "      <td>8</td>\n",
       "      <td>65</td>\n",
       "      <td>246</td>\n",
       "    </tr>\n",
       "    <tr>\n",
       "      <th>21</th>\n",
       "      <td>A14206202</td>\n",
       "      <td>1130510200</td>\n",
       "      <td>900</td>\n",
       "      <td>19910423</td>\n",
       "      <td>개별난방</td>\n",
       "      <td>아파트</td>\n",
       "      <td>단일계약</td>\n",
       "      <td>20</td>\n",
       "      <td>519</td>\n",
       "      <td>0</td>\n",
       "    </tr>\n",
       "    <tr>\n",
       "      <th>22</th>\n",
       "      <td>A14206306</td>\n",
       "      <td>1130510200</td>\n",
       "      <td>285</td>\n",
       "      <td>20000608</td>\n",
       "      <td>개별난방</td>\n",
       "      <td>아파트</td>\n",
       "      <td>단일계약</td>\n",
       "      <td>5</td>\n",
       "      <td>44</td>\n",
       "      <td>190</td>\n",
       "    </tr>\n",
       "    <tr>\n",
       "      <th>23</th>\n",
       "      <td>A14270301</td>\n",
       "      <td>1130510200</td>\n",
       "      <td>292</td>\n",
       "      <td>20090629</td>\n",
       "      <td>개별난방</td>\n",
       "      <td>아파트</td>\n",
       "      <td>단일계약</td>\n",
       "      <td>8</td>\n",
       "      <td>49</td>\n",
       "      <td>340</td>\n",
       "    </tr>\n",
       "    <tr>\n",
       "      <th>24</th>\n",
       "      <td>A14206302</td>\n",
       "      <td>1130510200</td>\n",
       "      <td>202</td>\n",
       "      <td>20001229</td>\n",
       "      <td>개별난방</td>\n",
       "      <td>아파트</td>\n",
       "      <td>종합계약</td>\n",
       "      <td>6</td>\n",
       "      <td>38</td>\n",
       "      <td>139</td>\n",
       "    </tr>\n",
       "    <tr>\n",
       "      <th>25</th>\n",
       "      <td>A14206001</td>\n",
       "      <td>1130510200</td>\n",
       "      <td>228</td>\n",
       "      <td>19981203</td>\n",
       "      <td>개별난방</td>\n",
       "      <td>아파트</td>\n",
       "      <td>단일계약</td>\n",
       "      <td>6</td>\n",
       "      <td>52</td>\n",
       "      <td>150</td>\n",
       "    </tr>\n",
       "    <tr>\n",
       "      <th>26</th>\n",
       "      <td>A14286104</td>\n",
       "      <td>1130510200</td>\n",
       "      <td>261</td>\n",
       "      <td>19921106</td>\n",
       "      <td>개별난방</td>\n",
       "      <td>아파트</td>\n",
       "      <td>종합계약</td>\n",
       "      <td>9</td>\n",
       "      <td>198</td>\n",
       "      <td>20</td>\n",
       "    </tr>\n",
       "    <tr>\n",
       "      <th>27</th>\n",
       "      <td>A14206002</td>\n",
       "      <td>1130510200</td>\n",
       "      <td>284</td>\n",
       "      <td>19980624</td>\n",
       "      <td>개별난방</td>\n",
       "      <td>아파트</td>\n",
       "      <td>종합계약</td>\n",
       "      <td>8</td>\n",
       "      <td>22</td>\n",
       "      <td>211</td>\n",
       "    </tr>\n",
       "    <tr>\n",
       "      <th>28</th>\n",
       "      <td>A14206003</td>\n",
       "      <td>1130510200</td>\n",
       "      <td>1430</td>\n",
       "      <td>19910518</td>\n",
       "      <td>중앙난방</td>\n",
       "      <td>아파트</td>\n",
       "      <td>단일계약</td>\n",
       "      <td>16</td>\n",
       "      <td>554</td>\n",
       "      <td>0</td>\n",
       "    </tr>\n",
       "    <tr>\n",
       "      <th>29</th>\n",
       "      <td>A14206305</td>\n",
       "      <td>1130510200</td>\n",
       "      <td>263</td>\n",
       "      <td>20000224</td>\n",
       "      <td>개별난방</td>\n",
       "      <td>아파트</td>\n",
       "      <td>단일계약</td>\n",
       "      <td>5</td>\n",
       "      <td>95</td>\n",
       "      <td>117</td>\n",
       "    </tr>\n",
       "    <tr>\n",
       "      <th>30</th>\n",
       "      <td>A14206310</td>\n",
       "      <td>1130510200</td>\n",
       "      <td>1766</td>\n",
       "      <td>19910518</td>\n",
       "      <td>중앙난방</td>\n",
       "      <td>아파트</td>\n",
       "      <td>단일계약</td>\n",
       "      <td>24</td>\n",
       "      <td>437</td>\n",
       "      <td>0</td>\n",
       "    </tr>\n",
       "    <tr>\n",
       "      <th>31</th>\n",
       "      <td>A14286203</td>\n",
       "      <td>1130510200</td>\n",
       "      <td>1123</td>\n",
       "      <td>19910513</td>\n",
       "      <td>중앙난방</td>\n",
       "      <td>아파트</td>\n",
       "      <td>단일계약</td>\n",
       "      <td>17</td>\n",
       "      <td>477</td>\n",
       "      <td>0</td>\n",
       "    </tr>\n",
       "    <tr>\n",
       "      <th>32</th>\n",
       "      <td>A14286108</td>\n",
       "      <td>1130510200</td>\n",
       "      <td>430</td>\n",
       "      <td>20030728</td>\n",
       "      <td>개별난방</td>\n",
       "      <td>아파트</td>\n",
       "      <td>단일계약</td>\n",
       "      <td>10</td>\n",
       "      <td>52</td>\n",
       "      <td>459</td>\n",
       "    </tr>\n",
       "    <tr>\n",
       "      <th>33</th>\n",
       "      <td>A14206301</td>\n",
       "      <td>1130510200</td>\n",
       "      <td>167</td>\n",
       "      <td>19980814</td>\n",
       "      <td>개별난방</td>\n",
       "      <td>아파트</td>\n",
       "      <td>단일계약</td>\n",
       "      <td>10</td>\n",
       "      <td>19</td>\n",
       "      <td>181</td>\n",
       "    </tr>\n",
       "    <tr>\n",
       "      <th>34</th>\n",
       "      <td>A14276311</td>\n",
       "      <td>1130510200</td>\n",
       "      <td>1292</td>\n",
       "      <td>19901109</td>\n",
       "      <td>중앙난방</td>\n",
       "      <td>아파트</td>\n",
       "      <td>단일계약</td>\n",
       "      <td>16</td>\n",
       "      <td>358</td>\n",
       "      <td>0</td>\n",
       "    </tr>\n",
       "    <tr>\n",
       "      <th>35</th>\n",
       "      <td>A14206201</td>\n",
       "      <td>1130510200</td>\n",
       "      <td>245</td>\n",
       "      <td>20010911</td>\n",
       "      <td>개별난방</td>\n",
       "      <td>아파트</td>\n",
       "      <td>종합계약</td>\n",
       "      <td>9</td>\n",
       "      <td>40</td>\n",
       "      <td>296</td>\n",
       "    </tr>\n",
       "    <tr>\n",
       "      <th>36</th>\n",
       "      <td>A14206004</td>\n",
       "      <td>1130510200</td>\n",
       "      <td>99</td>\n",
       "      <td>19970531</td>\n",
       "      <td>개별난방</td>\n",
       "      <td>아파트</td>\n",
       "      <td>종합계약</td>\n",
       "      <td>3</td>\n",
       "      <td>18</td>\n",
       "      <td>66</td>\n",
       "    </tr>\n",
       "    <tr>\n",
       "      <th>37</th>\n",
       "      <td>A14278101</td>\n",
       "      <td>1130510300</td>\n",
       "      <td>574</td>\n",
       "      <td>19920323</td>\n",
       "      <td>개별난방</td>\n",
       "      <td>아파트</td>\n",
       "      <td>단일계약</td>\n",
       "      <td>23</td>\n",
       "      <td>315</td>\n",
       "      <td>0</td>\n",
       "    </tr>\n",
       "    <tr>\n",
       "      <th>38</th>\n",
       "      <td>A14207203</td>\n",
       "      <td>1130510300</td>\n",
       "      <td>1454</td>\n",
       "      <td>19931117</td>\n",
       "      <td>개별난방</td>\n",
       "      <td>아파트</td>\n",
       "      <td>종합계약</td>\n",
       "      <td>46</td>\n",
       "      <td>890</td>\n",
       "      <td>240</td>\n",
       "    </tr>\n",
       "    <tr>\n",
       "      <th>39</th>\n",
       "      <td>A14207201</td>\n",
       "      <td>1130510300</td>\n",
       "      <td>180</td>\n",
       "      <td>20011129</td>\n",
       "      <td>개별난방</td>\n",
       "      <td>아파트</td>\n",
       "      <td>단일계약</td>\n",
       "      <td>2</td>\n",
       "      <td>7</td>\n",
       "      <td>117</td>\n",
       "    </tr>\n",
       "    <tr>\n",
       "      <th>40</th>\n",
       "      <td>A14207202</td>\n",
       "      <td>1130510300</td>\n",
       "      <td>510</td>\n",
       "      <td>20011129</td>\n",
       "      <td>개별난방</td>\n",
       "      <td>아파트</td>\n",
       "      <td>단일계약</td>\n",
       "      <td>13</td>\n",
       "      <td>51</td>\n",
       "      <td>559</td>\n",
       "    </tr>\n",
       "    <tr>\n",
       "      <th>41</th>\n",
       "      <td>A10023955</td>\n",
       "      <td>1130510300</td>\n",
       "      <td>558</td>\n",
       "      <td>20211210</td>\n",
       "      <td>개별난방+기타</td>\n",
       "      <td>아파트</td>\n",
       "      <td>단일계약</td>\n",
       "      <td>10</td>\n",
       "      <td>0</td>\n",
       "      <td>557</td>\n",
       "    </tr>\n",
       "    <tr>\n",
       "      <th>42</th>\n",
       "      <td>A10023268</td>\n",
       "      <td>1130510300</td>\n",
       "      <td>216</td>\n",
       "      <td>20220629</td>\n",
       "      <td>개별난방</td>\n",
       "      <td>아파트</td>\n",
       "      <td>종합계약</td>\n",
       "      <td>7</td>\n",
       "      <td>0</td>\n",
       "      <td>232</td>\n",
       "    </tr>\n",
       "    <tr>\n",
       "      <th>43</th>\n",
       "      <td>A14209001</td>\n",
       "      <td>1130510400</td>\n",
       "      <td>260</td>\n",
       "      <td>20001116</td>\n",
       "      <td>개별난방</td>\n",
       "      <td>아파트</td>\n",
       "      <td>종합계약</td>\n",
       "      <td>28</td>\n",
       "      <td>34</td>\n",
       "      <td>253</td>\n",
       "    </tr>\n",
       "    <tr>\n",
       "      <th>44</th>\n",
       "      <td>A14287102</td>\n",
       "      <td>1130510400</td>\n",
       "      <td>262</td>\n",
       "      <td>19901019</td>\n",
       "      <td>개별난방</td>\n",
       "      <td>아파트</td>\n",
       "      <td>단일계약</td>\n",
       "      <td>9</td>\n",
       "      <td>161</td>\n",
       "      <td>0</td>\n",
       "    </tr>\n",
       "  </tbody>\n",
       "</table>\n",
       "</div>"
      ],
      "text/plain": [
       "     kaptCode     bjdCode  Household_Num  Begin_Date Heating_Method  \\\n",
       "0   A14280502  1130510100            480    20060425           개별난방   \n",
       "1   A14272304  1130510100           3830    20040507           개별난방   \n",
       "2   A14272303  1130510100            384    20021129           개별난방   \n",
       "3   A14282301  1130510100            208    20080125           개별난방   \n",
       "4   A14210001  1130510100            673    20031230           개별난방   \n",
       "5   A14272311  1130510100           1497    20040507           개별난방   \n",
       "6   A14272306  1130510100            860    20030620           개별난방   \n",
       "7   A14272308  1130510100           1330    20100528           개별난방   \n",
       "8   A14272305  1130510100           1585    20040807           개별난방   \n",
       "9   A14272313  1130510100            376    20100910           개별난방   \n",
       "10  A14272310  1130510100            490    20040807           개별난방   \n",
       "11  A14272307  1130510100            231    19921221           개별난방   \n",
       "12  A14210002  1130510100           1344    20031230           개별난방   \n",
       "13  A14277601  1130510100            306    20061109           개별난방   \n",
       "14  A14272309  1130510100           1247    20100528           개별난방   \n",
       "15  A14272314  1130510100           1370    20111031           개별난방   \n",
       "16  A10026947  1130510100            615    20170227           개별난방   \n",
       "17  A10023829  1130510100            203    20220428           개별난방   \n",
       "18  A10025241  1130510100           1028    20190927           개별난방   \n",
       "19  A14206303  1130510200            225    20050901           개별난방   \n",
       "20  A14206307  1130510200            380    19990916           개별난방   \n",
       "21  A14206202  1130510200            900    19910423           개별난방   \n",
       "22  A14206306  1130510200            285    20000608           개별난방   \n",
       "23  A14270301  1130510200            292    20090629           개별난방   \n",
       "24  A14206302  1130510200            202    20001229           개별난방   \n",
       "25  A14206001  1130510200            228    19981203           개별난방   \n",
       "26  A14286104  1130510200            261    19921106           개별난방   \n",
       "27  A14206002  1130510200            284    19980624           개별난방   \n",
       "28  A14206003  1130510200           1430    19910518           중앙난방   \n",
       "29  A14206305  1130510200            263    20000224           개별난방   \n",
       "30  A14206310  1130510200           1766    19910518           중앙난방   \n",
       "31  A14286203  1130510200           1123    19910513           중앙난방   \n",
       "32  A14286108  1130510200            430    20030728           개별난방   \n",
       "33  A14206301  1130510200            167    19980814           개별난방   \n",
       "34  A14276311  1130510200           1292    19901109           중앙난방   \n",
       "35  A14206201  1130510200            245    20010911           개별난방   \n",
       "36  A14206004  1130510200             99    19970531           개별난방   \n",
       "37  A14278101  1130510300            574    19920323           개별난방   \n",
       "38  A14207203  1130510300           1454    19931117           개별난방   \n",
       "39  A14207201  1130510300            180    20011129           개별난방   \n",
       "40  A14207202  1130510300            510    20011129           개별난방   \n",
       "41  A10023955  1130510300            558    20211210        개별난방+기타   \n",
       "42  A10023268  1130510300            216    20220629           개별난방   \n",
       "43  A14209001  1130510400            260    20001116           개별난방   \n",
       "44  A14287102  1130510400            262    19901019           개별난방   \n",
       "\n",
       "   House_Type Elec_Con  Elev_Num  Park_Above  Park_Below  \n",
       "0         아파트     단일계약        15          29         534  \n",
       "1         아파트     종합계약        84         734        4082  \n",
       "2         아파트     단일계약        12         130         401  \n",
       "3         아파트     단일계약         8          88         144  \n",
       "4         아파트     단일계약         6          90         258  \n",
       "5         아파트     단일계약        17         115         579  \n",
       "6         아파트     종합계약        19         221         848  \n",
       "7         아파트     단일계약        36        1565         300  \n",
       "8         아파트     단일계약        34        1868          38  \n",
       "9         아파트     단일계약        14           0         402  \n",
       "10        아파트     단일계약         6          25         322  \n",
       "11        아파트       기타        10          96         108  \n",
       "12        아파트     단일계약        33         291        1374  \n",
       "13        아파트     종합계약        11           0         329  \n",
       "14        아파트       기타        43          21        1539  \n",
       "15        아파트     단일계약        44        1753           0  \n",
       "16        아파트     종합계약        25           9         707  \n",
       "17        아파트       기타         8           0         227  \n",
       "18        아파트     종합계약        47           0        1365  \n",
       "19        아파트     단일계약         8         127         128  \n",
       "20        아파트     단일계약         8          65         246  \n",
       "21        아파트     단일계약        20         519           0  \n",
       "22        아파트     단일계약         5          44         190  \n",
       "23        아파트     단일계약         8          49         340  \n",
       "24        아파트     종합계약         6          38         139  \n",
       "25        아파트     단일계약         6          52         150  \n",
       "26        아파트     종합계약         9         198          20  \n",
       "27        아파트     종합계약         8          22         211  \n",
       "28        아파트     단일계약        16         554           0  \n",
       "29        아파트     단일계약         5          95         117  \n",
       "30        아파트     단일계약        24         437           0  \n",
       "31        아파트     단일계약        17         477           0  \n",
       "32        아파트     단일계약        10          52         459  \n",
       "33        아파트     단일계약        10          19         181  \n",
       "34        아파트     단일계약        16         358           0  \n",
       "35        아파트     종합계약         9          40         296  \n",
       "36        아파트     종합계약         3          18          66  \n",
       "37        아파트     단일계약        23         315           0  \n",
       "38        아파트     종합계약        46         890         240  \n",
       "39        아파트     단일계약         2           7         117  \n",
       "40        아파트     단일계약        13          51         559  \n",
       "41        아파트     단일계약        10           0         557  \n",
       "42        아파트     종합계약         7           0         232  \n",
       "43        아파트     종합계약        28          34         253  \n",
       "44        아파트     단일계약         9         161           0  "
      ]
     },
     "execution_count": 5,
     "metadata": {},
     "output_type": "execute_result"
    }
   ],
   "source": [
    "df"
   ]
  },
  {
   "cell_type": "code",
   "execution_count": 6,
   "metadata": {},
   "outputs": [
    {
     "data": {
      "text/plain": [
       "kaptCode          0\n",
       "bjdCode           0\n",
       "Household_Num     0\n",
       "Begin_Date        0\n",
       "Heating_Method    0\n",
       "House_Type        0\n",
       "Elec_Con          0\n",
       "Elev_Num          0\n",
       "Park_Above        0\n",
       "Park_Below        0\n",
       "dtype: int64"
      ]
     },
     "execution_count": 6,
     "metadata": {},
     "output_type": "execute_result"
    }
   ],
   "source": [
    "df.isnull().sum()"
   ]
  },
  {
   "cell_type": "code",
   "execution_count": 7,
   "metadata": {},
   "outputs": [
    {
     "data": {
      "text/plain": [
       "<AxesSubplot: >"
      ]
     },
     "execution_count": 7,
     "metadata": {},
     "output_type": "execute_result"
    },
    {
     "data": {
      "image/png": "[encoded data removed]",
      "text/plain": [
       "<Figure size 800x800 with 2 Axes>"
      ]
     },
     "metadata": {},
     "output_type": "display_data"
    }
   ],
   "source": [
    "msno.matrix(df=df, figsize=(8, 8))"
   ]
  },
  {
   "attachments": {},
   "cell_type": "markdown",
   "metadata": {},
   "source": [
    "## Begin_Date"
   ]
  },
  {
   "cell_type": "code",
   "execution_count": 8,
   "metadata": {},
   "outputs": [
    {
     "name": "stdout",
     "output_type": "stream",
     "text": [
      "There are 0 null values, and they are located at \n",
      "[]\n"
     ]
    }
   ],
   "source": [
    "#null values\n",
    "Begin_Date = df['Begin_Date']\n",
    "print(f\"There are {Begin_Date.isnull().sum()} null values, and they are located at \\n{np.where(Begin_Date.isnull())[0]}\")"
   ]
  },
  {
   "cell_type": "code",
   "execution_count": 9,
   "metadata": {},
   "outputs": [
    {
     "name": "stdout",
     "output_type": "stream",
     "text": [
      "0    2006-04-25\n",
      "1    2004-05-07\n",
      "2    2002-11-29\n",
      "3    2008-01-25\n",
      "4    2003-12-30\n",
      "5    2004-05-07\n",
      "6    2003-06-20\n",
      "7    2010-05-28\n",
      "8    2004-08-07\n",
      "9    2010-09-10\n",
      "10   2004-08-07\n",
      "11   1992-12-21\n",
      "12   2003-12-30\n",
      "13   2006-11-09\n",
      "14   2010-05-28\n",
      "15   2011-10-31\n",
      "16   2017-02-27\n",
      "17   2022-04-28\n",
      "18   2019-09-27\n",
      "19   2005-09-01\n",
      "20   1999-09-16\n",
      "21   1991-04-23\n",
      "22   2000-06-08\n",
      "23   2009-06-29\n",
      "24   2000-12-29\n",
      "25   1998-12-03\n",
      "26   1992-11-06\n",
      "27   1998-06-24\n",
      "28   1991-05-18\n",
      "29   2000-02-24\n",
      "30   1991-05-18\n",
      "31   1991-05-13\n",
      "32   2003-07-28\n",
      "33   1998-08-14\n",
      "34   1990-11-09\n",
      "35   2001-09-11\n",
      "36   1997-05-31\n",
      "37   1992-03-23\n",
      "38   1993-11-17\n",
      "39   2001-11-29\n",
      "40   2001-11-29\n",
      "41   2021-12-10\n",
      "42   2022-06-29\n",
      "43   2000-11-16\n",
      "44   1990-10-19\n",
      "Name: Begin_Date, dtype: datetime64[ns]\n"
     ]
    }
   ],
   "source": [
    "#Drop the null values and change date values to datetime\n",
    "Begin_Date = df['Begin_Date'].dropna()\n",
    "Begin_Date = pd.to_datetime(Begin_Date, format = '%Y%m%d')\n",
    "print(Begin_Date)"
   ]
  },
  {
   "cell_type": "code",
   "execution_count": 10,
   "metadata": {},
   "outputs": [
    {
     "data": {
      "image/png": "[encoded data removed]",
      "text/plain": [
       "<Figure size 640x480 with 1 Axes>"
      ]
     },
     "metadata": {},
     "output_type": "display_data"
    }
   ],
   "source": [
    "# distribution of years in Begin_Date\n",
    "Begin_Date.groupby(Begin_Date.dt.year).count().plot(kind=\"bar\")\n",
    "plt.show()"
   ]
  },
  {
   "cell_type": "code",
   "execution_count": 11,
   "metadata": {},
   "outputs": [
    {
     "data": {
      "image/png": "[encoded data removed]",
      "text/plain": [
       "<Figure size 640x480 with 1 Axes>"
      ]
     },
     "metadata": {},
     "output_type": "display_data"
    }
   ],
   "source": [
    "#Distribtion of months in Begin_Date(just for fun)\n",
    "Begin_Date.groupby(Begin_Date.dt.month).count().plot(kind=\"bar\")\n",
    "plt.show()"
   ]
  },
  {
   "attachments": {},
   "cell_type": "markdown",
   "metadata": {},
   "source": [
    "## Household_Num"
   ]
  },
  {
   "cell_type": "code",
   "execution_count": 4,
   "metadata": {},
   "outputs": [
    {
     "name": "stdout",
     "output_type": "stream",
     "text": [
      "There are 0 null values, and they are located at \n",
      "[]\n"
     ]
    },
    {
     "data": {
      "text/plain": [
       "0      480\n",
       "1     3830\n",
       "2      384\n",
       "3      208\n",
       "4      673\n",
       "5     1497\n",
       "6      860\n",
       "7     1330\n",
       "8     1585\n",
       "9      376\n",
       "10     490\n",
       "11     231\n",
       "12    1344\n",
       "13     306\n",
       "14    1247\n",
       "15    1370\n",
       "16     615\n",
       "17     203\n",
       "18    1028\n",
       "19     225\n",
       "20     380\n",
       "21     900\n",
       "22     285\n",
       "23     292\n",
       "24     202\n",
       "25     228\n",
       "26     261\n",
       "27     284\n",
       "28    1430\n",
       "29     263\n",
       "30    1766\n",
       "31    1123\n",
       "32     430\n",
       "33     167\n",
       "34    1292\n",
       "35     245\n",
       "36      99\n",
       "37     574\n",
       "38    1454\n",
       "39     180\n",
       "40     510\n",
       "41     558\n",
       "42     216\n",
       "43     260\n",
       "44     262\n",
       "Name: Household_Num, dtype: int64"
      ]
     },
     "metadata": {},
     "output_type": "display_data"
    }
   ],
   "source": [
    "#1 null value\n",
    "Household_Num = df['Household_Num']\n",
    "print(f\"There are {Household_Num.isnull().sum()} null values, and they are located at \\n{np.where(Household_Num.isnull())[0]}\")\n",
    "display(Household_Num)"
   ]
  },
  {
   "cell_type": "code",
   "execution_count": 5,
   "metadata": {},
   "outputs": [],
   "source": [
    "Household_Num = Household_Num.dropna()\n",
    "Household_Num = Household_Num.astype('int16')"
   ]
  },
  {
   "cell_type": "code",
   "execution_count": 7,
   "metadata": {},
   "outputs": [
    {
     "data": {
      "image/png": "[encoded data removed]",
      "text/plain": [
       "<Figure size 640x480 with 1 Axes>"
      ]
     },
     "metadata": {},
     "output_type": "display_data"
    }
   ],
   "source": [
    "fig, ax = plt.subplots()\n",
    "b = int(len(Household_Num)/2)\n",
    "ax.hist(Household_Num, bins = b)\n",
    "plt.show()"
   ]
  },
  {
   "cell_type": "code",
   "execution_count": 16,
   "metadata": {},
   "outputs": [
    {
     "data": {
      "text/plain": [
       "count      45.000000\n",
       "mean      709.844444\n",
       "std       681.947844\n",
       "min        99.000000\n",
       "25%       260.000000\n",
       "50%       430.000000\n",
       "75%      1123.000000\n",
       "max      3830.000000\n",
       "Name: Household_Num, dtype: float64"
      ]
     },
     "execution_count": 16,
     "metadata": {},
     "output_type": "execute_result"
    }
   ],
   "source": [
    "Household_Num.describe()"
   ]
  },
  {
   "cell_type": "code",
   "execution_count": 18,
   "metadata": {},
   "outputs": [],
   "source": [
    "def printApt (Column, df, dfInfo, maxmin = \"max\", ind= 0):\n",
    "    if(maxmin == \"max\"):\n",
    "        find = Column[Column == Column.max()].index[ind]\n",
    "        print(df.loc[find])\n",
    "        print(dfInfo[dfInfo['kaptCode'] == df.loc[find]['kaptCode']])\n",
    "    elif(maxmin == \"min\"):\n",
    "        find = Column[Column == Column.min()].index[ind]\n",
    "        print(df.loc[find])\n",
    "        print(dfInfo[dfInfo['kaptCode'] == df.loc[find]['kaptCode']])"
   ]
  },
  {
   "cell_type": "code",
   "execution_count": 19,
   "metadata": {},
   "outputs": [
    {
     "name": "stdout",
     "output_type": "stream",
     "text": [
      "kaptCode           A14272304\n",
      "bjdCode           1130510100\n",
      "Household_Num           3830\n",
      "Begin_Date          20040507\n",
      "Heating_Method          개별난방\n",
      "House_Type               아파트\n",
      "Elec_Con                종합계약\n",
      "Elev_Num                  84\n",
      "Park_Above               734\n",
      "Park_Below              4082\n",
      "Name: 1, dtype: object\n",
      "    kaptCode Complex_Name\n",
      "1  A14272304   SK북한산시티아파트\n"
     ]
    }
   ],
   "source": [
    "printApt(Household_Num, df, dfInfo)"
   ]
  },
  {
   "attachments": {},
   "cell_type": "markdown",
   "metadata": {},
   "source": [
    "## Heating_Method"
   ]
  },
  {
   "cell_type": "code",
   "execution_count": 20,
   "metadata": {},
   "outputs": [
    {
     "name": "stdout",
     "output_type": "stream",
     "text": [
      "There are 0 null values, and they are located at \n",
      "[]\n"
     ]
    },
    {
     "data": {
      "text/plain": [
       "0        개별난방\n",
       "1        개별난방\n",
       "2        개별난방\n",
       "3        개별난방\n",
       "4        개별난방\n",
       "5        개별난방\n",
       "6        개별난방\n",
       "7        개별난방\n",
       "8        개별난방\n",
       "9        개별난방\n",
       "10       개별난방\n",
       "11       개별난방\n",
       "12       개별난방\n",
       "13       개별난방\n",
       "14       개별난방\n",
       "15       개별난방\n",
       "16       개별난방\n",
       "17       개별난방\n",
       "18       개별난방\n",
       "19       개별난방\n",
       "20       개별난방\n",
       "21       개별난방\n",
       "22       개별난방\n",
       "23       개별난방\n",
       "24       개별난방\n",
       "25       개별난방\n",
       "26       개별난방\n",
       "27       개별난방\n",
       "28       중앙난방\n",
       "29       개별난방\n",
       "30       중앙난방\n",
       "31       중앙난방\n",
       "32       개별난방\n",
       "33       개별난방\n",
       "34       중앙난방\n",
       "35       개별난방\n",
       "36       개별난방\n",
       "37       개별난방\n",
       "38       개별난방\n",
       "39       개별난방\n",
       "40       개별난방\n",
       "41    개별난방+기타\n",
       "42       개별난방\n",
       "43       개별난방\n",
       "44       개별난방\n",
       "Name: Heating_Method, dtype: object"
      ]
     },
     "metadata": {},
     "output_type": "display_data"
    }
   ],
   "source": [
    "# null values\n",
    "Heating_Method = df['Heating_Method']\n",
    "print(f\"There are {Heating_Method.isnull().sum()} null values, and they are located at \\n{np.where(Heating_Method.isnull())[0]}\")\n",
    "display(Heating_Method)"
   ]
  },
  {
   "cell_type": "code",
   "execution_count": 21,
   "metadata": {},
   "outputs": [],
   "source": [
    "Heating_Method = Heating_Method.dropna()"
   ]
  },
  {
   "cell_type": "code",
   "execution_count": 22,
   "metadata": {},
   "outputs": [
    {
     "name": "stdout",
     "output_type": "stream",
     "text": [
      "[0 0 0 0 0 0 0 0 0 0 0 0 0 0 0 0 0 0 0 0 0 0 0 0 0 0 0 0 1 0 1 1 0 0 1 0 0\n",
      " 0 0 0 0 2 0 0 0]\n",
      "Index(['개별난방', '중앙난방', '개별난방+기타'], dtype='object')\n"
     ]
    }
   ],
   "source": [
    "int_HM = pd.factorize(Heating_Method)[0]\n",
    "ind_HM = pd.factorize(Heating_Method)[1]\n",
    "print(int_HM)\n",
    "print(ind_HM)"
   ]
  },
  {
   "cell_type": "code",
   "execution_count": 23,
   "metadata": {},
   "outputs": [
    {
     "data": {
      "text/plain": [
       "0    40\n",
       "1     4\n",
       "2     1\n",
       "dtype: int64"
      ]
     },
     "execution_count": 23,
     "metadata": {},
     "output_type": "execute_result"
    }
   ],
   "source": [
    "count_int_HM = pd.Series(int_HM).value_counts()\n",
    "count_int_HM"
   ]
  },
  {
   "cell_type": "code",
   "execution_count": 24,
   "metadata": {},
   "outputs": [],
   "source": [
    "eng_ind_HM = ['Individual','Central', 'Indiv + Other']"
   ]
  },
  {
   "cell_type": "code",
   "execution_count": 25,
   "metadata": {},
   "outputs": [
    {
     "data": {
      "image/png": "[encoded data removed]",
      "text/plain": [
       "<Figure size 640x480 with 1 Axes>"
      ]
     },
     "metadata": {},
     "output_type": "display_data"
    }
   ],
   "source": [
    "fig, ax = plt.subplots()\n",
    "ax.pie(count_int_HM, labels=eng_ind_HM, autopct='%1.1f%%')\n",
    "plt.show()"
   ]
  },
  {
   "attachments": {},
   "cell_type": "markdown",
   "metadata": {},
   "source": [
    "## Elev_Num; Elevator Number"
   ]
  },
  {
   "cell_type": "code",
   "execution_count": 8,
   "metadata": {},
   "outputs": [
    {
     "name": "stdout",
     "output_type": "stream",
     "text": [
      "There are 0 null values, and they are located at \n",
      "[]\n"
     ]
    }
   ],
   "source": [
    "Elev_Num = df['Elev_Num']\n",
    "print(f\"There are {Elev_Num.isnull().sum()} null values, and they are located at \\n{np.where(Elev_Num.isnull())[0]}\")"
   ]
  },
  {
   "cell_type": "code",
   "execution_count": 9,
   "metadata": {},
   "outputs": [],
   "source": [
    "Elev_Num = Elev_Num.dropna()\n",
    "Elev_Num = Elev_Num.astype('int16')"
   ]
  },
  {
   "cell_type": "code",
   "execution_count": 10,
   "metadata": {},
   "outputs": [
    {
     "data": {
      "image/png": "[encoded data removed]",
      "text/plain": [
       "<Figure size 640x480 with 1 Axes>"
      ]
     },
     "metadata": {},
     "output_type": "display_data"
    }
   ],
   "source": [
    "fig, ax = plt.subplots()\n",
    "b = int(len(Elev_Num)/2)\n",
    "ax.hist(Elev_Num, bins = b)\n",
    "plt.show()"
   ]
  },
  {
   "cell_type": "code",
   "execution_count": 30,
   "metadata": {},
   "outputs": [
    {
     "data": {
      "text/plain": [
       "count    45.000000\n",
       "mean     17.733333\n",
       "std      15.853592\n",
       "min       2.000000\n",
       "25%       8.000000\n",
       "50%      11.000000\n",
       "75%      23.000000\n",
       "max      84.000000\n",
       "Name: Elev_Num, dtype: float64"
      ]
     },
     "execution_count": 30,
     "metadata": {},
     "output_type": "execute_result"
    }
   ],
   "source": [
    "Elev_Num.describe()"
   ]
  },
  {
   "cell_type": "code",
   "execution_count": 31,
   "metadata": {},
   "outputs": [
    {
     "name": "stdout",
     "output_type": "stream",
     "text": [
      "kaptCode           A14272304\n",
      "bjdCode           1130510100\n",
      "Household_Num           3830\n",
      "Begin_Date          20040507\n",
      "Heating_Method          개별난방\n",
      "House_Type               아파트\n",
      "Elec_Con                종합계약\n",
      "Elev_Num                  84\n",
      "Park_Above               734\n",
      "Park_Below              4082\n",
      "Name: 1, dtype: object\n",
      "    kaptCode Complex_Name\n",
      "1  A14272304   SK북한산시티아파트\n"
     ]
    }
   ],
   "source": [
    "printApt(Elev_Num, df, dfInfo)"
   ]
  },
  {
   "attachments": {},
   "cell_type": "markdown",
   "metadata": {},
   "source": [
    "## Electricity Contract; Elec_Con"
   ]
  },
  {
   "cell_type": "code",
   "execution_count": 33,
   "metadata": {},
   "outputs": [
    {
     "name": "stdout",
     "output_type": "stream",
     "text": [
      "There are 0 null values, and they are located at \n",
      "[]\n"
     ]
    }
   ],
   "source": [
    "Elec_Con = df['Elec_Con']\n",
    "print(f\"There are {Elec_Con.isnull().sum()} null values, and they are located at \\n{np.where(Elec_Con.isnull())[0]}\")"
   ]
  },
  {
   "cell_type": "code",
   "execution_count": 34,
   "metadata": {},
   "outputs": [],
   "source": [
    "Elec_Con = Elec_Con.dropna()"
   ]
  },
  {
   "cell_type": "code",
   "execution_count": 35,
   "metadata": {},
   "outputs": [
    {
     "name": "stdout",
     "output_type": "stream",
     "text": [
      "[0 1 0 0 0 0 1 0 0 0 0 2 0 1 2 0 1 2 1 0 0 0 0 0 1 0 1 1 0 0 0 0 0 0 0 1 1\n",
      " 0 1 0 0 0 1 1 0]\n",
      "Index(['단일계약', '종합계약', '기타'], dtype='object')\n"
     ]
    }
   ],
   "source": [
    "int_EC = pd.factorize(Elec_Con)[0]\n",
    "ind_EC = pd.factorize(Elec_Con)[1]\n",
    "print(int_EC)\n",
    "print(ind_EC)"
   ]
  },
  {
   "cell_type": "code",
   "execution_count": 36,
   "metadata": {},
   "outputs": [
    {
     "data": {
      "text/plain": [
       "0    29\n",
       "1    13\n",
       "2     3\n",
       "dtype: int64"
      ]
     },
     "execution_count": 36,
     "metadata": {},
     "output_type": "execute_result"
    }
   ],
   "source": [
    "count_int_EC = pd.Series(int_EC).value_counts()\n",
    "count_int_EC"
   ]
  },
  {
   "cell_type": "code",
   "execution_count": 37,
   "metadata": {},
   "outputs": [],
   "source": [
    "eng_ind_EC = ['Single', 'Comprehensive', 'Other']"
   ]
  },
  {
   "cell_type": "code",
   "execution_count": 38,
   "metadata": {},
   "outputs": [
    {
     "data": {
      "image/png": "[encoded data removed]",
      "text/plain": [
       "<Figure size 640x480 with 1 Axes>"
      ]
     },
     "metadata": {},
     "output_type": "display_data"
    }
   ],
   "source": [
    "fig, ax = plt.subplots()\n",
    "ax.pie(count_int_EC, labels=eng_ind_EC, autopct='%1.1f%%')\n",
    "plt.show()"
   ]
  },
  {
   "attachments": {},
   "cell_type": "markdown",
   "metadata": {},
   "source": [
    "## Park_Above & Park_Below"
   ]
  },
  {
   "cell_type": "code",
   "execution_count": 11,
   "metadata": {},
   "outputs": [
    {
     "name": "stdout",
     "output_type": "stream",
     "text": [
      "There are 0 null values, and they are located at \n",
      "[]\n",
      "There are 0 null values, and they are located at \n",
      "[]\n"
     ]
    }
   ],
   "source": [
    "Park_Above = df['Park_Above']\n",
    "Park_Below = df['Park_Below']\n",
    "print(f\"There are {Park_Above.isnull().sum()} null values, and they are located at \\n{np.where(Park_Above.isnull())[0]}\")\n",
    "print(f\"There are {Park_Below.isnull().sum()} null values, and they are located at \\n{np.where(Park_Below.isnull())[0]}\")"
   ]
  },
  {
   "cell_type": "code",
   "execution_count": 12,
   "metadata": {},
   "outputs": [
    {
     "data": {
      "text/plain": [
       "0       29\n",
       "1      734\n",
       "2      130\n",
       "3       88\n",
       "4       90\n",
       "5      115\n",
       "6      221\n",
       "7     1565\n",
       "8     1868\n",
       "9        0\n",
       "10      25\n",
       "11      96\n",
       "12     291\n",
       "13       0\n",
       "14      21\n",
       "15    1753\n",
       "16       9\n",
       "17       0\n",
       "18       0\n",
       "19     127\n",
       "20      65\n",
       "21     519\n",
       "22      44\n",
       "23      49\n",
       "24      38\n",
       "25      52\n",
       "26     198\n",
       "27      22\n",
       "28     554\n",
       "29      95\n",
       "30     437\n",
       "31     477\n",
       "32      52\n",
       "33      19\n",
       "34     358\n",
       "35      40\n",
       "36      18\n",
       "37     315\n",
       "38     890\n",
       "39       7\n",
       "40      51\n",
       "41       0\n",
       "42       0\n",
       "43      34\n",
       "44     161\n",
       "Name: Park_Above, dtype: int16"
      ]
     },
     "metadata": {},
     "output_type": "display_data"
    },
    {
     "data": {
      "text/plain": [
       "0      534\n",
       "1     4082\n",
       "2      401\n",
       "3      144\n",
       "4      258\n",
       "5      579\n",
       "6      848\n",
       "7      300\n",
       "8       38\n",
       "9      402\n",
       "10     322\n",
       "11     108\n",
       "12    1374\n",
       "13     329\n",
       "14    1539\n",
       "15       0\n",
       "16     707\n",
       "17     227\n",
       "18    1365\n",
       "19     128\n",
       "20     246\n",
       "21       0\n",
       "22     190\n",
       "23     340\n",
       "24     139\n",
       "25     150\n",
       "26      20\n",
       "27     211\n",
       "28       0\n",
       "29     117\n",
       "30       0\n",
       "31       0\n",
       "32     459\n",
       "33     181\n",
       "34       0\n",
       "35     296\n",
       "36      66\n",
       "37       0\n",
       "38     240\n",
       "39     117\n",
       "40     559\n",
       "41     557\n",
       "42     232\n",
       "43     253\n",
       "44       0\n",
       "Name: Park_Below, dtype: int16"
      ]
     },
     "metadata": {},
     "output_type": "display_data"
    }
   ],
   "source": [
    "Park_Above = Park_Above.dropna().astype('int16')\n",
    "Park_Below = Park_Below.dropna().astype('int16')\n",
    "display(Park_Above)\n",
    "display(Park_Below)"
   ]
  },
  {
   "cell_type": "code",
   "execution_count": 13,
   "metadata": {},
   "outputs": [
    {
     "data": {
      "image/png": "[encoded data removed]",
      "text/plain": [
       "<Figure size 640x480 with 1 Axes>"
      ]
     },
     "metadata": {},
     "output_type": "display_data"
    }
   ],
   "source": [
    "fig, ax = plt.subplots()\n",
    "b = int(len(Park_Above)/2)\n",
    "ax.hist(Park_Above, bins = b)\n",
    "plt.show()"
   ]
  },
  {
   "cell_type": "code",
   "execution_count": 14,
   "metadata": {},
   "outputs": [
    {
     "data": {
      "image/png": "[encoded data removed]",
      "text/plain": [
       "<Figure size 640x480 with 1 Axes>"
      ]
     },
     "metadata": {},
     "output_type": "display_data"
    }
   ],
   "source": [
    "fig, ax = plt.subplots()\n",
    "b = int(len(Park_Below)/2)\n",
    "ax.hist(Park_Below, bins = b)\n",
    "plt.show()"
   ]
  },
  {
   "cell_type": "code",
   "execution_count": 43,
   "metadata": {},
   "outputs": [
    {
     "data": {
      "text/plain": [
       "count      45.000000\n",
       "mean      259.044444\n",
       "std       448.430594\n",
       "min         0.000000\n",
       "25%        22.000000\n",
       "50%        65.000000\n",
       "75%       291.000000\n",
       "max      1868.000000\n",
       "Name: Park_Above, dtype: float64"
      ]
     },
     "execution_count": 43,
     "metadata": {},
     "output_type": "execute_result"
    }
   ],
   "source": [
    "Park_Above.describe()"
   ]
  },
  {
   "cell_type": "code",
   "execution_count": 44,
   "metadata": {},
   "outputs": [
    {
     "data": {
      "text/plain": [
       "count      45.000000\n",
       "mean      401.288889\n",
       "std       667.896720\n",
       "min         0.000000\n",
       "25%       108.000000\n",
       "50%       232.000000\n",
       "75%       402.000000\n",
       "max      4082.000000\n",
       "Name: Park_Below, dtype: float64"
      ]
     },
     "execution_count": 44,
     "metadata": {},
     "output_type": "execute_result"
    }
   ],
   "source": [
    "Park_Below.describe()"
   ]
  },
  {
   "cell_type": "code",
   "execution_count": 45,
   "metadata": {},
   "outputs": [
    {
     "name": "stdout",
     "output_type": "stream",
     "text": [
      "kaptCode           A14272305\n",
      "bjdCode           1130510100\n",
      "Household_Num           1585\n",
      "Begin_Date          20040807\n",
      "Heating_Method          개별난방\n",
      "House_Type               아파트\n",
      "Elec_Con                단일계약\n",
      "Elev_Num                  34\n",
      "Park_Above              1868\n",
      "Park_Below                38\n",
      "Name: 8, dtype: object\n",
      "    kaptCode Complex_Name\n",
      "8  A14272305      벽산라이브파크\n"
     ]
    }
   ],
   "source": [
    "printApt(Park_Above, df, dfInfo)"
   ]
  },
  {
   "cell_type": "code",
   "execution_count": 46,
   "metadata": {},
   "outputs": [
    {
     "name": "stdout",
     "output_type": "stream",
     "text": [
      "kaptCode           A14272304\n",
      "bjdCode           1130510100\n",
      "Household_Num           3830\n",
      "Begin_Date          20040507\n",
      "Heating_Method          개별난방\n",
      "House_Type               아파트\n",
      "Elec_Con                종합계약\n",
      "Elev_Num                  84\n",
      "Park_Above               734\n",
      "Park_Below              4082\n",
      "Name: 1, dtype: object\n",
      "    kaptCode Complex_Name\n",
      "1  A14272304   SK북한산시티아파트\n"
     ]
    }
   ],
   "source": [
    "printApt(Park_Below, df, dfInfo)"
   ]
  }
 ],
 "metadata": {
  "kernelspec": {
   "display_name": "ybenv",
   "language": "python",
   "name": "ybenv"
  },
  "language_info": {
   "codemirror_mode": {
    "name": "ipython",
    "version": 3
   },
   "file_extension": ".py",
   "mimetype": "text/x-python",
   "name": "python",
   "nbconvert_exporter": "python",
   "pygments_lexer": "ipython3",
   "version": "3.9.16"
  },
  "orig_nbformat": 4
 },
 "nbformat": 4,
 "nbformat_minor": 2
}
