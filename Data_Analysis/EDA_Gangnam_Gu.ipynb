{
 "cells": [
  {
   "cell_type": "code",
   "execution_count": 1,
   "metadata": {},
   "outputs": [],
   "source": [
    "import pandas as pd\n",
    "import numpy as np\n",
    "import matplotlib.pyplot as plt\n",
    "import missingno as msno"
   ]
  },
  {
   "cell_type": "code",
   "execution_count": 2,
   "metadata": {},
   "outputs": [],
   "source": [
    "df = pd.read_csv(\"C:/Users/lhi30/Haein/2023/YBIGTA/DA/Project/Share/AptOnly/Gangnam_Gu_Only.csv\")"
   ]
  },
  {
   "cell_type": "code",
   "execution_count": 3,
   "metadata": {},
   "outputs": [],
   "source": [
    "dfInfo = pd.read_csv(\"C:/Users/lhi30/Haein/2023/YBIGTA/DA/Project/Share/Data_Analysis/Reference.csv\", \n",
    "                     index_col=0)"
   ]
  },
  {
   "cell_type": "code",
   "execution_count": 4,
   "metadata": {},
   "outputs": [
    {
     "data": {
      "text/html": [
       "<div>\n",
       "<style scoped>\n",
       "    .dataframe tbody tr th:only-of-type {\n",
       "        vertical-align: middle;\n",
       "    }\n",
       "\n",
       "    .dataframe tbody tr th {\n",
       "        vertical-align: top;\n",
       "    }\n",
       "\n",
       "    .dataframe thead th {\n",
       "        text-align: right;\n",
       "    }\n",
       "</style>\n",
       "<table border=\"1\" class=\"dataframe\">\n",
       "  <thead>\n",
       "    <tr style=\"text-align: right;\">\n",
       "      <th></th>\n",
       "      <th>kaptCode</th>\n",
       "      <th>bjdCode</th>\n",
       "      <th>Household_Num</th>\n",
       "      <th>Begin_Date</th>\n",
       "      <th>Heating_Method</th>\n",
       "      <th>House_Type</th>\n",
       "      <th>Elec_Con</th>\n",
       "      <th>Elev_Num</th>\n",
       "      <th>Park_Above</th>\n",
       "      <th>Park_Below</th>\n",
       "    </tr>\n",
       "  </thead>\n",
       "  <tbody>\n",
       "    <tr>\n",
       "      <th>0</th>\n",
       "      <td>A13508012</td>\n",
       "      <td>1168010100</td>\n",
       "      <td>411</td>\n",
       "      <td>20140124.0</td>\n",
       "      <td>지역난방</td>\n",
       "      <td>아파트</td>\n",
       "      <td>단일계약</td>\n",
       "      <td>11.0</td>\n",
       "      <td>0.0</td>\n",
       "      <td>588.0</td>\n",
       "    </tr>\n",
       "    <tr>\n",
       "      <th>1</th>\n",
       "      <td>A13579501</td>\n",
       "      <td>1168010100</td>\n",
       "      <td>332</td>\n",
       "      <td>20060814.0</td>\n",
       "      <td>지역난방</td>\n",
       "      <td>아파트</td>\n",
       "      <td>종합계약</td>\n",
       "      <td>9.0</td>\n",
       "      <td>0.0</td>\n",
       "      <td>552.0</td>\n",
       "    </tr>\n",
       "    <tr>\n",
       "      <th>2</th>\n",
       "      <td>A13592604</td>\n",
       "      <td>1168010100</td>\n",
       "      <td>738</td>\n",
       "      <td>20060102.0</td>\n",
       "      <td>지역난방</td>\n",
       "      <td>아파트</td>\n",
       "      <td>단일계약</td>\n",
       "      <td>20.0</td>\n",
       "      <td>0.0</td>\n",
       "      <td>743.0</td>\n",
       "    </tr>\n",
       "    <tr>\n",
       "      <th>3</th>\n",
       "      <td>A13508009</td>\n",
       "      <td>1168010100</td>\n",
       "      <td>541</td>\n",
       "      <td>20060928.0</td>\n",
       "      <td>지역난방</td>\n",
       "      <td>아파트</td>\n",
       "      <td>단일계약</td>\n",
       "      <td>14.0</td>\n",
       "      <td>0.0</td>\n",
       "      <td>914.0</td>\n",
       "    </tr>\n",
       "    <tr>\n",
       "      <th>4</th>\n",
       "      <td>A13508004</td>\n",
       "      <td>1168010100</td>\n",
       "      <td>206</td>\n",
       "      <td>19980421.0</td>\n",
       "      <td>중앙난방</td>\n",
       "      <td>아파트</td>\n",
       "      <td>종합계약</td>\n",
       "      <td>5.0</td>\n",
       "      <td>48.0</td>\n",
       "      <td>160.0</td>\n",
       "    </tr>\n",
       "    <tr>\n",
       "      <th>...</th>\n",
       "      <td>...</td>\n",
       "      <td>...</td>\n",
       "      <td>...</td>\n",
       "      <td>...</td>\n",
       "      <td>...</td>\n",
       "      <td>...</td>\n",
       "      <td>...</td>\n",
       "      <td>...</td>\n",
       "      <td>...</td>\n",
       "      <td>...</td>\n",
       "    </tr>\n",
       "    <tr>\n",
       "      <th>171</th>\n",
       "      <td>A13527019</td>\n",
       "      <td>1168011800</td>\n",
       "      <td>384</td>\n",
       "      <td>19781226.0</td>\n",
       "      <td>지역난방</td>\n",
       "      <td>아파트</td>\n",
       "      <td>단일계약</td>\n",
       "      <td>18.0</td>\n",
       "      <td>59.0</td>\n",
       "      <td>355.0</td>\n",
       "    </tr>\n",
       "    <tr>\n",
       "      <th>172</th>\n",
       "      <td>A13527006</td>\n",
       "      <td>1168011800</td>\n",
       "      <td>247</td>\n",
       "      <td>19830611.0</td>\n",
       "      <td>중앙난방</td>\n",
       "      <td>아파트</td>\n",
       "      <td>단일계약</td>\n",
       "      <td>6.0</td>\n",
       "      <td>285.0</td>\n",
       "      <td>0.0</td>\n",
       "    </tr>\n",
       "    <tr>\n",
       "      <th>173</th>\n",
       "      <td>A10027319</td>\n",
       "      <td>1168011800</td>\n",
       "      <td>110</td>\n",
       "      <td>20160422.0</td>\n",
       "      <td>지역난방</td>\n",
       "      <td>아파트</td>\n",
       "      <td>종합계약</td>\n",
       "      <td>4.0</td>\n",
       "      <td>156.0</td>\n",
       "      <td>0.0</td>\n",
       "    </tr>\n",
       "    <tr>\n",
       "      <th>174</th>\n",
       "      <td>A13550404</td>\n",
       "      <td>1168011800</td>\n",
       "      <td>64</td>\n",
       "      <td>20020131.0</td>\n",
       "      <td>지역난방</td>\n",
       "      <td>아파트</td>\n",
       "      <td>NaN</td>\n",
       "      <td>NaN</td>\n",
       "      <td>NaN</td>\n",
       "      <td>NaN</td>\n",
       "    </tr>\n",
       "    <tr>\n",
       "      <th>175</th>\n",
       "      <td>A10024793</td>\n",
       "      <td>1168011800</td>\n",
       "      <td>132</td>\n",
       "      <td>19990106.0</td>\n",
       "      <td>개별난방</td>\n",
       "      <td>아파트</td>\n",
       "      <td>기타</td>\n",
       "      <td>3.0</td>\n",
       "      <td>7.0</td>\n",
       "      <td>87.0</td>\n",
       "    </tr>\n",
       "  </tbody>\n",
       "</table>\n",
       "<p>176 rows × 10 columns</p>\n",
       "</div>"
      ],
      "text/plain": [
       "      kaptCode     bjdCode  Household_Num  Begin_Date Heating_Method  \\\n",
       "0    A13508012  1168010100            411  20140124.0           지역난방   \n",
       "1    A13579501  1168010100            332  20060814.0           지역난방   \n",
       "2    A13592604  1168010100            738  20060102.0           지역난방   \n",
       "3    A13508009  1168010100            541  20060928.0           지역난방   \n",
       "4    A13508004  1168010100            206  19980421.0           중앙난방   \n",
       "..         ...         ...            ...         ...            ...   \n",
       "171  A13527019  1168011800            384  19781226.0           지역난방   \n",
       "172  A13527006  1168011800            247  19830611.0           중앙난방   \n",
       "173  A10027319  1168011800            110  20160422.0           지역난방   \n",
       "174  A13550404  1168011800             64  20020131.0           지역난방   \n",
       "175  A10024793  1168011800            132  19990106.0           개별난방   \n",
       "\n",
       "    House_Type Elec_Con  Elev_Num  Park_Above  Park_Below  \n",
       "0          아파트     단일계약      11.0         0.0       588.0  \n",
       "1          아파트     종합계약       9.0         0.0       552.0  \n",
       "2          아파트     단일계약      20.0         0.0       743.0  \n",
       "3          아파트     단일계약      14.0         0.0       914.0  \n",
       "4          아파트     종합계약       5.0        48.0       160.0  \n",
       "..         ...      ...       ...         ...         ...  \n",
       "171        아파트     단일계약      18.0        59.0       355.0  \n",
       "172        아파트     단일계약       6.0       285.0         0.0  \n",
       "173        아파트     종합계약       4.0       156.0         0.0  \n",
       "174        아파트      NaN       NaN         NaN         NaN  \n",
       "175        아파트       기타       3.0         7.0        87.0  \n",
       "\n",
       "[176 rows x 10 columns]"
      ]
     },
     "execution_count": 4,
     "metadata": {},
     "output_type": "execute_result"
    }
   ],
   "source": [
    "df"
   ]
  },
  {
   "cell_type": "code",
   "execution_count": 5,
   "metadata": {},
   "outputs": [
    {
     "data": {
      "text/plain": [
       "kaptCode           0\n",
       "bjdCode            0\n",
       "Household_Num      0\n",
       "Begin_Date         1\n",
       "Heating_Method     1\n",
       "House_Type         0\n",
       "Elec_Con          12\n",
       "Elev_Num          16\n",
       "Park_Above        13\n",
       "Park_Below        13\n",
       "dtype: int64"
      ]
     },
     "execution_count": 5,
     "metadata": {},
     "output_type": "execute_result"
    }
   ],
   "source": [
    "df.isnull().sum()"
   ]
  },
  {
   "cell_type": "code",
   "execution_count": 6,
   "metadata": {},
   "outputs": [
    {
     "data": {
      "text/plain": [
       "<AxesSubplot: >"
      ]
     },
     "execution_count": 6,
     "metadata": {},
     "output_type": "execute_result"
    },
    {
     "data": {
      "image/png": "[encoded data removed]",
      "text/plain": [
       "<Figure size 800x800 with 2 Axes>"
      ]
     },
     "metadata": {},
     "output_type": "display_data"
    }
   ],
   "source": [
    "msno.matrix(df=df, figsize=(8, 8))"
   ]
  },
  {
   "attachments": {},
   "cell_type": "markdown",
   "metadata": {},
   "source": [
    "## Begin_Date"
   ]
  },
  {
   "cell_type": "code",
   "execution_count": 7,
   "metadata": {},
   "outputs": [
    {
     "name": "stdout",
     "output_type": "stream",
     "text": [
      "There are 1 null values, and they are located at \n",
      "[101]\n"
     ]
    }
   ],
   "source": [
    "#null values\n",
    "Begin_Date = df['Begin_Date']\n",
    "print(f\"There are {Begin_Date.isnull().sum()} null values, and they are located at \\n{np.where(Begin_Date.isnull())[0]}\")"
   ]
  },
  {
   "cell_type": "code",
   "execution_count": 8,
   "metadata": {},
   "outputs": [
    {
     "name": "stdout",
     "output_type": "stream",
     "text": [
      "0     2014-01-24\n",
      "1     2006-08-14\n",
      "2     2006-01-02\n",
      "3     2006-09-28\n",
      "4     1998-04-21\n",
      "         ...    \n",
      "171   1978-12-26\n",
      "172   1983-06-11\n",
      "173   2016-04-22\n",
      "174   2002-01-31\n",
      "175   1999-01-06\n",
      "Name: Begin_Date, Length: 175, dtype: datetime64[ns]\n"
     ]
    }
   ],
   "source": [
    "#Drop the null values and change date values to datetime\n",
    "Begin_Date = df['Begin_Date'].dropna()\n",
    "Begin_Date = pd.to_datetime(Begin_Date, format = '%Y%m%d')\n",
    "print(Begin_Date)"
   ]
  },
  {
   "cell_type": "code",
   "execution_count": 9,
   "metadata": {},
   "outputs": [
    {
     "data": {
      "image/png": "[encoded data removed]",
      "text/plain": [
       "<Figure size 640x480 with 1 Axes>"
      ]
     },
     "metadata": {},
     "output_type": "display_data"
    }
   ],
   "source": [
    "# distribution of years in Begin_Date\n",
    "Begin_Date.groupby(Begin_Date.dt.year).count().plot(kind=\"bar\")\n",
    "plt.show()"
   ]
  },
  {
   "cell_type": "code",
   "execution_count": 10,
   "metadata": {},
   "outputs": [
    {
     "data": {
      "image/png": "[encoded data removed]",
      "text/plain": [
       "<Figure size 640x480 with 1 Axes>"
      ]
     },
     "metadata": {},
     "output_type": "display_data"
    }
   ],
   "source": [
    "#Distribtion of months in Begin_Date(just for fun)\n",
    "Begin_Date.groupby(Begin_Date.dt.month).count().plot(kind=\"bar\")\n",
    "plt.show()"
   ]
  },
  {
   "attachments": {},
   "cell_type": "markdown",
   "metadata": {},
   "source": [
    "## Household_Num"
   ]
  },
  {
   "cell_type": "code",
   "execution_count": 4,
   "metadata": {},
   "outputs": [
    {
     "name": "stdout",
     "output_type": "stream",
     "text": [
      "There are 0 null values, and they are located at \n",
      "[]\n"
     ]
    },
    {
     "data": {
      "text/plain": [
       "0      411\n",
       "1      332\n",
       "2      738\n",
       "3      541\n",
       "4      206\n",
       "      ... \n",
       "171    384\n",
       "172    247\n",
       "173    110\n",
       "174     64\n",
       "175    132\n",
       "Name: Household_Num, Length: 176, dtype: int64"
      ]
     },
     "metadata": {},
     "output_type": "display_data"
    }
   ],
   "source": [
    "#1 null value\n",
    "Household_Num = df['Household_Num']\n",
    "print(f\"There are {Household_Num.isnull().sum()} null values, and they are located at \\n{np.where(Household_Num.isnull())[0]}\")\n",
    "display(Household_Num)"
   ]
  },
  {
   "cell_type": "code",
   "execution_count": 5,
   "metadata": {},
   "outputs": [],
   "source": [
    "Household_Num = Household_Num.dropna()\n",
    "Household_Num = Household_Num.astype('int16')"
   ]
  },
  {
   "cell_type": "code",
   "execution_count": 6,
   "metadata": {},
   "outputs": [
    {
     "data": {
      "image/png": "[encoded data removed]",
      "text/plain": [
       "<Figure size 640x480 with 1 Axes>"
      ]
     },
     "metadata": {},
     "output_type": "display_data"
    }
   ],
   "source": [
    "fig, ax = plt.subplots()\n",
    "b = int(len(Household_Num)/2)\n",
    "ax.hist(Household_Num, bins = b)\n",
    "plt.show()"
   ]
  },
  {
   "cell_type": "code",
   "execution_count": 14,
   "metadata": {},
   "outputs": [
    {
     "data": {
      "text/plain": [
       "count     176.000000\n",
       "mean      613.181818\n",
       "std       630.190974\n",
       "min        19.000000\n",
       "25%       209.750000\n",
       "50%       406.000000\n",
       "75%       790.750000\n",
       "max      4424.000000\n",
       "Name: Household_Num, dtype: float64"
      ]
     },
     "execution_count": 14,
     "metadata": {},
     "output_type": "execute_result"
    }
   ],
   "source": [
    "Household_Num.describe()"
   ]
  },
  {
   "cell_type": "code",
   "execution_count": 15,
   "metadata": {},
   "outputs": [],
   "source": [
    "def printApt (Column, df, dfInfo, maxmin = \"max\", ind= 0):\n",
    "    if(maxmin == \"max\"):\n",
    "        find = Column[Column == Column.max()].index[ind]\n",
    "        print(df.loc[find])\n",
    "        print(dfInfo[dfInfo['kaptCode'] == df.loc[find]['kaptCode']])\n",
    "    elif(maxmin == \"min\"):\n",
    "        find = Column[Column == Column.min()].index[ind]\n",
    "        print(df.loc[find])\n",
    "        print(dfInfo[dfInfo['kaptCode'] == df.loc[find]['kaptCode']])"
   ]
  },
  {
   "cell_type": "code",
   "execution_count": 16,
   "metadata": {},
   "outputs": [
    {
     "name": "stdout",
     "output_type": "stream",
     "text": [
      "kaptCode           A13583507\n",
      "bjdCode           1168010600\n",
      "Household_Num           4424\n",
      "Begin_Date        19790830.0\n",
      "Heating_Method          지역난방\n",
      "House_Type               아파트\n",
      "Elec_Con                단일계약\n",
      "Elev_Num                42.0\n",
      "Park_Above            3021.0\n",
      "Park_Below               0.0\n",
      "Name: 82, dtype: object\n",
      "     kaptCode Complex_Name\n",
      "96  A13583507           은마\n"
     ]
    }
   ],
   "source": [
    "printApt(Household_Num, df, dfInfo)"
   ]
  },
  {
   "attachments": {},
   "cell_type": "markdown",
   "metadata": {},
   "source": [
    "## Heating_Method"
   ]
  },
  {
   "cell_type": "code",
   "execution_count": 17,
   "metadata": {},
   "outputs": [
    {
     "name": "stdout",
     "output_type": "stream",
     "text": [
      "There are 1 null values, and they are located at \n",
      "[101]\n"
     ]
    },
    {
     "data": {
      "text/plain": [
       "0      지역난방\n",
       "1      지역난방\n",
       "2      지역난방\n",
       "3      지역난방\n",
       "4      중앙난방\n",
       "       ... \n",
       "171    지역난방\n",
       "172    중앙난방\n",
       "173    지역난방\n",
       "174    지역난방\n",
       "175    개별난방\n",
       "Name: Heating_Method, Length: 176, dtype: object"
      ]
     },
     "metadata": {},
     "output_type": "display_data"
    }
   ],
   "source": [
    "# null values\n",
    "Heating_Method = df['Heating_Method']\n",
    "print(f\"There are {Heating_Method.isnull().sum()} null values, and they are located at \\n{np.where(Heating_Method.isnull())[0]}\")\n",
    "display(Heating_Method)"
   ]
  },
  {
   "cell_type": "code",
   "execution_count": 18,
   "metadata": {},
   "outputs": [],
   "source": [
    "Heating_Method = Heating_Method.dropna()"
   ]
  },
  {
   "cell_type": "code",
   "execution_count": 19,
   "metadata": {},
   "outputs": [
    {
     "name": "stdout",
     "output_type": "stream",
     "text": [
      "[0 0 0 0 1 2 0 0 0 0 0 0 2 2 0 2 0 0 2 2 0 0 0 0 0 0 0 0 0 0 0 0 0 0 0 2 0\n",
      " 0 0 2 0 2 0 2 0 0 2 0 2 0 2 2 2 2 0 0 0 2 0 2 2 0 0 2 2 2 0 2 0 2 0 2 2 0\n",
      " 0 0 1 0 0 0 1 0 0 0 0 0 0 2 2 2 0 0 0 2 2 0 2 2 2 0 2 2 0 2 2 0 0 0 0 0 0\n",
      " 0 0 0 2 0 0 2 2 2 2 0 0 0 0 0 2 0 2 2 2 0 0 0 0 0 0 0 0 0 0 0 0 0 0 0 0 0\n",
      " 0 0 0 2 0 0 0 0 0 0 0 2 0 0 0 0 0 0 0 0 2 0 0 1 0 0 2]\n",
      "Index(['지역난방', '중앙난방', '개별난방'], dtype='object')\n"
     ]
    }
   ],
   "source": [
    "int_HM = pd.factorize(Heating_Method)[0]\n",
    "ind_HM = pd.factorize(Heating_Method)[1]\n",
    "print(int_HM)\n",
    "print(ind_HM)"
   ]
  },
  {
   "cell_type": "code",
   "execution_count": 20,
   "metadata": {},
   "outputs": [
    {
     "data": {
      "text/plain": [
       "0    120\n",
       "2     51\n",
       "1      4\n",
       "dtype: int64"
      ]
     },
     "execution_count": 20,
     "metadata": {},
     "output_type": "execute_result"
    }
   ],
   "source": [
    "count_int_HM = pd.Series(int_HM).value_counts()\n",
    "count_int_HM"
   ]
  },
  {
   "cell_type": "code",
   "execution_count": 21,
   "metadata": {},
   "outputs": [],
   "source": [
    "eng_ind_HM = ['Regional','Central','Individual']"
   ]
  },
  {
   "cell_type": "code",
   "execution_count": 22,
   "metadata": {},
   "outputs": [
    {
     "data": {
      "image/png": "[encoded data removed]",
      "text/plain": [
       "<Figure size 640x480 with 1 Axes>"
      ]
     },
     "metadata": {},
     "output_type": "display_data"
    }
   ],
   "source": [
    "fig, ax = plt.subplots()\n",
    "ax.pie(count_int_HM, labels=eng_ind_HM, autopct='%1.1f%%')\n",
    "plt.show()"
   ]
  },
  {
   "attachments": {},
   "cell_type": "markdown",
   "metadata": {},
   "source": [
    "## Elev_Num; Elevator Number"
   ]
  },
  {
   "cell_type": "code",
   "execution_count": 7,
   "metadata": {},
   "outputs": [
    {
     "name": "stdout",
     "output_type": "stream",
     "text": [
      "There are 16 null values, and they are located at \n",
      "[ 18  19  35  63  67  72  90  94  95 100 101 132 135 137 154 174]\n"
     ]
    }
   ],
   "source": [
    "Elev_Num = df['Elev_Num']\n",
    "print(f\"There are {Elev_Num.isnull().sum()} null values, and they are located at \\n{np.where(Elev_Num.isnull())[0]}\")"
   ]
  },
  {
   "cell_type": "code",
   "execution_count": 8,
   "metadata": {},
   "outputs": [],
   "source": [
    "Elev_Num = Elev_Num.dropna()\n",
    "Elev_Num = Elev_Num.astype('int16')"
   ]
  },
  {
   "cell_type": "code",
   "execution_count": 9,
   "metadata": {},
   "outputs": [
    {
     "data": {
      "image/png": "[encoded data removed]",
      "text/plain": [
       "<Figure size 640x480 with 1 Axes>"
      ]
     },
     "metadata": {},
     "output_type": "display_data"
    }
   ],
   "source": [
    "fig, ax = plt.subplots()\n",
    "b = int(len(Elev_Num)/2)\n",
    "ax.hist(Elev_Num, bins = b)\n",
    "plt.show()"
   ]
  },
  {
   "cell_type": "code",
   "execution_count": 26,
   "metadata": {},
   "outputs": [
    {
     "data": {
      "text/plain": [
       "count    160.000000\n",
       "mean      18.350000\n",
       "std       15.801919\n",
       "min        0.000000\n",
       "25%        8.000000\n",
       "50%       14.000000\n",
       "75%       22.000000\n",
       "max       88.000000\n",
       "Name: Elev_Num, dtype: float64"
      ]
     },
     "execution_count": 26,
     "metadata": {},
     "output_type": "execute_result"
    }
   ],
   "source": [
    "Elev_Num.describe()"
   ]
  },
  {
   "cell_type": "code",
   "execution_count": 27,
   "metadata": {},
   "outputs": [
    {
     "name": "stdout",
     "output_type": "stream",
     "text": [
      "kaptCode           A13589802\n",
      "bjdCode           1168011000\n",
      "Household_Num           3130\n",
      "Begin_Date        19760607.0\n",
      "Heating_Method          지역난방\n",
      "House_Type               아파트\n",
      "Elec_Con                단일계약\n",
      "Elev_Num                88.0\n",
      "Park_Above            2350.0\n",
      "Park_Below               0.0\n",
      "Name: 107, dtype: object\n",
      "      kaptCode Complex_Name\n",
      "128  A13589802     압구정현대아파트\n"
     ]
    }
   ],
   "source": [
    "printApt(Elev_Num, df, dfInfo)"
   ]
  },
  {
   "attachments": {},
   "cell_type": "markdown",
   "metadata": {},
   "source": [
    "## Electricity Contract; Elec_Con"
   ]
  },
  {
   "cell_type": "code",
   "execution_count": 28,
   "metadata": {},
   "outputs": [
    {
     "name": "stdout",
     "output_type": "stream",
     "text": [
      "There are 12 null values, and they are located at \n",
      "[ 18  19  63  67  72  90  95 100 101 128 154 174]\n"
     ]
    }
   ],
   "source": [
    "Elec_Con = df['Elec_Con']\n",
    "print(f\"There are {Elec_Con.isnull().sum()} null values, and they are located at \\n{np.where(Elec_Con.isnull())[0]}\")"
   ]
  },
  {
   "cell_type": "code",
   "execution_count": 29,
   "metadata": {},
   "outputs": [],
   "source": [
    "Elec_Con = Elec_Con.dropna()"
   ]
  },
  {
   "cell_type": "code",
   "execution_count": 30,
   "metadata": {},
   "outputs": [
    {
     "name": "stdout",
     "output_type": "stream",
     "text": [
      "[0 1 0 0 1 2 1 0 1 0 0 1 1 0 1 1 1 1 0 2 0 0 0 0 2 0 1 1 0 0 0 1 1 0 1 1 0\n",
      " 0 1 0 0 0 0 0 0 1 0 1 0 1 1 0 1 1 1 0 1 0 0 0 1 1 0 1 1 0 1 1 1 1 0 0 1 1\n",
      " 1 0 1 0 0 1 0 1 0 0 1 1 1 1 1 1 0 1 1 0 1 1 1 0 0 0 0 0 1 1 0 0 0 0 0 0 0\n",
      " 0 0 1 0 1 0 0 1 0 0 0 1 1 0 0 1 0 0 0 0 0 0 1 1 2 2 0 0 2 0 2 1 1 1 1 0 0\n",
      " 1 0 0 0 0 0 0 1 0 0 2 0 0 0 1 2]\n",
      "Index(['단일계약', '종합계약', '기타'], dtype='object')\n"
     ]
    }
   ],
   "source": [
    "int_EC = pd.factorize(Elec_Con)[0]\n",
    "ind_EC = pd.factorize(Elec_Con)[1]\n",
    "print(int_EC)\n",
    "print(ind_EC)"
   ]
  },
  {
   "cell_type": "code",
   "execution_count": 31,
   "metadata": {},
   "outputs": [
    {
     "data": {
      "text/plain": [
       "0    88\n",
       "1    67\n",
       "2     9\n",
       "dtype: int64"
      ]
     },
     "execution_count": 31,
     "metadata": {},
     "output_type": "execute_result"
    }
   ],
   "source": [
    "count_int_EC = pd.Series(int_EC).value_counts()\n",
    "count_int_EC"
   ]
  },
  {
   "cell_type": "code",
   "execution_count": 32,
   "metadata": {},
   "outputs": [],
   "source": [
    "eng_ind_EC = ['Single', 'Comprehensive', 'Other']"
   ]
  },
  {
   "cell_type": "code",
   "execution_count": 33,
   "metadata": {},
   "outputs": [
    {
     "data": {
      "image/png": "[encoded data removed]",
      "text/plain": [
       "<Figure size 640x480 with 1 Axes>"
      ]
     },
     "metadata": {},
     "output_type": "display_data"
    }
   ],
   "source": [
    "fig, ax = plt.subplots()\n",
    "ax.pie(count_int_EC, labels=eng_ind_EC, autopct='%1.1f%%')\n",
    "plt.show()"
   ]
  },
  {
   "attachments": {},
   "cell_type": "markdown",
   "metadata": {},
   "source": [
    "## Park_Above & Park_Below"
   ]
  },
  {
   "cell_type": "code",
   "execution_count": 10,
   "metadata": {},
   "outputs": [
    {
     "name": "stdout",
     "output_type": "stream",
     "text": [
      "There are 13 null values, and they are located at \n",
      "[ 18  19  63  67  72  90  95 100 101 104 128 154 174]\n",
      "There are 13 null values, and they are located at \n",
      "[ 18  19  63  67  72  90  95 100 101 104 128 154 174]\n"
     ]
    }
   ],
   "source": [
    "Park_Above = df['Park_Above']\n",
    "Park_Below = df['Park_Below']\n",
    "print(f\"There are {Park_Above.isnull().sum()} null values, and they are located at \\n{np.where(Park_Above.isnull())[0]}\")\n",
    "print(f\"There are {Park_Below.isnull().sum()} null values, and they are located at \\n{np.where(Park_Below.isnull())[0]}\")"
   ]
  },
  {
   "cell_type": "code",
   "execution_count": 11,
   "metadata": {},
   "outputs": [
    {
     "data": {
      "text/plain": [
       "0        0\n",
       "1        0\n",
       "2        0\n",
       "3        0\n",
       "4       48\n",
       "      ... \n",
       "170    330\n",
       "171     59\n",
       "172    285\n",
       "173    156\n",
       "175      7\n",
       "Name: Park_Above, Length: 163, dtype: int16"
      ]
     },
     "metadata": {},
     "output_type": "display_data"
    },
    {
     "data": {
      "text/plain": [
       "0      588\n",
       "1      552\n",
       "2      743\n",
       "3      914\n",
       "4      160\n",
       "      ... \n",
       "170      0\n",
       "171    355\n",
       "172      0\n",
       "173      0\n",
       "175     87\n",
       "Name: Park_Below, Length: 163, dtype: int16"
      ]
     },
     "metadata": {},
     "output_type": "display_data"
    }
   ],
   "source": [
    "Park_Above = Park_Above.dropna().astype('int16')\n",
    "Park_Below = Park_Below.dropna().astype('int16')\n",
    "display(Park_Above)\n",
    "display(Park_Below)"
   ]
  },
  {
   "cell_type": "code",
   "execution_count": 12,
   "metadata": {},
   "outputs": [
    {
     "data": {
      "image/png": "[encoded data removed]",
      "text/plain": [
       "<Figure size 640x480 with 1 Axes>"
      ]
     },
     "metadata": {},
     "output_type": "display_data"
    }
   ],
   "source": [
    "fig, ax = plt.subplots()\n",
    "b = int(len(Park_Above)/2)\n",
    "ax.hist(Park_Above, bins = 50)\n",
    "plt.show()"
   ]
  },
  {
   "cell_type": "code",
   "execution_count": 13,
   "metadata": {},
   "outputs": [
    {
     "data": {
      "image/png": "[encoded data removed]",
      "text/plain": [
       "<Figure size 640x480 with 1 Axes>"
      ]
     },
     "metadata": {},
     "output_type": "display_data"
    }
   ],
   "source": [
    "fig, ax = plt.subplots()\n",
    "b = int(len(Park_Below)/2)\n",
    "ax.hist(Park_Below, bins = 50)\n",
    "plt.show()"
   ]
  },
  {
   "cell_type": "code",
   "execution_count": 38,
   "metadata": {},
   "outputs": [
    {
     "data": {
      "text/plain": [
       "count     163.000000\n",
       "mean      266.073620\n",
       "std       533.068644\n",
       "min         0.000000\n",
       "25%         0.000000\n",
       "50%        53.000000\n",
       "75%       337.500000\n",
       "max      3113.000000\n",
       "Name: Park_Above, dtype: float64"
      ]
     },
     "execution_count": 38,
     "metadata": {},
     "output_type": "execute_result"
    }
   ],
   "source": [
    "Park_Above.describe()"
   ]
  },
  {
   "cell_type": "code",
   "execution_count": 39,
   "metadata": {},
   "outputs": [
    {
     "data": {
      "text/plain": [
       "count     163.000000\n",
       "mean      461.607362\n",
       "std       674.046692\n",
       "min         0.000000\n",
       "25%         0.000000\n",
       "50%       250.000000\n",
       "75%       592.000000\n",
       "max      4435.000000\n",
       "Name: Park_Below, dtype: float64"
      ]
     },
     "execution_count": 39,
     "metadata": {},
     "output_type": "execute_result"
    }
   ],
   "source": [
    "Park_Below.describe()"
   ]
  },
  {
   "cell_type": "code",
   "execution_count": 40,
   "metadata": {},
   "outputs": [
    {
     "name": "stdout",
     "output_type": "stream",
     "text": [
      "kaptCode           A10024216\n",
      "bjdCode           1168011400\n",
      "Household_Num           1996\n",
      "Begin_Date        20210730.0\n",
      "Heating_Method          지역난방\n",
      "House_Type               아파트\n",
      "Elec_Con                종합계약\n",
      "Elev_Num                49.0\n",
      "Park_Above            3113.0\n",
      "Park_Below               0.0\n",
      "Name: 144, dtype: object\n",
      "      kaptCode Complex_Name\n",
      "168  A10024216   디에이치 자이 개포\n"
     ]
    }
   ],
   "source": [
    "printApt(Park_Above, df, dfInfo)"
   ]
  },
  {
   "cell_type": "code",
   "execution_count": 41,
   "metadata": {},
   "outputs": [
    {
     "name": "stdout",
     "output_type": "stream",
     "text": [
      "kaptCode           A13527203\n",
      "bjdCode           1168011800\n",
      "Household_Num           3002\n",
      "Begin_Date        20060127.0\n",
      "Heating_Method          지역난방\n",
      "House_Type               아파트\n",
      "Elec_Con                단일계약\n",
      "Elev_Num                64.0\n",
      "Park_Above               0.0\n",
      "Park_Below            4435.0\n",
      "Name: 162, dtype: object\n",
      "      kaptCode Complex_Name\n",
      "191  A13527203         도곡렉슬\n"
     ]
    }
   ],
   "source": [
    "printApt(Park_Below, df, dfInfo)"
   ]
  }
 ],
 "metadata": {
  "kernelspec": {
   "display_name": "ybenv",
   "language": "python",
   "name": "ybenv"
  },
  "language_info": {
   "codemirror_mode": {
    "name": "ipython",
    "version": 3
   },
   "file_extension": ".py",
   "mimetype": "text/x-python",
   "name": "python",
   "nbconvert_exporter": "python",
   "pygments_lexer": "ipython3",
   "version": "3.9.16"
  },
  "orig_nbformat": 4
 },
 "nbformat": 4,
 "nbformat_minor": 2
}
