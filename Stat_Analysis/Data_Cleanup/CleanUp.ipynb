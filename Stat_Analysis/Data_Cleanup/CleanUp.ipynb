{
 "cells": [
  {
   "cell_type": "code",
   "execution_count": null,
   "metadata": {},
   "outputs": [],
   "source": []
  },
  {
   "attachments": {},
   "cell_type": "markdown",
   "metadata": {},
   "source": [
    "If I have time, I would go over all the null values again, but I'm not sure"
   ]
  },
  {
   "attachments": {},
   "cell_type": "markdown",
   "metadata": {},
   "source": [
    "Things to do for cleanup:\n",
    "- Go through all the data in a folder, and record the apartment complex with null data.\n",
    "- Delete the rows corresponding to those apartment complexes in all of the data.\n",
    "- Bring the apartment information, and get the corresponding number of households.\n",
    "- Arrange it in the order of the rows in the energy usage data.\n",
    "- Divide the corresponding values. "
   ]
  },
  {
   "attachments": {},
   "cell_type": "markdown",
   "metadata": {},
   "source": [
    "Columns I need to keep: kaptCode, Date, electP, electC\n",
    "- Then I should get all the apartments separately, and make a time-series dataframe out of all of them,(12+12 = 24 items? this is way too small... but I gotta try)\n",
    "- Maybe I can focus on a specific Gu for now? \n",
    "- I need lots of data!\n",
    "- I also need to get variables from apartment -> main exposure = electricity contract, confounders = elevator number, number of parking lot spaces, begin date"
   ]
  }
 ],
 "metadata": {
  "language_info": {
   "name": "python"
  },
  "orig_nbformat": 4
 },
 "nbformat": 4,
 "nbformat_minor": 2
}
